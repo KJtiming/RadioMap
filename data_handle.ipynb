{
 "cells": [
  {
   "cell_type": "code",
   "execution_count": 1,
   "metadata": {},
   "outputs": [],
   "source": [
    "import numpy as np\n",
    "import math\n",
    "import matplotlib.pyplot as plt\n",
    "import pandas as pd\n",
    "import numpy as np\n",
    "from scipy.stats import anderson\n",
    "import scipy as scipy\n",
    "import seaborn as sns\n",
    "from numpy.random import seed\n",
    "from numpy.random import randn\n",
    "from scipy.stats import normaltest\n",
    "from scipy.stats import shapiro"
   ]
  },
  {
   "cell_type": "code",
   "execution_count": 2,
   "metadata": {},
   "outputs": [
    {
     "name": "stdout",
     "output_type": "stream",
     "text": [
      "         X    Y  PCI  RSRP\n",
      "0      664  179   39 -94.1\n",
      "1      664  179   39 -94.0\n",
      "2      664  179   39 -93.9\n",
      "3      664  179   39 -91.4\n",
      "4      664  179   39 -90.9\n",
      "5      664  179   39 -91.8\n",
      "6      664  179   39 -93.7\n",
      "7      664  179   39 -91.8\n",
      "8      664  179   39 -91.3\n",
      "9      664  179   39 -90.9\n",
      "10     664  179   39 -92.2\n",
      "11     664  179   39 -91.6\n",
      "12     664  179   39 -92.2\n",
      "13     664  179   39 -93.1\n",
      "14     664  179   39 -89.6\n",
      "15     664  179   39 -88.8\n",
      "16     664  179   39 -90.6\n",
      "17     664  179   39 -91.1\n",
      "18     664  179   39 -88.6\n",
      "19     664  179   39 -88.1\n",
      "20     664  179   39 -88.1\n",
      "21     664  179   39 -88.4\n",
      "22     664  179   39 -88.3\n",
      "23     664  179   39 -88.9\n",
      "24     664  179   39 -90.1\n",
      "25     664  179   39 -89.5\n",
      "26     664  179   39 -88.9\n",
      "27     664  179   39 -88.9\n",
      "28     664  179   39 -89.2\n",
      "29     664  179   39 -88.6\n",
      "...    ...  ...  ...   ...\n",
      "54925  253  209   37 -81.6\n",
      "54926  253  209   37 -81.6\n",
      "54927  253  209   37 -81.6\n",
      "54928  253  209   37 -81.6\n",
      "54929  253  209   37 -81.8\n",
      "54930  253  209   37 -81.8\n",
      "54931  253  209   37 -81.8\n",
      "54932  253  209   37 -81.7\n",
      "54933  253  209   37 -81.6\n",
      "54934  253  209   37 -81.6\n",
      "54935  253  209   37 -81.5\n",
      "54936  253  209   37 -81.6\n",
      "54937  253  209   37 -81.7\n",
      "54938  253  209   37 -81.6\n",
      "54939  253  209   37 -81.7\n",
      "54940  253  209   37 -81.6\n",
      "54941  253  209   37 -81.6\n",
      "54942  253  209   37 -81.6\n",
      "54943  253  209   37 -81.8\n",
      "54944  253  209   37 -81.0\n",
      "54945  253  209   37 -82.3\n",
      "54946  253  209   37 -81.5\n",
      "54947  253  209   37 -81.5\n",
      "54948  253  209   37 -83.4\n",
      "54949  253  209   37 -82.8\n",
      "54950  253  209   37 -82.8\n",
      "54951  253  209   37 -82.3\n",
      "54952  253  209   37 -83.2\n",
      "54953  253  209   37 -84.4\n",
      "54954  253  209   37 -83.6\n",
      "\n",
      "[54955 rows x 4 columns]\n"
     ]
    }
   ],
   "source": [
    "#data = np.genfromtxt('./data/18_pdf_19.csv', delimiter=',')\n",
    "#data = np.genfromtxt('./data/data_test.csv', delimiter=',')\n",
    "#data_all = pd.read_csv(\"./data/18_pdf_18_all.csv\")\n",
    "#data_all = pd.read_csv(\"./data/test_3.csv\")\n",
    "data_handle = pd.read_csv('./data/set3_all_test.csv')\n",
    "print (data_handle)"
   ]
  },
  {
   "cell_type": "code",
   "execution_count": null,
   "metadata": {},
   "outputs": [],
   "source": [
    "def number_drift(data):\n",
    "    \n",
    "    x = np.arange(0,10,1)\n",
    "    sigma = 1\n",
    "    def norm_pdf(x,mu,sigma):\n",
    "        pdf = np.exp(-((x - mu)**2) / (2* sigma**2)) / (sigma * np.sqrt(2*np.pi))    \n",
    "        return pdf\n",
    "\n",
    "    mu = 0    \n",
    "    plt.hist(data, bins=100, alpha=0.7)\n",
    "    y = norm_pdf(x, mu, sigma)\n",
    "    #plt.plot(x,y, color='orange', lw=3)\n",
    "    plt.show()\n",
    "    \n",
    "    sns.distplot(data)"
   ]
  },
  {
   "cell_type": "code",
   "execution_count": 19,
   "metadata": {},
   "outputs": [
    {
     "name": "stderr",
     "output_type": "stream",
     "text": [
      "/home/reed/anaconda3/envs/reed_env/lib/python3.7/site-packages/numpy/core/_methods.py:32: RuntimeWarning: invalid value encountered in reduce\n",
      "  return umr_minimum(a, axis, None, out, keepdims, initial)\n",
      "/home/reed/anaconda3/envs/reed_env/lib/python3.7/site-packages/numpy/core/_methods.py:28: RuntimeWarning: invalid value encountered in reduce\n",
      "  return umr_maximum(a, axis, None, out, keepdims, initial)\n"
     ]
    },
    {
     "ename": "ValueError",
     "evalue": "max must be larger than min in range parameter.",
     "output_type": "error",
     "traceback": [
      "\u001b[0;31m---------------------------------------------------------------------------\u001b[0m",
      "\u001b[0;31mValueError\u001b[0m                                Traceback (most recent call last)",
      "\u001b[0;32m<ipython-input-19-7687ad588720>\u001b[0m in \u001b[0;36m<module>\u001b[0;34m()\u001b[0m\n\u001b[0;32m----> 1\u001b[0;31m \u001b[0mnumber_drift\u001b[0m\u001b[0;34m(\u001b[0m\u001b[0mdata\u001b[0m\u001b[0;34m)\u001b[0m\u001b[0;34m\u001b[0m\u001b[0m\n\u001b[0m",
      "\u001b[0;32m<ipython-input-18-5e5cf505045f>\u001b[0m in \u001b[0;36mnumber_drift\u001b[0;34m(data)\u001b[0m\n\u001b[1;32m      8\u001b[0m \u001b[0;34m\u001b[0m\u001b[0m\n\u001b[1;32m      9\u001b[0m     \u001b[0mmu\u001b[0m \u001b[0;34m=\u001b[0m \u001b[0;36m0\u001b[0m\u001b[0;34m\u001b[0m\u001b[0m\n\u001b[0;32m---> 10\u001b[0;31m     \u001b[0mplt\u001b[0m\u001b[0;34m.\u001b[0m\u001b[0mhist\u001b[0m\u001b[0;34m(\u001b[0m\u001b[0mdata\u001b[0m\u001b[0;34m,\u001b[0m \u001b[0mbins\u001b[0m\u001b[0;34m=\u001b[0m\u001b[0;36m100\u001b[0m\u001b[0;34m,\u001b[0m \u001b[0malpha\u001b[0m\u001b[0;34m=\u001b[0m\u001b[0;36m0.7\u001b[0m\u001b[0;34m)\u001b[0m\u001b[0;34m\u001b[0m\u001b[0m\n\u001b[0m\u001b[1;32m     11\u001b[0m     \u001b[0my\u001b[0m \u001b[0;34m=\u001b[0m \u001b[0mnorm_pdf\u001b[0m\u001b[0;34m(\u001b[0m\u001b[0mx\u001b[0m\u001b[0;34m,\u001b[0m \u001b[0mmu\u001b[0m\u001b[0;34m,\u001b[0m \u001b[0msigma\u001b[0m\u001b[0;34m)\u001b[0m\u001b[0;34m\u001b[0m\u001b[0m\n\u001b[1;32m     12\u001b[0m     \u001b[0;31m#plt.plot(x,y, color='orange', lw=3)\u001b[0m\u001b[0;34m\u001b[0m\u001b[0;34m\u001b[0m\u001b[0m\n",
      "\u001b[0;32m~/anaconda3/envs/reed_env/lib/python3.7/site-packages/matplotlib/pyplot.py\u001b[0m in \u001b[0;36mhist\u001b[0;34m(x, bins, range, density, weights, cumulative, bottom, histtype, align, orientation, rwidth, log, color, label, stacked, normed, hold, data, **kwargs)\u001b[0m\n\u001b[1;32m   3135\u001b[0m \u001b[0;32mdef\u001b[0m \u001b[0minferno\u001b[0m\u001b[0;34m(\u001b[0m\u001b[0;34m)\u001b[0m\u001b[0;34m:\u001b[0m\u001b[0;34m\u001b[0m\u001b[0m\n\u001b[1;32m   3136\u001b[0m     \"\"\"\n\u001b[0;32m-> 3137\u001b[0;31m     \u001b[0mSet\u001b[0m \u001b[0mthe\u001b[0m \u001b[0mcolormap\u001b[0m \u001b[0mto\u001b[0m \u001b[0;34m\"inferno\"\u001b[0m\u001b[0;34m.\u001b[0m\u001b[0;34m\u001b[0m\u001b[0m\n\u001b[0m\u001b[1;32m   3138\u001b[0m \u001b[0;34m\u001b[0m\u001b[0m\n\u001b[1;32m   3139\u001b[0m     \u001b[0mThis\u001b[0m \u001b[0mchanges\u001b[0m \u001b[0mthe\u001b[0m \u001b[0mdefault\u001b[0m \u001b[0mcolormap\u001b[0m \u001b[0;32mas\u001b[0m \u001b[0mwell\u001b[0m \u001b[0;32mas\u001b[0m \u001b[0mthe\u001b[0m \u001b[0mcolormap\u001b[0m \u001b[0mof\u001b[0m \u001b[0mthe\u001b[0m \u001b[0mcurrent\u001b[0m\u001b[0;34m\u001b[0m\u001b[0m\n",
      "\u001b[0;32m~/anaconda3/envs/reed_env/lib/python3.7/site-packages/matplotlib/__init__.py\u001b[0m in \u001b[0;36minner\u001b[0;34m(ax, *args, **kwargs)\u001b[0m\n",
      "\u001b[0;32m~/anaconda3/envs/reed_env/lib/python3.7/site-packages/matplotlib/axes/_axes.py\u001b[0m in \u001b[0;36mhist\u001b[0;34m(***failed resolving arguments***)\u001b[0m\n\u001b[1;32m   6637\u001b[0m                 \u001b[0;32mif\u001b[0m \u001b[0mbottom\u001b[0m \u001b[0;32mis\u001b[0m \u001b[0;32mNone\u001b[0m\u001b[0;34m:\u001b[0m\u001b[0;34m\u001b[0m\u001b[0m\n\u001b[1;32m   6638\u001b[0m                     \u001b[0mbottom\u001b[0m \u001b[0;34m=\u001b[0m \u001b[0mnp\u001b[0m\u001b[0;34m.\u001b[0m\u001b[0mzeros\u001b[0m\u001b[0;34m(\u001b[0m\u001b[0mlen\u001b[0m\u001b[0;34m(\u001b[0m\u001b[0mm\u001b[0m\u001b[0;34m)\u001b[0m\u001b[0;34m)\u001b[0m\u001b[0;34m\u001b[0m\u001b[0m\n\u001b[0;32m-> 6639\u001b[0;31m                 \u001b[0;32mif\u001b[0m \u001b[0mstacked\u001b[0m\u001b[0;34m:\u001b[0m\u001b[0;34m\u001b[0m\u001b[0m\n\u001b[0m\u001b[1;32m   6640\u001b[0m                     \u001b[0mheight\u001b[0m \u001b[0;34m=\u001b[0m \u001b[0mm\u001b[0m \u001b[0;34m-\u001b[0m \u001b[0mbottom\u001b[0m\u001b[0;34m\u001b[0m\u001b[0m\n\u001b[1;32m   6641\u001b[0m                 \u001b[0;32melse\u001b[0m\u001b[0;34m:\u001b[0m\u001b[0;34m\u001b[0m\u001b[0m\n",
      "\u001b[0;32m~/anaconda3/envs/reed_env/lib/python3.7/site-packages/numpy/lib/histograms.py\u001b[0m in \u001b[0;36mhistogram\u001b[0;34m(a, bins, range, normed, weights, density)\u001b[0m\n\u001b[1;32m    700\u001b[0m     \u001b[0ma\u001b[0m\u001b[0;34m,\u001b[0m \u001b[0mweights\u001b[0m \u001b[0;34m=\u001b[0m \u001b[0m_ravel_and_check_weights\u001b[0m\u001b[0;34m(\u001b[0m\u001b[0ma\u001b[0m\u001b[0;34m,\u001b[0m \u001b[0mweights\u001b[0m\u001b[0;34m)\u001b[0m\u001b[0;34m\u001b[0m\u001b[0m\n\u001b[1;32m    701\u001b[0m \u001b[0;34m\u001b[0m\u001b[0m\n\u001b[0;32m--> 702\u001b[0;31m     \u001b[0mbin_edges\u001b[0m\u001b[0;34m,\u001b[0m \u001b[0muniform_bins\u001b[0m \u001b[0;34m=\u001b[0m \u001b[0m_get_bin_edges\u001b[0m\u001b[0;34m(\u001b[0m\u001b[0ma\u001b[0m\u001b[0;34m,\u001b[0m \u001b[0mbins\u001b[0m\u001b[0;34m,\u001b[0m \u001b[0mrange\u001b[0m\u001b[0;34m,\u001b[0m \u001b[0mweights\u001b[0m\u001b[0;34m)\u001b[0m\u001b[0;34m\u001b[0m\u001b[0m\n\u001b[0m\u001b[1;32m    703\u001b[0m \u001b[0;34m\u001b[0m\u001b[0m\n\u001b[1;32m    704\u001b[0m     \u001b[0;31m# Histogram is an integer or a float array depending on the weights.\u001b[0m\u001b[0;34m\u001b[0m\u001b[0;34m\u001b[0m\u001b[0m\n",
      "\u001b[0;32m~/anaconda3/envs/reed_env/lib/python3.7/site-packages/numpy/lib/histograms.py\u001b[0m in \u001b[0;36m_get_bin_edges\u001b[0;34m(a, bins, range, weights)\u001b[0m\n\u001b[1;32m    353\u001b[0m             \u001b[0;32mraise\u001b[0m \u001b[0mValueError\u001b[0m\u001b[0;34m(\u001b[0m\u001b[0;34m'`bins` must be positive, when an integer'\u001b[0m\u001b[0;34m)\u001b[0m\u001b[0;34m\u001b[0m\u001b[0m\n\u001b[1;32m    354\u001b[0m \u001b[0;34m\u001b[0m\u001b[0m\n\u001b[0;32m--> 355\u001b[0;31m         \u001b[0mfirst_edge\u001b[0m\u001b[0;34m,\u001b[0m \u001b[0mlast_edge\u001b[0m \u001b[0;34m=\u001b[0m \u001b[0m_get_outer_edges\u001b[0m\u001b[0;34m(\u001b[0m\u001b[0ma\u001b[0m\u001b[0;34m,\u001b[0m \u001b[0mrange\u001b[0m\u001b[0;34m)\u001b[0m\u001b[0;34m\u001b[0m\u001b[0m\n\u001b[0m\u001b[1;32m    356\u001b[0m \u001b[0;34m\u001b[0m\u001b[0m\n\u001b[1;32m    357\u001b[0m     \u001b[0;32melif\u001b[0m \u001b[0mnp\u001b[0m\u001b[0;34m.\u001b[0m\u001b[0mndim\u001b[0m\u001b[0;34m(\u001b[0m\u001b[0mbins\u001b[0m\u001b[0;34m)\u001b[0m \u001b[0;34m==\u001b[0m \u001b[0;36m1\u001b[0m\u001b[0;34m:\u001b[0m\u001b[0;34m\u001b[0m\u001b[0m\n",
      "\u001b[0;32m~/anaconda3/envs/reed_env/lib/python3.7/site-packages/numpy/lib/histograms.py\u001b[0m in \u001b[0;36m_get_outer_edges\u001b[0;34m(a, range)\u001b[0m\n\u001b[1;32m    240\u001b[0m         \u001b[0;32mif\u001b[0m \u001b[0mfirst_edge\u001b[0m \u001b[0;34m>\u001b[0m \u001b[0mlast_edge\u001b[0m\u001b[0;34m:\u001b[0m\u001b[0;34m\u001b[0m\u001b[0m\n\u001b[1;32m    241\u001b[0m             raise ValueError(\n\u001b[0;32m--> 242\u001b[0;31m                 'max must be larger than min in range parameter.')\n\u001b[0m\u001b[1;32m    243\u001b[0m         \u001b[0;32mif\u001b[0m \u001b[0;32mnot\u001b[0m \u001b[0;34m(\u001b[0m\u001b[0mnp\u001b[0m\u001b[0;34m.\u001b[0m\u001b[0misfinite\u001b[0m\u001b[0;34m(\u001b[0m\u001b[0mfirst_edge\u001b[0m\u001b[0;34m)\u001b[0m \u001b[0;32mand\u001b[0m \u001b[0mnp\u001b[0m\u001b[0;34m.\u001b[0m\u001b[0misfinite\u001b[0m\u001b[0;34m(\u001b[0m\u001b[0mlast_edge\u001b[0m\u001b[0;34m)\u001b[0m\u001b[0;34m)\u001b[0m\u001b[0;34m:\u001b[0m\u001b[0;34m\u001b[0m\u001b[0m\n\u001b[1;32m    244\u001b[0m             raise ValueError(\n",
      "\u001b[0;31mValueError\u001b[0m: max must be larger than min in range parameter."
     ]
    },
    {
     "data": {
      "image/png": "[encoded data removed]",
      "text/plain": [
       "<Figure size 432x288 with 1 Axes>"
      ]
     },
     "metadata": {
      "needs_background": "light"
     },
     "output_type": "display_data"
    }
   ],
   "source": [
    "number_drift(data)"
   ]
  },
  {
   "cell_type": "code",
   "execution_count": null,
   "metadata": {},
   "outputs": [],
   "source": [
    "def group(data_all):\n",
    "    X_group_mean = data_all.groupby('PCI').mean()\n",
    "    X_group_std = data_all.groupby('PCI').std()\n",
    "    X_group_median = data_all.groupby('PCI').median()\n",
    "    #X_group_mean = data_all.mean()\n",
    "    #X_group_std = data_all.std()\n",
    "    #X_group_median = data_all.median()\n",
    "    print (X_group_mean)\n",
    "    print (X_group_std)\n",
    "    print (X_group_median)\n",
    "    return X_group_mean,X_group_std"
   ]
  },
  {
   "cell_type": "code",
   "execution_count": null,
   "metadata": {},
   "outputs": [],
   "source": [
    "#X_group_mean,X_group_std = group(data_all)\n",
    "#group(data_all)"
   ]
  },
  {
   "cell_type": "code",
   "execution_count": null,
   "metadata": {},
   "outputs": [],
   "source": [
    "#x = np.linspace(-15, 15, 9)\n",
    "x = np.array([1,1,1,1,1,100,100,50,23,19])\n",
    "#np.savetxt('x.csv', x, delimiter=',', fmt='%f')\n",
    "#anderson(data, dist ='norm' )\n",
    "scipy.stats.scoreatpercentile(data, 95)\n"
   ]
  },
  {
   "cell_type": "code",
   "execution_count": null,
   "metadata": {},
   "outputs": [],
   "source": [
    "print (scipy.stats.normaltest (data, axis=0))\n",
    "k2,p = scipy.stats.normaltest (data, axis=0)\n",
    "alpha = 0.05\n",
    "if p < alpha:\n",
    "    print(\"Sample does not look Gaussian (reject H0),NOT\")\n",
    "else:\n",
    "    print(\"Sample looks Gaussian (fail to reject H0),YES Gaussian!!\")"
   ]
  },
  {
   "cell_type": "code",
   "execution_count": null,
   "metadata": {},
   "outputs": [],
   "source": [
    "scipy.stats.shapiro(data)"
   ]
  },
  {
   "cell_type": "code",
   "execution_count": null,
   "metadata": {},
   "outputs": [],
   "source": [
    "##### Anderson-Darling Test #####\n",
    "# seed the random number generator\n",
    "seed(1)\n",
    "# normality test\n",
    "#data = 5 * randn(100) + 50\n",
    "result = anderson(data)\n",
    "\n",
    "print('Statistic: %.3f' % result.statistic)\n",
    "p = 0\n",
    "for i in range(len(result.critical_values)):\n",
    "\tsl, cv = result.significance_level[i], result.critical_values[i]\n",
    "\tif result.statistic < result.critical_values[i]:\n",
    "\t\tprint('%.3f: %.3f, data looks normal (fail to reject H0)' % (sl, cv))\n",
    "\telse:\n",
    "\t\tprint('%.3f: %.3f, data does not look normal (reject H0)' % (sl, cv))"
   ]
  },
  {
   "cell_type": "code",
   "execution_count": null,
   "metadata": {},
   "outputs": [],
   "source": [
    "##### D’Agostino’s K^2 Test #####\n",
    "# normality test\n",
    "stat, p = normaltest(data)\n",
    "print('Statistics=%.3f, p=%.3f' % (stat, p))\n",
    "# interpret\n",
    "alpha = 0.05\n",
    "if p > alpha:\n",
    "\tprint('Sample looks Gaussian (fail to reject H0)')\n",
    "else:\n",
    "\tprint('Sample does not look Gaussian (reject H0)')"
   ]
  },
  {
   "cell_type": "code",
   "execution_count": null,
   "metadata": {},
   "outputs": [],
   "source": [
    "##### Shapiro-Wilk Test #####\n",
    "# normality test\n",
    "stat, p = shapiro(data)\n",
    "print('Statistics=%.3f, p=%.3f' % (stat, p))\n",
    "# interpret\n",
    "alpha = 0.05\n",
    "if p > alpha:\n",
    "\tprint('Sample looks Gaussian (fail to reject H0)')\n",
    "else:\n",
    "\tprint('Sample does not look Gaussian (reject H0)')"
   ]
  },
  {
   "cell_type": "code",
   "execution_count": 3,
   "metadata": {},
   "outputs": [],
   "source": [
    "def group_drift(data_handle):\n",
    "    #df.groupby('X','Y','PCI').transform(lambda x: x - x.mean())\n",
    "    group_mean = data_handle.groupby(['X','Y','PCI']).mean()\n",
    "    group_drift = data_handle.groupby(['X','Y','PCI']).transform(lambda x: x - x.mean())\n",
    "    return group_mean,group_drift"
   ]
  },
  {
   "cell_type": "code",
   "execution_count": 4,
   "metadata": {},
   "outputs": [
    {
     "name": "stdout",
     "output_type": "stream",
     "text": [
      "                   RSRP\n",
      "X   Y   PCI            \n",
      "113 202 37  -110.180000\n",
      "        39  -115.000000\n",
      "    221 37  -116.585714\n",
      "        39  -119.691304\n",
      "114 184 37  -116.385714\n",
      "127 184 37  -119.250000\n",
      "        39  -124.875000\n",
      "129 202 37  -119.433333\n",
      "        39  -124.860000\n",
      "    221 37  -119.250000\n",
      "        39  -123.133333\n",
      "135 212 37  -100.953333\n",
      "        39  -106.982353\n",
      "148 211 37   -96.856497\n",
      "        39  -103.400000\n",
      "164 213 37  -100.440870\n",
      "177 212 37   -98.876772\n",
      "193 212 37   -94.596491\n",
      "208 212 37   -90.343939\n",
      "222 211 37   -85.604851\n",
      "237 212 37   -83.239453\n",
      "253 209 37   -82.021795\n",
      "270 211 37   -87.312821\n",
      "283 212 37   -94.737594\n",
      "297 211 37   -94.865690\n",
      "313 211 37   -90.679167\n",
      "326 212 37  -101.739130\n",
      "338 211 37  -106.900000\n",
      "        38  -115.450000\n",
      "        39  -107.275000\n",
      "...                 ...\n",
      "830 125 41   -86.230508\n",
      "        247 -126.620202\n",
      "    150 41   -84.688645\n",
      "832 212 41   -87.232700\n",
      "844 210 41   -97.218341\n",
      "850 183 42  -100.069048\n",
      "    200 39  -107.900000\n",
      "        42   -97.611522\n",
      "    223 39  -108.106897\n",
      "        41  -103.280000\n",
      "        42  -104.212500\n",
      "865 182 42   -90.371739\n",
      "866 201 39  -107.666667\n",
      "        41  -105.266667\n",
      "        42  -103.275000\n",
      "869 221 39  -108.120000\n",
      "        41   -95.387234\n",
      "        42  -113.833333\n",
      "880 175 42   -85.858309\n",
      "882 135 42   -82.173180\n",
      "    160 42   -73.450152\n",
      "    187 42  -100.470042\n",
      "883 150 42   -77.341337\n",
      "898 152 42   -69.560299\n",
      "899 160 42   -74.300810\n",
      "    175 42   -74.935127\n",
      "    188 42   -99.299611\n",
      "914 175 42   -75.121791\n",
      "915 162 42   -69.618325\n",
      "916 151 42   -69.256658\n",
      "\n",
      "[284 rows x 1 columns]\n"
     ]
    }
   ],
   "source": [
    "group_mean,group_drift = group_drift(data_handle)\n",
    "print (group_mean)\n",
    "group_mean.to_csv('group_mean.csv')"
   ]
  },
  {
   "cell_type": "code",
   "execution_count": 5,
   "metadata": {},
   "outputs": [
    {
     "name": "stdout",
     "output_type": "stream",
     "text": [
      "           RSRP\n",
      "0     -6.617152\n",
      "1     -6.517152\n",
      "2     -6.417152\n",
      "3     -3.917152\n",
      "4     -3.417152\n",
      "5     -4.317152\n",
      "6     -6.217152\n",
      "7     -4.317152\n",
      "8     -3.817152\n",
      "9     -3.417152\n",
      "10    -4.717152\n",
      "11    -4.117152\n",
      "12    -4.717152\n",
      "13    -5.617152\n",
      "14    -2.117152\n",
      "15    -1.317152\n",
      "16    -3.117152\n",
      "17    -3.617152\n",
      "18    -1.117152\n",
      "19    -0.617152\n",
      "20    -0.617152\n",
      "21    -0.917152\n",
      "22    -0.817152\n",
      "23    -1.417152\n",
      "24    -2.617152\n",
      "25    -2.017152\n",
      "26    -1.417152\n",
      "27    -1.417152\n",
      "28    -1.717152\n",
      "29    -1.117152\n",
      "...         ...\n",
      "54925  0.421795\n",
      "54926  0.421795\n",
      "54927  0.421795\n",
      "54928  0.421795\n",
      "54929  0.221795\n",
      "54930  0.221795\n",
      "54931  0.221795\n",
      "54932  0.321795\n",
      "54933  0.421795\n",
      "54934  0.421795\n",
      "54935  0.521795\n",
      "54936  0.421795\n",
      "54937  0.321795\n",
      "54938  0.421795\n",
      "54939  0.321795\n",
      "54940  0.421795\n",
      "54941  0.421795\n",
      "54942  0.421795\n",
      "54943  0.221795\n",
      "54944  1.021795\n",
      "54945 -0.278205\n",
      "54946  0.521795\n",
      "54947  0.521795\n",
      "54948 -1.378205\n",
      "54949 -0.778205\n",
      "54950 -0.778205\n",
      "54951 -0.278205\n",
      "54952 -1.178205\n",
      "54953 -2.378205\n",
      "54954 -1.578205\n",
      "\n",
      "[54955 rows x 1 columns]\n"
     ]
    }
   ],
   "source": [
    "print (group_drift)"
   ]
  },
  {
   "cell_type": "code",
   "execution_count": 6,
   "metadata": {},
   "outputs": [
    {
     "name": "stdout",
     "output_type": "stream",
     "text": [
      "           RSRP\n",
      "11841  1.131737\n",
      "11842  2.231737\n",
      "11843  2.031737\n",
      "11844  1.531737\n",
      "11845  1.531737\n",
      "11846  1.531737\n",
      "11847  1.331737\n",
      "11848 -0.468263\n",
      "11849 -0.768263\n",
      "11850 -0.768263\n",
      "11851 -1.268263\n",
      "11852  0.331737\n",
      "11853 -0.068263\n",
      "11854 -0.068263\n",
      "11855 -0.168263\n",
      "11856  1.731737\n",
      "11857  1.631737\n",
      "11858  1.931737\n",
      "11859  2.031737\n",
      "11860  2.031737\n",
      "11861  1.731737\n",
      "11862  1.631737\n",
      "11863  1.031737\n",
      "11864  1.431737\n",
      "11865  1.231737\n",
      "11866  1.531737\n",
      "11867  1.531737\n",
      "11868  1.331737\n",
      "11869  1.531737\n",
      "11870  1.531737\n",
      "11871  1.331737\n",
      "11872  1.431737\n",
      "11873  1.831737\n",
      "11874  1.731737\n",
      "11875  1.731737\n",
      "11876  1.231737\n",
      "11877  1.031737\n",
      "11878  1.231737\n",
      "11879  1.031737\n",
      "11880  0.831737\n",
      "11881  0.531737\n",
      "11882  0.831737\n",
      "11883  0.831737\n"
     ]
    }
   ],
   "source": [
    "print(group_drift[11841:11884])  \n",
    "group_drift.to_csv('group_drift.csv')"
   ]
  },
  {
   "cell_type": "code",
   "execution_count": 7,
   "metadata": {},
   "outputs": [],
   "source": [
    "#data = np.genfromtxt('./data/data_test.csv', delimiter=',')"
   ]
  },
  {
   "cell_type": "code",
   "execution_count": 8,
   "metadata": {},
   "outputs": [
    {
     "data": {
      "image/png": "[encoded data removed]",
      "text/plain": [
       "<Figure size 432x288 with 1 Axes>"
      ]
     },
     "metadata": {
      "needs_background": "light"
     },
     "output_type": "display_data"
    },
    {
     "name": "stderr",
     "output_type": "stream",
     "text": [
      "/home/reed/anaconda3/envs/reed_env/lib/python3.7/site-packages/scipy/stats/stats.py:1713: FutureWarning: Using a non-tuple sequence for multidimensional indexing is deprecated; use `arr[tuple(seq)]` instead of `arr[seq]`. In the future this will be interpreted as an array index, `arr[np.array(seq)]`, which will result either in an error or a different result.\n",
      "  return np.add.reduce(sorted[indexer] * weights, axis=axis) / sumval\n"
     ]
    },
    {
     "data": {
      "image/png": "[encoded data removed]",
      "text/plain": [
       "<Figure size 432x288 with 1 Axes>"
      ]
     },
     "metadata": {
      "needs_background": "light"
     },
     "output_type": "display_data"
    }
   ],
   "source": [
    "def number_drift(group_drift):\n",
    "    \n",
    "    x = np.arange(0,10,1)\n",
    "    sigma = 1\n",
    "    def norm_pdf(x,mu,sigma):\n",
    "        pdf = np.exp(-((x - mu)**2) / (2* sigma**2)) / (sigma * np.sqrt(2*np.pi))    \n",
    "        return pdf\n",
    "\n",
    "    mu = 0    \n",
    "    plt.hist(group_drift, bins=100, alpha=0.7)\n",
    "    y = norm_pdf(x, mu, sigma)\n",
    "    #plt.plot(x,y, color='orange', lw=3)\n",
    "    plt.show()\n",
    "    \n",
    "    sns.distplot(group_drift)\n",
    "number_drift(group_drift['RSRP'])"
   ]
  },
  {
   "cell_type": "code",
   "execution_count": 9,
   "metadata": {},
   "outputs": [
    {
     "name": "stdout",
     "output_type": "stream",
     "text": [
      "Statistics=0.838, p=0.000\n",
      "Sample does not look Gaussian (reject H0)\n"
     ]
    },
    {
     "name": "stderr",
     "output_type": "stream",
     "text": [
      "/home/reed/anaconda3/envs/reed_env/lib/python3.7/site-packages/scipy/stats/morestats.py:1309: UserWarning: p-value may not be accurate for N > 5000.\n",
      "  warnings.warn(\"p-value may not be accurate for N > 5000.\")\n"
     ]
    }
   ],
   "source": [
    "##### Shapiro-Wilk Test #####\n",
    "# normality test\n",
    "stat, p = shapiro(group_drift['RSRP'])\n",
    "print('Statistics=%.3f, p=%.3f' % (stat, p))\n",
    "# interpret\n",
    "alpha = 0.05\n",
    "if p > alpha:\n",
    "\tprint('Sample looks Gaussian (fail to reject H0)')\n",
    "else:\n",
    "\tprint('Sample does not look Gaussian (reject H0)')"
   ]
  },
  {
   "cell_type": "code",
   "execution_count": null,
   "metadata": {},
   "outputs": [],
   "source": []
  }
 ],
 "metadata": {
  "kernelspec": {
   "display_name": "Python 3",
   "language": "python",
   "name": "python3"
  },
  "language_info": {
   "codemirror_mode": {
    "name": "ipython",
    "version": 3
   },
   "file_extension": ".py",
   "mimetype": "text/x-python",
   "name": "python",
   "nbconvert_exporter": "python",
   "pygments_lexer": "ipython3",
   "version": "3.7.0"
  }
 },
 "nbformat": 4,
 "nbformat_minor": 2
}
