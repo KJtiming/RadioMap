{
 "cells": [
  {
   "cell_type": "code",
   "execution_count": 730,
   "metadata": {},
   "outputs": [],
   "source": [
    "import numpy as np\n",
    "import math\n",
    "import matplotlib.pyplot as plt\n",
    "import pandas as pd\n",
    "import numpy as np\n",
    "from scipy.stats import anderson\n",
    "import scipy as scipy\n",
    "import seaborn as sns\n",
    "from numpy.random import seed\n",
    "from numpy.random import randn\n",
    "from scipy.stats import normaltest\n",
    "from scipy.stats import shapiro"
   ]
  },
  {
   "cell_type": "code",
   "execution_count": 754,
   "metadata": {},
   "outputs": [],
   "source": [
    "#data = np.genfromtxt('./data/18_pdf_19.csv', delimiter=',')\n",
    "data = np.genfromtxt('./data/set102_pdf.csv', delimiter=',')\n",
    "data_all = pd.read_csv(\"./data/18_pdf_18_all.csv\")\n",
    "#data_all = pd.read_csv(\"./data/test_3.csv\")"
   ]
  },
  {
   "cell_type": "code",
   "execution_count": 755,
   "metadata": {},
   "outputs": [],
   "source": [
    "def number_drift(data):\n",
    "    \n",
    "    x = np.arange(0,10,1)\n",
    "    sigma = 1\n",
    "    def norm_pdf(x,mu,sigma):\n",
    "        pdf = np.exp(-((x - mu)**2) / (2* sigma**2)) / (sigma * np.sqrt(2*np.pi))    \n",
    "        return pdf\n",
    "\n",
    "    mu = 0    \n",
    "    plt.hist(data, bins=100, alpha=0.7)\n",
    "    y = norm_pdf(x, mu, sigma)\n",
    "    #plt.plot(x,y, color='orange', lw=3)\n",
    "    plt.show()\n",
    "    \n",
    "    sns.distplot(data)"
   ]
  },
  {
   "cell_type": "code",
   "execution_count": 756,
   "metadata": {},
   "outputs": [
    {
     "data": {
      "image/png": "[encoded data removed]",
      "text/plain": [
       "<Figure size 432x288 with 1 Axes>"
      ]
     },
     "metadata": {},
     "output_type": "display_data"
    },
    {
     "data": {
      "image/png": "[encoded data removed]",
      "text/plain": [
       "<Figure size 432x288 with 1 Axes>"
      ]
     },
     "metadata": {},
     "output_type": "display_data"
    }
   ],
   "source": [
    "number_drift(data)"
   ]
  },
  {
   "cell_type": "code",
   "execution_count": 734,
   "metadata": {},
   "outputs": [],
   "source": [
    "def group(data_all):\n",
    "    X_group_mean = data_all.groupby('PCI').mean()\n",
    "    X_group_std = data_all.groupby('PCI').std()\n",
    "    X_group_median = data_all.groupby('PCI').median()\n",
    "    #X_group_mean = data_all.mean()\n",
    "    #X_group_std = data_all.std()\n",
    "    #X_group_median = data_all.median()\n",
    "    print (X_group_mean)\n",
    "    print (X_group_std)\n",
    "    print (X_group_median)\n",
    "    return X_group_mean,X_group_std"
   ]
  },
  {
   "cell_type": "code",
   "execution_count": 735,
   "metadata": {},
   "outputs": [
    {
     "name": "stdout",
     "output_type": "stream",
     "text": [
      "       X    Y       RSRP\n",
      "PCI                     \n",
      "42   851  201 -93.295327\n",
      "       X    Y      RSRP\n",
      "PCI                    \n",
      "42   0.0  0.0  0.787268\n",
      "       X    Y  RSRP\n",
      "PCI                \n",
      "42   851  201 -93.1\n"
     ]
    }
   ],
   "source": [
    "X_group_mean,X_group_std = group(data_all)\n",
    "#group(data_all)"
   ]
  },
  {
   "cell_type": "code",
   "execution_count": 736,
   "metadata": {},
   "outputs": [
    {
     "data": {
      "text/plain": [
       "0.220598349"
      ]
     },
     "execution_count": 736,
     "metadata": {},
     "output_type": "execute_result"
    }
   ],
   "source": [
    "#x = np.linspace(-15, 15, 9)\n",
    "x = np.array([1,1,1,1,1,100,100,50,23,19])\n",
    "#np.savetxt('x.csv', x, delimiter=',', fmt='%f')\n",
    "#anderson(data, dist ='norm' )\n",
    "scipy.stats.scoreatpercentile(data, 95)\n"
   ]
  },
  {
   "cell_type": "code",
   "execution_count": 737,
   "metadata": {},
   "outputs": [
    {
     "name": "stdout",
     "output_type": "stream",
     "text": [
      "NormaltestResult(statistic=8986.197430035303, pvalue=0.0)\n",
      "Sample does not look Gaussian (reject H0),NOT\n"
     ]
    }
   ],
   "source": [
    "print (scipy.stats.normaltest (data, axis=0))\n",
    "k2,p = scipy.stats.normaltest (data, axis=0)\n",
    "alpha = 0.05\n",
    "if p < alpha:\n",
    "    print(\"Sample does not look Gaussian (reject H0),NOT\")\n",
    "else:\n",
    "    print(\"Sample looks Gaussian (fail to reject H0),YES Gaussian!!\")"
   ]
  },
  {
   "cell_type": "code",
   "execution_count": 738,
   "metadata": {},
   "outputs": [
    {
     "name": "stderr",
     "output_type": "stream",
     "text": [
      "/usr/local/lib/python3.5/site-packages/scipy/stats/morestats.py:1309: UserWarning: p-value may not be accurate for N > 5000.\n",
      "  warnings.warn(\"p-value may not be accurate for N > 5000.\")\n"
     ]
    },
    {
     "data": {
      "text/plain": [
       "(0.3909868001937866, 0.0)"
      ]
     },
     "execution_count": 738,
     "metadata": {},
     "output_type": "execute_result"
    }
   ],
   "source": [
    "scipy.stats.shapiro(data)"
   ]
  },
  {
   "cell_type": "code",
   "execution_count": 739,
   "metadata": {},
   "outputs": [
    {
     "name": "stdout",
     "output_type": "stream",
     "text": [
      "Statistic: 598.140\n",
      "15.000: 0.576, data does not look normal (reject H0)\n",
      "10.000: 0.656, data does not look normal (reject H0)\n",
      "5.000: 0.786, data does not look normal (reject H0)\n",
      "2.500: 0.917, data does not look normal (reject H0)\n",
      "1.000: 1.091, data does not look normal (reject H0)\n"
     ]
    }
   ],
   "source": [
    "##### Anderson-Darling Test #####\n",
    "# seed the random number generator\n",
    "seed(1)\n",
    "# normality test\n",
    "#data = 5 * randn(100) + 50\n",
    "result = anderson(data)\n",
    "\n",
    "print('Statistic: %.3f' % result.statistic)\n",
    "p = 0\n",
    "for i in range(len(result.critical_values)):\n",
    "\tsl, cv = result.significance_level[i], result.critical_values[i]\n",
    "\tif result.statistic < result.critical_values[i]:\n",
    "\t\tprint('%.3f: %.3f, data looks normal (fail to reject H0)' % (sl, cv))\n",
    "\telse:\n",
    "\t\tprint('%.3f: %.3f, data does not look normal (reject H0)' % (sl, cv))"
   ]
  },
  {
   "cell_type": "code",
   "execution_count": 740,
   "metadata": {},
   "outputs": [
    {
     "name": "stdout",
     "output_type": "stream",
     "text": [
      "Statistics=8986.197, p=0.000\n",
      "Sample does not look Gaussian (reject H0)\n"
     ]
    }
   ],
   "source": [
    "##### D’Agostino’s K^2 Test #####\n",
    "# normality test\n",
    "stat, p = normaltest(data)\n",
    "print('Statistics=%.3f, p=%.3f' % (stat, p))\n",
    "# interpret\n",
    "alpha = 0.05\n",
    "if p > alpha:\n",
    "\tprint('Sample looks Gaussian (fail to reject H0)')\n",
    "else:\n",
    "\tprint('Sample does not look Gaussian (reject H0)')"
   ]
  },
  {
   "cell_type": "code",
   "execution_count": 741,
   "metadata": {},
   "outputs": [
    {
     "name": "stdout",
     "output_type": "stream",
     "text": [
      "Statistics=0.391, p=0.000\n",
      "Sample does not look Gaussian (reject H0)\n"
     ]
    },
    {
     "name": "stderr",
     "output_type": "stream",
     "text": [
      "/usr/local/lib/python3.5/site-packages/scipy/stats/morestats.py:1309: UserWarning: p-value may not be accurate for N > 5000.\n",
      "  warnings.warn(\"p-value may not be accurate for N > 5000.\")\n"
     ]
    }
   ],
   "source": [
    "##### Shapiro-Wilk Test #####\n",
    "# normality test\n",
    "stat, p = shapiro(data)\n",
    "print('Statistics=%.3f, p=%.3f' % (stat, p))\n",
    "# interpret\n",
    "alpha = 0.05\n",
    "if p > alpha:\n",
    "\tprint('Sample looks Gaussian (fail to reject H0)')\n",
    "else:\n",
    "\tprint('Sample does not look Gaussian (reject H0)')"
   ]
  },
  {
   "cell_type": "code",
   "execution_count": null,
   "metadata": {},
   "outputs": [],
   "source": []
  }
 ],
 "metadata": {
  "kernelspec": {
   "display_name": "Python 3",
   "language": "python",
   "name": "python3"
  },
  "language_info": {
   "codemirror_mode": {
    "name": "ipython",
    "version": 3
   },
   "file_extension": ".py",
   "mimetype": "text/x-python",
   "name": "python",
   "nbconvert_exporter": "python",
   "pygments_lexer": "ipython3",
   "version": "3.5.0"
  }
 },
 "nbformat": 4,
 "nbformat_minor": 2
}
