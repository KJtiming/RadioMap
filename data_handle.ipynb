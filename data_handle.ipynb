{
 "cells": [
  {
   "cell_type": "code",
   "execution_count": 5,
   "metadata": {},
   "outputs": [],
   "source": [
    "import numpy as np\n",
    "import math\n",
    "import matplotlib.pyplot as plt\n",
    "import pandas as pd\n",
    "import numpy as np\n",
    "from scipy.stats import anderson\n",
    "import scipy as scipy\n",
    "import seaborn as sns\n",
    "from numpy.random import seed\n",
    "from numpy.random import randn\n",
    "from scipy.stats import normaltest\n",
    "from scipy.stats import shapiro"
   ]
  },
  {
   "cell_type": "code",
   "execution_count": 6,
   "metadata": {},
   "outputs": [
    {
     "name": "stdout",
     "output_type": "stream",
     "text": [
      "       7.487603\n",
      "0      7.487603\n",
      "1      7.442800\n",
      "2      7.442800\n",
      "3      7.442800\n",
      "4      7.432841\n",
      "5      7.432841\n",
      "6      7.432841\n",
      "7      7.432841\n",
      "8      7.432841\n",
      "9      7.432841\n",
      "10     7.432841\n",
      "11     7.432841\n",
      "12     7.425163\n",
      "13     7.420161\n",
      "14     7.420161\n",
      "15     7.420161\n",
      "16     7.415226\n",
      "17     7.415226\n",
      "18     7.415226\n",
      "19     7.415226\n",
      "20     7.415226\n",
      "21     7.415226\n",
      "22     7.415226\n",
      "23     7.415226\n",
      "24     7.415226\n",
      "25     7.415226\n",
      "26     7.415226\n",
      "27     7.415226\n",
      "28     7.415226\n",
      "29     7.415226\n",
      "...         ...\n",
      "42123 -7.431618\n",
      "42124 -7.431618\n",
      "42125 -7.436570\n",
      "42126 -7.451953\n",
      "42127 -7.451953\n",
      "42128 -7.453521\n",
      "42129 -7.453521\n",
      "42130 -7.453521\n",
      "42131 -7.458750\n",
      "42132 -7.458750\n",
      "42133 -7.458750\n",
      "42134 -7.458750\n",
      "42135 -7.458750\n",
      "42136 -7.458750\n",
      "42137 -7.462780\n",
      "42138 -7.462780\n",
      "42139 -7.462780\n",
      "42140 -7.462780\n",
      "42141 -7.462780\n",
      "42142 -7.474031\n",
      "42143 -7.474837\n",
      "42144 -7.476842\n",
      "42145 -7.476842\n",
      "42146 -7.476842\n",
      "42147 -7.476842\n",
      "42148 -7.476842\n",
      "42149 -7.476842\n",
      "42150 -7.478298\n",
      "42151 -7.478298\n",
      "42152 -7.485965\n",
      "\n",
      "[42153 rows x 1 columns]\n"
     ]
    }
   ],
   "source": [
    "#data = np.genfromtxt('./data/18_pdf_19.csv', delimiter=',')\n",
    "#data = np.genfromtxt('./data/data_test.csv', delimiter=',')\n",
    "#data_all = pd.read_csv(\"./data/18_pdf_18_all.csv\")\n",
    "#data_all = pd.read_csv(\"./data/test_3.csv\")\n",
    "data_handle = pd.read_csv('./data/test_3.csv')\n",
    "print (data_handle)"
   ]
  },
  {
   "cell_type": "code",
   "execution_count": 7,
   "metadata": {},
   "outputs": [],
   "source": [
    "def number_drift(data):\n",
    "    \n",
    "    x = np.arange(0,10,1)\n",
    "    sigma = 1\n",
    "    def norm_pdf(x,mu,sigma):\n",
    "        pdf = np.exp(-((x - mu)**2) / (2* sigma**2)) / (sigma * np.sqrt(2*np.pi))    \n",
    "        return pdf\n",
    "\n",
    "    mu = 0    \n",
    "    plt.hist(data, bins=100, alpha=0.7)\n",
    "    y = norm_pdf(x, mu, sigma)\n",
    "    #plt.plot(x,y, color='orange', lw=3)\n",
    "    plt.show()\n",
    "    \n",
    "    sns.distplot(data)"
   ]
  },
  {
   "cell_type": "code",
   "execution_count": 8,
   "metadata": {},
   "outputs": [
    {
     "ename": "NameError",
     "evalue": "name 'data' is not defined",
     "output_type": "error",
     "traceback": [
      "\u001b[0;31m---------------------------------------------------------------------------\u001b[0m",
      "\u001b[0;31mNameError\u001b[0m                                 Traceback (most recent call last)",
      "\u001b[0;32m<ipython-input-8-7687ad588720>\u001b[0m in \u001b[0;36m<module>\u001b[0;34m()\u001b[0m\n\u001b[0;32m----> 1\u001b[0;31m \u001b[0mnumber_drift\u001b[0m\u001b[0;34m(\u001b[0m\u001b[0mdata\u001b[0m\u001b[0;34m)\u001b[0m\u001b[0;34m\u001b[0m\u001b[0m\n\u001b[0m",
      "\u001b[0;31mNameError\u001b[0m: name 'data' is not defined"
     ]
    }
   ],
   "source": [
    "number_drift(data)"
   ]
  },
  {
   "cell_type": "code",
   "execution_count": null,
   "metadata": {},
   "outputs": [],
   "source": [
    "def group(data_all):\n",
    "    X_group_mean = data_all.groupby('PCI').mean()\n",
    "    X_group_std = data_all.groupby('PCI').std()\n",
    "    X_group_median = data_all.groupby('PCI').median()\n",
    "    #X_group_mean = data_all.mean()\n",
    "    #X_group_std = data_all.std()\n",
    "    #X_group_median = data_all.median()\n",
    "    print (X_group_mean)\n",
    "    print (X_group_std)\n",
    "    print (X_group_median)\n",
    "    return X_group_mean,X_group_std"
   ]
  },
  {
   "cell_type": "code",
   "execution_count": null,
   "metadata": {},
   "outputs": [],
   "source": [
    "#X_group_mean,X_group_std = group(data_all)\n",
    "#group(data_all)"
   ]
  },
  {
   "cell_type": "code",
   "execution_count": null,
   "metadata": {},
   "outputs": [],
   "source": [
    "#x = np.linspace(-15, 15, 9)\n",
    "x = np.array([1,1,1,1,1,100,100,50,23,19])\n",
    "#np.savetxt('x.csv', x, delimiter=',', fmt='%f')\n",
    "#anderson(data, dist ='norm' )\n",
    "scipy.stats.scoreatpercentile(data, 95)\n"
   ]
  },
  {
   "cell_type": "code",
   "execution_count": null,
   "metadata": {},
   "outputs": [],
   "source": [
    "print (scipy.stats.normaltest (data, axis=0))\n",
    "k2,p = scipy.stats.normaltest (data, axis=0)\n",
    "alpha = 0.05\n",
    "if p < alpha:\n",
    "    print(\"Sample does not look Gaussian (reject H0),NOT\")\n",
    "else:\n",
    "    print(\"Sample looks Gaussian (fail to reject H0),YES Gaussian!!\")"
   ]
  },
  {
   "cell_type": "code",
   "execution_count": null,
   "metadata": {},
   "outputs": [],
   "source": [
    "scipy.stats.shapiro(data)"
   ]
  },
  {
   "cell_type": "code",
   "execution_count": null,
   "metadata": {},
   "outputs": [],
   "source": [
    "##### Anderson-Darling Test #####\n",
    "# seed the random number generator\n",
    "seed(1)\n",
    "# normality test\n",
    "#data = 5 * randn(100) + 50\n",
    "result = anderson(data)\n",
    "\n",
    "print('Statistic: %.3f' % result.statistic)\n",
    "p = 0\n",
    "for i in range(len(result.critical_values)):\n",
    "\tsl, cv = result.significance_level[i], result.critical_values[i]\n",
    "\tif result.statistic < result.critical_values[i]:\n",
    "\t\tprint('%.3f: %.3f, data looks normal (fail to reject H0)' % (sl, cv))\n",
    "\telse:\n",
    "\t\tprint('%.3f: %.3f, data does not look normal (reject H0)' % (sl, cv))"
   ]
  },
  {
   "cell_type": "code",
   "execution_count": null,
   "metadata": {},
   "outputs": [],
   "source": [
    "##### D’Agostino’s K^2 Test #####\n",
    "# normality test\n",
    "stat, p = normaltest(data)\n",
    "print('Statistics=%.3f, p=%.3f' % (stat, p))\n",
    "# interpret\n",
    "alpha = 0.05\n",
    "if p > alpha:\n",
    "\tprint('Sample looks Gaussian (fail to reject H0)')\n",
    "else:\n",
    "\tprint('Sample does not look Gaussian (reject H0)')"
   ]
  },
  {
   "cell_type": "code",
   "execution_count": null,
   "metadata": {},
   "outputs": [],
   "source": [
    "##### Shapiro-Wilk Test #####\n",
    "# normality test\n",
    "stat, p = shapiro(data)\n",
    "print('Statistics=%.3f, p=%.3f' % (stat, p))\n",
    "# interpret\n",
    "alpha = 0.05\n",
    "if p > alpha:\n",
    "\tprint('Sample looks Gaussian (fail to reject H0)')\n",
    "else:\n",
    "\tprint('Sample does not look Gaussian (reject H0)')"
   ]
  },
  {
   "cell_type": "code",
   "execution_count": null,
   "metadata": {},
   "outputs": [],
   "source": [
    "def group_drift(data_handle):\n",
    "    #df.groupby('X','Y','PCI').transform(lambda x: x - x.mean())\n",
    "    group_mean = data_handle.groupby(['X','Y','PCI']).mean()\n",
    "    group_drift = data_handle.groupby(['X','Y','PCI']).transform(lambda x: x - x.mean())\n",
    "    return group_mean,group_drift"
   ]
  },
  {
   "cell_type": "code",
   "execution_count": null,
   "metadata": {},
   "outputs": [],
   "source": [
    "group_mean,group_drift = group_drift(data_handle)\n",
    "print (group_mean)\n",
    "group_mean.to_csv('group_mean.csv')"
   ]
  },
  {
   "cell_type": "code",
   "execution_count": null,
   "metadata": {},
   "outputs": [],
   "source": [
    "print (group_drift)"
   ]
  },
  {
   "cell_type": "code",
   "execution_count": null,
   "metadata": {},
   "outputs": [],
   "source": [
    "print(group_drift[11841:11884])  \n",
    "group_drift.to_csv('group_drift.csv')"
   ]
  },
  {
   "cell_type": "code",
   "execution_count": null,
   "metadata": {},
   "outputs": [],
   "source": [
    "#data = np.genfromtxt('./data/data_test.csv', delimiter=',')"
   ]
  },
  {
   "cell_type": "code",
   "execution_count": null,
   "metadata": {},
   "outputs": [],
   "source": [
    "def number_drift(group_drift):\n",
    "    \n",
    "    x = np.arange(0,10,1)\n",
    "    sigma = 1\n",
    "    def norm_pdf(x,mu,sigma):\n",
    "        pdf = np.exp(-((x - mu)**2) / (2* sigma**2)) / (sigma * np.sqrt(2*np.pi))    \n",
    "        return pdf\n",
    "\n",
    "    mu = 0    \n",
    "    plt.hist(group_drift, bins=100, alpha=0.7)\n",
    "    y = norm_pdf(x, mu, sigma)\n",
    "    #plt.plot(x,y, color='orange', lw=3)\n",
    "    plt.show()\n",
    "    \n",
    "    sns.distplot(group_drift)\n",
    "number_drift(group_drift['RSRP'])"
   ]
  },
  {
   "cell_type": "code",
   "execution_count": null,
   "metadata": {},
   "outputs": [],
   "source": [
    "##### Shapiro-Wilk Test #####\n",
    "# normality test\n",
    "stat, p = shapiro(group_drift['RSRP'])\n",
    "print('Statistics=%.3f, p=%.3f' % (stat, p))\n",
    "# interpret\n",
    "alpha = 0.05\n",
    "if p > alpha:\n",
    "\tprint('Sample looks Gaussian (fail to reject H0)')\n",
    "else:\n",
    "\tprint('Sample does not look Gaussian (reject H0)')"
   ]
  },
  {
   "cell_type": "code",
   "execution_count": null,
   "metadata": {},
   "outputs": [],
   "source": []
  }
 ],
 "metadata": {
  "kernelspec": {
   "display_name": "Python 3",
   "language": "python",
   "name": "python3"
  },
  "language_info": {
   "codemirror_mode": {
    "name": "ipython",
    "version": 3
   },
   "file_extension": ".py",
   "mimetype": "text/x-python",
   "name": "python",
   "nbconvert_exporter": "python",
   "pygments_lexer": "ipython3",
   "version": "3.5.0"
  }
 },
 "nbformat": 4,
 "nbformat_minor": 2
}
