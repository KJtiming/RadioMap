{
 "cells": [
  {
   "cell_type": "code",
   "execution_count": 1,
   "metadata": {},
   "outputs": [],
   "source": [
    "import numpy as np\n",
    "import math\n",
    "import matplotlib.pyplot as plt\n",
    "import pandas as pd\n",
    "import numpy as np\n",
    "from scipy.stats import anderson\n",
    "import scipy as scipy\n",
    "import seaborn as sns\n",
    "from numpy.random import seed\n",
    "from numpy.random import randn\n",
    "from scipy.stats import normaltest\n",
    "from scipy.stats import shapiro"
   ]
  },
  {
   "cell_type": "code",
   "execution_count": 2,
   "metadata": {},
   "outputs": [
    {
     "name": "stdout",
     "output_type": "stream",
     "text": [
      "             X        Y  PCI  RSRP\n",
      "0      78.0475  11.6995   41 -82.3\n",
      "1      78.0475  11.6995   41 -82.2\n",
      "2      78.0475  11.6995   41 -82.0\n",
      "3      78.0475  11.6995   41 -82.1\n",
      "4      78.0475  11.6995   41 -80.9\n",
      "5      78.0475  11.6995   41 -82.1\n",
      "6      78.0475  11.6995   41 -83.2\n",
      "7      78.0475  11.6995   41 -82.1\n",
      "8      78.0475  11.6995   41 -80.5\n",
      "9      78.0475  11.6995   41 -82.6\n",
      "10     78.0475  11.6995   41 -81.2\n",
      "11     78.0475  11.6995   41 -80.8\n",
      "12     78.0475  11.6995   41 -81.5\n",
      "13     78.0475  11.6995   41 -79.8\n",
      "14     78.0475  11.6995   41 -80.8\n",
      "15     78.0475  11.6995   41 -80.7\n",
      "16     78.0475  11.6995   41 -80.5\n",
      "17     78.0475  11.6995   41 -81.0\n",
      "18     78.0475  11.6995   41 -81.1\n",
      "19     78.0475  11.6995   41 -80.4\n",
      "20     78.0475  11.6995   41 -80.1\n",
      "21     78.0475  11.6995   41 -81.5\n",
      "22     78.0475  11.6995   41 -80.7\n",
      "23     78.0475  11.6995   41 -80.0\n",
      "24     78.0475  11.6995   41 -81.4\n",
      "25     78.0475  11.6995   41 -80.8\n",
      "26     78.0475  11.6995   41 -80.9\n",
      "27     78.0475  11.6995   41 -81.1\n",
      "28     78.0475  11.6995   41 -81.4\n",
      "29     78.0475  11.6995   41 -81.3\n",
      "...        ...      ...  ...   ...\n",
      "50294  72.8515   3.1750   40 -89.0\n",
      "50295  72.8515   3.1750   40 -89.1\n",
      "50296  72.8515   3.1750   40 -89.2\n",
      "50297  72.8515   3.1750   40 -89.1\n",
      "50298  72.8515   3.1750   40 -88.7\n",
      "50299  72.8515   3.1750   40 -88.8\n",
      "50300  72.8515   3.1750   40 -88.8\n",
      "50301  72.8515   3.1750   40 -88.6\n",
      "50302  72.8515   3.1750   40 -88.8\n",
      "50303  72.8515   3.1750   40 -88.8\n",
      "50304  72.8515   3.1750   40 -88.7\n",
      "50305  72.8515   3.1750   40 -88.8\n",
      "50306  72.8515   3.1750   40 -88.6\n",
      "50307  72.8515   3.1750   40 -88.4\n",
      "50308  72.8515   3.1750   40 -88.5\n",
      "50309  72.8515   3.1750   40 -88.4\n",
      "50310  72.8515   3.1750   40 -88.4\n",
      "50311  72.8515   3.1750   40 -88.5\n",
      "50312  72.8515   3.1750   40 -88.6\n",
      "50313  72.8515   3.1750   40 -88.5\n",
      "50314  72.8515   3.1750   40 -88.2\n",
      "50315  72.8515   3.1750   40 -88.3\n",
      "50316  72.8515   3.1750   40 -88.3\n",
      "50317  72.8515   3.1750   40 -88.8\n",
      "50318  72.8515   3.1750   40 -88.4\n",
      "50319  72.8515   3.1750   40 -87.8\n",
      "50320  72.8515   3.1750   40 -89.1\n",
      "50321  72.8515   3.1750   40 -89.0\n",
      "50322  72.8515   3.1750   40 -90.6\n",
      "50323  72.8515   3.1750   40 -91.9\n",
      "\n",
      "[50324 rows x 4 columns]\n"
     ]
    }
   ],
   "source": [
    "#data = np.genfromtxt('./data/18_pdf_19.csv', delimiter=',')\n",
    "#data = np.genfromtxt('./data/data_test.csv', delimiter=',')\n",
    "#data_all = pd.read_csv(\"./data/18_pdf_18_all.csv\")\n",
    "#data_all = pd.read_csv(\"./data/test_3.csv\")\n",
    "data_handle = pd.read_csv('./data/data_test.csv')\n",
    "print (data_handle)"
   ]
  },
  {
   "cell_type": "code",
   "execution_count": null,
   "metadata": {},
   "outputs": [],
   "source": [
    "def number_drift(data):\n",
    "    \n",
    "    x = np.arange(0,10,1)\n",
    "    sigma = 1\n",
    "    def norm_pdf(x,mu,sigma):\n",
    "        pdf = np.exp(-((x - mu)**2) / (2* sigma**2)) / (sigma * np.sqrt(2*np.pi))    \n",
    "        return pdf\n",
    "\n",
    "    mu = 0    \n",
    "    plt.hist(data, bins=100, alpha=0.7)\n",
    "    y = norm_pdf(x, mu, sigma)\n",
    "    #plt.plot(x,y, color='orange', lw=3)\n",
    "    plt.show()\n",
    "    \n",
    "    sns.distplot(data)"
   ]
  },
  {
   "cell_type": "code",
   "execution_count": 19,
   "metadata": {},
   "outputs": [
    {
     "name": "stderr",
     "output_type": "stream",
     "text": [
      "/home/reed/anaconda3/envs/reed_env/lib/python3.7/site-packages/numpy/core/_methods.py:32: RuntimeWarning: invalid value encountered in reduce\n",
      "  return umr_minimum(a, axis, None, out, keepdims, initial)\n",
      "/home/reed/anaconda3/envs/reed_env/lib/python3.7/site-packages/numpy/core/_methods.py:28: RuntimeWarning: invalid value encountered in reduce\n",
      "  return umr_maximum(a, axis, None, out, keepdims, initial)\n"
     ]
    },
    {
     "ename": "ValueError",
     "evalue": "max must be larger than min in range parameter.",
     "output_type": "error",
     "traceback": [
      "\u001b[0;31m---------------------------------------------------------------------------\u001b[0m",
      "\u001b[0;31mValueError\u001b[0m                                Traceback (most recent call last)",
      "\u001b[0;32m<ipython-input-19-7687ad588720>\u001b[0m in \u001b[0;36m<module>\u001b[0;34m()\u001b[0m\n\u001b[0;32m----> 1\u001b[0;31m \u001b[0mnumber_drift\u001b[0m\u001b[0;34m(\u001b[0m\u001b[0mdata\u001b[0m\u001b[0;34m)\u001b[0m\u001b[0;34m\u001b[0m\u001b[0m\n\u001b[0m",
      "\u001b[0;32m<ipython-input-18-5e5cf505045f>\u001b[0m in \u001b[0;36mnumber_drift\u001b[0;34m(data)\u001b[0m\n\u001b[1;32m      8\u001b[0m \u001b[0;34m\u001b[0m\u001b[0m\n\u001b[1;32m      9\u001b[0m     \u001b[0mmu\u001b[0m \u001b[0;34m=\u001b[0m \u001b[0;36m0\u001b[0m\u001b[0;34m\u001b[0m\u001b[0m\n\u001b[0;32m---> 10\u001b[0;31m     \u001b[0mplt\u001b[0m\u001b[0;34m.\u001b[0m\u001b[0mhist\u001b[0m\u001b[0;34m(\u001b[0m\u001b[0mdata\u001b[0m\u001b[0;34m,\u001b[0m \u001b[0mbins\u001b[0m\u001b[0;34m=\u001b[0m\u001b[0;36m100\u001b[0m\u001b[0;34m,\u001b[0m \u001b[0malpha\u001b[0m\u001b[0;34m=\u001b[0m\u001b[0;36m0.7\u001b[0m\u001b[0;34m)\u001b[0m\u001b[0;34m\u001b[0m\u001b[0m\n\u001b[0m\u001b[1;32m     11\u001b[0m     \u001b[0my\u001b[0m \u001b[0;34m=\u001b[0m \u001b[0mnorm_pdf\u001b[0m\u001b[0;34m(\u001b[0m\u001b[0mx\u001b[0m\u001b[0;34m,\u001b[0m \u001b[0mmu\u001b[0m\u001b[0;34m,\u001b[0m \u001b[0msigma\u001b[0m\u001b[0;34m)\u001b[0m\u001b[0;34m\u001b[0m\u001b[0m\n\u001b[1;32m     12\u001b[0m     \u001b[0;31m#plt.plot(x,y, color='orange', lw=3)\u001b[0m\u001b[0;34m\u001b[0m\u001b[0;34m\u001b[0m\u001b[0m\n",
      "\u001b[0;32m~/anaconda3/envs/reed_env/lib/python3.7/site-packages/matplotlib/pyplot.py\u001b[0m in \u001b[0;36mhist\u001b[0;34m(x, bins, range, density, weights, cumulative, bottom, histtype, align, orientation, rwidth, log, color, label, stacked, normed, hold, data, **kwargs)\u001b[0m\n\u001b[1;32m   3135\u001b[0m \u001b[0;32mdef\u001b[0m \u001b[0minferno\u001b[0m\u001b[0;34m(\u001b[0m\u001b[0;34m)\u001b[0m\u001b[0;34m:\u001b[0m\u001b[0;34m\u001b[0m\u001b[0m\n\u001b[1;32m   3136\u001b[0m     \"\"\"\n\u001b[0;32m-> 3137\u001b[0;31m     \u001b[0mSet\u001b[0m \u001b[0mthe\u001b[0m \u001b[0mcolormap\u001b[0m \u001b[0mto\u001b[0m \u001b[0;34m\"inferno\"\u001b[0m\u001b[0;34m.\u001b[0m\u001b[0;34m\u001b[0m\u001b[0m\n\u001b[0m\u001b[1;32m   3138\u001b[0m \u001b[0;34m\u001b[0m\u001b[0m\n\u001b[1;32m   3139\u001b[0m     \u001b[0mThis\u001b[0m \u001b[0mchanges\u001b[0m \u001b[0mthe\u001b[0m \u001b[0mdefault\u001b[0m \u001b[0mcolormap\u001b[0m \u001b[0;32mas\u001b[0m \u001b[0mwell\u001b[0m \u001b[0;32mas\u001b[0m \u001b[0mthe\u001b[0m \u001b[0mcolormap\u001b[0m \u001b[0mof\u001b[0m \u001b[0mthe\u001b[0m \u001b[0mcurrent\u001b[0m\u001b[0;34m\u001b[0m\u001b[0m\n",
      "\u001b[0;32m~/anaconda3/envs/reed_env/lib/python3.7/site-packages/matplotlib/__init__.py\u001b[0m in \u001b[0;36minner\u001b[0;34m(ax, *args, **kwargs)\u001b[0m\n",
      "\u001b[0;32m~/anaconda3/envs/reed_env/lib/python3.7/site-packages/matplotlib/axes/_axes.py\u001b[0m in \u001b[0;36mhist\u001b[0;34m(***failed resolving arguments***)\u001b[0m\n\u001b[1;32m   6637\u001b[0m                 \u001b[0;32mif\u001b[0m \u001b[0mbottom\u001b[0m \u001b[0;32mis\u001b[0m \u001b[0;32mNone\u001b[0m\u001b[0;34m:\u001b[0m\u001b[0;34m\u001b[0m\u001b[0m\n\u001b[1;32m   6638\u001b[0m                     \u001b[0mbottom\u001b[0m \u001b[0;34m=\u001b[0m \u001b[0mnp\u001b[0m\u001b[0;34m.\u001b[0m\u001b[0mzeros\u001b[0m\u001b[0;34m(\u001b[0m\u001b[0mlen\u001b[0m\u001b[0;34m(\u001b[0m\u001b[0mm\u001b[0m\u001b[0;34m)\u001b[0m\u001b[0;34m)\u001b[0m\u001b[0;34m\u001b[0m\u001b[0m\n\u001b[0;32m-> 6639\u001b[0;31m                 \u001b[0;32mif\u001b[0m \u001b[0mstacked\u001b[0m\u001b[0;34m:\u001b[0m\u001b[0;34m\u001b[0m\u001b[0m\n\u001b[0m\u001b[1;32m   6640\u001b[0m                     \u001b[0mheight\u001b[0m \u001b[0;34m=\u001b[0m \u001b[0mm\u001b[0m \u001b[0;34m-\u001b[0m \u001b[0mbottom\u001b[0m\u001b[0;34m\u001b[0m\u001b[0m\n\u001b[1;32m   6641\u001b[0m                 \u001b[0;32melse\u001b[0m\u001b[0;34m:\u001b[0m\u001b[0;34m\u001b[0m\u001b[0m\n",
      "\u001b[0;32m~/anaconda3/envs/reed_env/lib/python3.7/site-packages/numpy/lib/histograms.py\u001b[0m in \u001b[0;36mhistogram\u001b[0;34m(a, bins, range, normed, weights, density)\u001b[0m\n\u001b[1;32m    700\u001b[0m     \u001b[0ma\u001b[0m\u001b[0;34m,\u001b[0m \u001b[0mweights\u001b[0m \u001b[0;34m=\u001b[0m \u001b[0m_ravel_and_check_weights\u001b[0m\u001b[0;34m(\u001b[0m\u001b[0ma\u001b[0m\u001b[0;34m,\u001b[0m \u001b[0mweights\u001b[0m\u001b[0;34m)\u001b[0m\u001b[0;34m\u001b[0m\u001b[0m\n\u001b[1;32m    701\u001b[0m \u001b[0;34m\u001b[0m\u001b[0m\n\u001b[0;32m--> 702\u001b[0;31m     \u001b[0mbin_edges\u001b[0m\u001b[0;34m,\u001b[0m \u001b[0muniform_bins\u001b[0m \u001b[0;34m=\u001b[0m \u001b[0m_get_bin_edges\u001b[0m\u001b[0;34m(\u001b[0m\u001b[0ma\u001b[0m\u001b[0;34m,\u001b[0m \u001b[0mbins\u001b[0m\u001b[0;34m,\u001b[0m \u001b[0mrange\u001b[0m\u001b[0;34m,\u001b[0m \u001b[0mweights\u001b[0m\u001b[0;34m)\u001b[0m\u001b[0;34m\u001b[0m\u001b[0m\n\u001b[0m\u001b[1;32m    703\u001b[0m \u001b[0;34m\u001b[0m\u001b[0m\n\u001b[1;32m    704\u001b[0m     \u001b[0;31m# Histogram is an integer or a float array depending on the weights.\u001b[0m\u001b[0;34m\u001b[0m\u001b[0;34m\u001b[0m\u001b[0m\n",
      "\u001b[0;32m~/anaconda3/envs/reed_env/lib/python3.7/site-packages/numpy/lib/histograms.py\u001b[0m in \u001b[0;36m_get_bin_edges\u001b[0;34m(a, bins, range, weights)\u001b[0m\n\u001b[1;32m    353\u001b[0m             \u001b[0;32mraise\u001b[0m \u001b[0mValueError\u001b[0m\u001b[0;34m(\u001b[0m\u001b[0;34m'`bins` must be positive, when an integer'\u001b[0m\u001b[0;34m)\u001b[0m\u001b[0;34m\u001b[0m\u001b[0m\n\u001b[1;32m    354\u001b[0m \u001b[0;34m\u001b[0m\u001b[0m\n\u001b[0;32m--> 355\u001b[0;31m         \u001b[0mfirst_edge\u001b[0m\u001b[0;34m,\u001b[0m \u001b[0mlast_edge\u001b[0m \u001b[0;34m=\u001b[0m \u001b[0m_get_outer_edges\u001b[0m\u001b[0;34m(\u001b[0m\u001b[0ma\u001b[0m\u001b[0;34m,\u001b[0m \u001b[0mrange\u001b[0m\u001b[0;34m)\u001b[0m\u001b[0;34m\u001b[0m\u001b[0m\n\u001b[0m\u001b[1;32m    356\u001b[0m \u001b[0;34m\u001b[0m\u001b[0m\n\u001b[1;32m    357\u001b[0m     \u001b[0;32melif\u001b[0m \u001b[0mnp\u001b[0m\u001b[0;34m.\u001b[0m\u001b[0mndim\u001b[0m\u001b[0;34m(\u001b[0m\u001b[0mbins\u001b[0m\u001b[0;34m)\u001b[0m \u001b[0;34m==\u001b[0m \u001b[0;36m1\u001b[0m\u001b[0;34m:\u001b[0m\u001b[0;34m\u001b[0m\u001b[0m\n",
      "\u001b[0;32m~/anaconda3/envs/reed_env/lib/python3.7/site-packages/numpy/lib/histograms.py\u001b[0m in \u001b[0;36m_get_outer_edges\u001b[0;34m(a, range)\u001b[0m\n\u001b[1;32m    240\u001b[0m         \u001b[0;32mif\u001b[0m \u001b[0mfirst_edge\u001b[0m \u001b[0;34m>\u001b[0m \u001b[0mlast_edge\u001b[0m\u001b[0;34m:\u001b[0m\u001b[0;34m\u001b[0m\u001b[0m\n\u001b[1;32m    241\u001b[0m             raise ValueError(\n\u001b[0;32m--> 242\u001b[0;31m                 'max must be larger than min in range parameter.')\n\u001b[0m\u001b[1;32m    243\u001b[0m         \u001b[0;32mif\u001b[0m \u001b[0;32mnot\u001b[0m \u001b[0;34m(\u001b[0m\u001b[0mnp\u001b[0m\u001b[0;34m.\u001b[0m\u001b[0misfinite\u001b[0m\u001b[0;34m(\u001b[0m\u001b[0mfirst_edge\u001b[0m\u001b[0;34m)\u001b[0m \u001b[0;32mand\u001b[0m \u001b[0mnp\u001b[0m\u001b[0;34m.\u001b[0m\u001b[0misfinite\u001b[0m\u001b[0;34m(\u001b[0m\u001b[0mlast_edge\u001b[0m\u001b[0;34m)\u001b[0m\u001b[0;34m)\u001b[0m\u001b[0;34m:\u001b[0m\u001b[0;34m\u001b[0m\u001b[0m\n\u001b[1;32m    244\u001b[0m             raise ValueError(\n",
      "\u001b[0;31mValueError\u001b[0m: max must be larger than min in range parameter."
     ]
    },
    {
     "data": {
      "image/png": "[encoded data removed]",
      "text/plain": [
       "<Figure size 432x288 with 1 Axes>"
      ]
     },
     "metadata": {
      "needs_background": "light"
     },
     "output_type": "display_data"
    }
   ],
   "source": [
    "number_drift(data)"
   ]
  },
  {
   "cell_type": "code",
   "execution_count": null,
   "metadata": {},
   "outputs": [],
   "source": [
    "def group(data_all):\n",
    "    X_group_mean = data_all.groupby('PCI').mean()\n",
    "    X_group_std = data_all.groupby('PCI').std()\n",
    "    X_group_median = data_all.groupby('PCI').median()\n",
    "    #X_group_mean = data_all.mean()\n",
    "    #X_group_std = data_all.std()\n",
    "    #X_group_median = data_all.median()\n",
    "    print (X_group_mean)\n",
    "    print (X_group_std)\n",
    "    print (X_group_median)\n",
    "    return X_group_mean,X_group_std"
   ]
  },
  {
   "cell_type": "code",
   "execution_count": null,
   "metadata": {},
   "outputs": [],
   "source": [
    "#X_group_mean,X_group_std = group(data_all)\n",
    "#group(data_all)"
   ]
  },
  {
   "cell_type": "code",
   "execution_count": null,
   "metadata": {},
   "outputs": [],
   "source": [
    "#x = np.linspace(-15, 15, 9)\n",
    "x = np.array([1,1,1,1,1,100,100,50,23,19])\n",
    "#np.savetxt('x.csv', x, delimiter=',', fmt='%f')\n",
    "#anderson(data, dist ='norm' )\n",
    "scipy.stats.scoreatpercentile(data, 95)\n"
   ]
  },
  {
   "cell_type": "code",
   "execution_count": null,
   "metadata": {},
   "outputs": [],
   "source": [
    "print (scipy.stats.normaltest (data, axis=0))\n",
    "k2,p = scipy.stats.normaltest (data, axis=0)\n",
    "alpha = 0.05\n",
    "if p < alpha:\n",
    "    print(\"Sample does not look Gaussian (reject H0),NOT\")\n",
    "else:\n",
    "    print(\"Sample looks Gaussian (fail to reject H0),YES Gaussian!!\")"
   ]
  },
  {
   "cell_type": "code",
   "execution_count": null,
   "metadata": {},
   "outputs": [],
   "source": [
    "scipy.stats.shapiro(data)"
   ]
  },
  {
   "cell_type": "code",
   "execution_count": null,
   "metadata": {},
   "outputs": [],
   "source": [
    "##### Anderson-Darling Test #####\n",
    "# seed the random number generator\n",
    "seed(1)\n",
    "# normality test\n",
    "#data = 5 * randn(100) + 50\n",
    "result = anderson(data)\n",
    "\n",
    "print('Statistic: %.3f' % result.statistic)\n",
    "p = 0\n",
    "for i in range(len(result.critical_values)):\n",
    "\tsl, cv = result.significance_level[i], result.critical_values[i]\n",
    "\tif result.statistic < result.critical_values[i]:\n",
    "\t\tprint('%.3f: %.3f, data looks normal (fail to reject H0)' % (sl, cv))\n",
    "\telse:\n",
    "\t\tprint('%.3f: %.3f, data does not look normal (reject H0)' % (sl, cv))"
   ]
  },
  {
   "cell_type": "code",
   "execution_count": null,
   "metadata": {},
   "outputs": [],
   "source": [
    "##### D’Agostino’s K^2 Test #####\n",
    "# normality test\n",
    "stat, p = normaltest(data)\n",
    "print('Statistics=%.3f, p=%.3f' % (stat, p))\n",
    "# interpret\n",
    "alpha = 0.05\n",
    "if p > alpha:\n",
    "\tprint('Sample looks Gaussian (fail to reject H0)')\n",
    "else:\n",
    "\tprint('Sample does not look Gaussian (reject H0)')"
   ]
  },
  {
   "cell_type": "code",
   "execution_count": null,
   "metadata": {},
   "outputs": [],
   "source": [
    "##### Shapiro-Wilk Test #####\n",
    "# normality test\n",
    "stat, p = shapiro(data)\n",
    "print('Statistics=%.3f, p=%.3f' % (stat, p))\n",
    "# interpret\n",
    "alpha = 0.05\n",
    "if p > alpha:\n",
    "\tprint('Sample looks Gaussian (fail to reject H0)')\n",
    "else:\n",
    "\tprint('Sample does not look Gaussian (reject H0)')"
   ]
  },
  {
   "cell_type": "code",
   "execution_count": 3,
   "metadata": {},
   "outputs": [],
   "source": [
    "def group_drift(data_handle):\n",
    "    #df.groupby('X','Y','PCI').transform(lambda x: x - x.mean())\n",
    "    group_mean = data_handle.groupby(['X','Y','PCI']).mean()\n",
    "    group_drift = data_handle.groupby(['X','Y','PCI']).transform(lambda x: x - x.mean())\n",
    "    return group_mean,group_drift"
   ]
  },
  {
   "cell_type": "code",
   "execution_count": 4,
   "metadata": {},
   "outputs": [
    {
     "name": "stdout",
     "output_type": "stream",
     "text": [
      "                            RSRP\n",
      "X        Y       PCI            \n",
      "6.9745   14.5660 37  -111.464000\n",
      "                 39  -111.636842\n",
      "7.0255   16.5805 37  -121.456000\n",
      "                 39  -124.574074\n",
      "7.0330   12.1930 37  -115.118750\n",
      "                 39  -118.212500\n",
      "8.7550   14.6395 37  -115.050000\n",
      "                 39  -119.633333\n",
      "8.8030   16.5355 37  -125.670370\n",
      "                 39  -125.677778\n",
      "8.9290   12.1450 37  -119.542857\n",
      "                 39  -117.366667\n",
      "9.5515   13.3150 37  -102.018182\n",
      "                 39  -102.246667\n",
      "11.2135  13.3915 37   -98.595882\n",
      "                 39  -113.700000\n",
      "12.8665  13.1125 37   -97.625455\n",
      "                 39  -102.020000\n",
      "14.5285  13.1890 37   -97.439394\n",
      "16.4215  13.0225 37   -94.520952\n",
      "18.3205  13.0930 37   -94.156693\n",
      "19.8580  12.9355 37   -86.687000\n",
      "21.7570  13.0060 37   -81.422344\n",
      "23.6560  13.0765 37   -79.892424\n",
      "25.5490  12.9100 37   -85.310037\n",
      "26.9710  12.8740 37   -91.176995\n",
      "28.7515  12.9475 37   -96.844369\n",
      "30.7600  12.6595 37   -96.848020\n",
      "                 39   -99.150000\n",
      "32.0665  12.7450 37   -99.597872\n",
      "...                          ...\n",
      "91.5790  7.5625  41   -89.673563\n",
      "92.0275  11.2270 41   -83.596296\n",
      "92.0980  18.6955 41   -84.156786\n",
      "92.1025  23.5570 41   -87.910169\n",
      "92.1700  21.5395 41   -83.068259\n",
      "93.5710  11.3065 41   -91.098157\n",
      "94.3645  9.8635  39  -111.533333\n",
      "                 41  -104.200000\n",
      "                 42  -105.633333\n",
      "94.3690  14.7250 39  -112.050000\n",
      "                 41  -109.316667\n",
      "                 42  -102.150000\n",
      "94.4305  12.4705 42   -93.295327\n",
      "96.0925  12.5470 39  -103.980000\n",
      "                 41   -98.387681\n",
      "96.1465  14.6800 42   -91.343147\n",
      "96.2635  9.9340  41   -94.762562\n",
      "97.9060  13.9240 41  -106.933333\n",
      "                 42   -99.521429\n",
      "97.9450  15.4645 42   -84.684774\n",
      "98.0680  20.3230 42   -73.745361\n",
      "98.2540  18.3025 42   -73.089950\n",
      "98.3425  17.1145 42   -78.906311\n",
      "100.0750 15.2920 42   -75.438627\n",
      "100.1575 13.8670 42  -100.480000\n",
      "100.2385 17.0665 42   -75.414583\n",
      "100.2655 18.1330 42   -75.965236\n",
      "101.9710 15.2440 42   -76.242800\n",
      "102.1315 16.9000 42   -69.266019\n",
      "102.1615 18.0850 42   -67.130097\n",
      "\n",
      "[283 rows x 1 columns]\n"
     ]
    }
   ],
   "source": [
    "group_mean,group_drift = group_drift(data_handle)\n",
    "print (group_mean)\n",
    "group_mean.to_csv('group_mean.csv')"
   ]
  },
  {
   "cell_type": "code",
   "execution_count": 5,
   "metadata": {},
   "outputs": [
    {
     "name": "stdout",
     "output_type": "stream",
     "text": [
      "           RSRP\n",
      "0     -1.460656\n",
      "1     -1.360656\n",
      "2     -1.160656\n",
      "3     -1.260656\n",
      "4     -0.060656\n",
      "5     -1.260656\n",
      "6     -2.360656\n",
      "7     -1.260656\n",
      "8      0.339344\n",
      "9     -1.760656\n",
      "10    -0.360656\n",
      "11     0.039344\n",
      "12    -0.660656\n",
      "13     1.039344\n",
      "14     0.039344\n",
      "15     0.139344\n",
      "16     0.339344\n",
      "17    -0.160656\n",
      "18    -0.260656\n",
      "19     0.439344\n",
      "20     0.739344\n",
      "21    -0.660656\n",
      "22     0.139344\n",
      "23     0.839344\n",
      "24    -0.560656\n",
      "25     0.039344\n",
      "26    -0.060656\n",
      "27    -0.260656\n",
      "28    -0.560656\n",
      "29    -0.460656\n",
      "...         ...\n",
      "50294 -0.399010\n",
      "50295 -0.499010\n",
      "50296 -0.599010\n",
      "50297 -0.499010\n",
      "50298 -0.099010\n",
      "50299 -0.199010\n",
      "50300 -0.199010\n",
      "50301  0.000990\n",
      "50302 -0.199010\n",
      "50303 -0.199010\n",
      "50304 -0.099010\n",
      "50305 -0.199010\n",
      "50306  0.000990\n",
      "50307  0.200990\n",
      "50308  0.100990\n",
      "50309  0.200990\n",
      "50310  0.200990\n",
      "50311  0.100990\n",
      "50312  0.000990\n",
      "50313  0.100990\n",
      "50314  0.400990\n",
      "50315  0.300990\n",
      "50316  0.300990\n",
      "50317 -0.199010\n",
      "50318  0.200990\n",
      "50319  0.800990\n",
      "50320 -0.499010\n",
      "50321 -0.399010\n",
      "50322 -1.999010\n",
      "50323 -3.299010\n",
      "\n",
      "[50324 rows x 1 columns]\n"
     ]
    }
   ],
   "source": [
    "print (group_drift)"
   ]
  },
  {
   "cell_type": "code",
   "execution_count": 6,
   "metadata": {},
   "outputs": [
    {
     "name": "stdout",
     "output_type": "stream",
     "text": [
      "           RSRP\n",
      "11841  2.136842\n",
      "11842 -0.536000\n",
      "11843 -3.563158\n",
      "11844 -1.863158\n",
      "11845 -1.336000\n",
      "11846  4.236842\n",
      "11847  2.464000\n",
      "11848  0.736842\n",
      "11849  1.664000\n",
      "11850 -2.963158\n",
      "11851 -2.463158\n",
      "11852  1.664000\n",
      "11853 -4.963158\n",
      "11854  0.664000\n",
      "11855 -4.163158\n",
      "11856 -0.936000\n",
      "11857 -0.836000\n",
      "11858  0.764000\n",
      "11859 -0.936000\n",
      "11860 -0.236000\n",
      "11861  3.336842\n",
      "11862 -0.436000\n",
      "11863  3.036842\n",
      "11864  0.064000\n",
      "11865  0.164000\n",
      "11866  3.036842\n",
      "11867  3.236842\n",
      "11868  0.064000\n",
      "11869  2.936842\n",
      "11870  0.464000\n",
      "11871  3.036842\n",
      "11872  0.164000\n",
      "11873 -0.836000\n",
      "11874  0.164000\n",
      "11875  2.736842\n",
      "11876  2.164000\n",
      "11877 -0.536000\n",
      "11878 -0.936000\n",
      "11879 -0.236000\n",
      "11880 -0.236000\n",
      "11881 -2.663158\n",
      "11882 -3.363158\n",
      "11883 -2.354639\n"
     ]
    }
   ],
   "source": [
    "print(group_drift[11841:11884])  \n",
    "group_drift.to_csv('group_drift.csv')"
   ]
  },
  {
   "cell_type": "code",
   "execution_count": 7,
   "metadata": {},
   "outputs": [],
   "source": [
    "#data = np.genfromtxt('./data/data_test.csv', delimiter=',')"
   ]
  },
  {
   "cell_type": "code",
   "execution_count": 8,
   "metadata": {},
   "outputs": [
    {
     "data": {
      "image/png": "[encoded data removed]",
      "text/plain": [
       "<Figure size 432x288 with 1 Axes>"
      ]
     },
     "metadata": {
      "needs_background": "light"
     },
     "output_type": "display_data"
    },
    {
     "name": "stderr",
     "output_type": "stream",
     "text": [
      "/home/reed/anaconda3/envs/reed_env/lib/python3.7/site-packages/scipy/stats/stats.py:1713: FutureWarning: Using a non-tuple sequence for multidimensional indexing is deprecated; use `arr[tuple(seq)]` instead of `arr[seq]`. In the future this will be interpreted as an array index, `arr[np.array(seq)]`, which will result either in an error or a different result.\n",
      "  return np.add.reduce(sorted[indexer] * weights, axis=axis) / sumval\n"
     ]
    },
    {
     "data": {
      "image/png": "[encoded data removed]",
      "text/plain": [
       "<Figure size 432x288 with 1 Axes>"
      ]
     },
     "metadata": {
      "needs_background": "light"
     },
     "output_type": "display_data"
    }
   ],
   "source": [
    "def number_drift(group_drift):\n",
    "    \n",
    "    x = np.arange(0,10,1)\n",
    "    sigma = 1\n",
    "    def norm_pdf(x,mu,sigma):\n",
    "        pdf = np.exp(-((x - mu)**2) / (2* sigma**2)) / (sigma * np.sqrt(2*np.pi))    \n",
    "        return pdf\n",
    "\n",
    "    mu = 0    \n",
    "    plt.hist(group_drift, bins=100, alpha=0.7)\n",
    "    y = norm_pdf(x, mu, sigma)\n",
    "    #plt.plot(x,y, color='orange', lw=3)\n",
    "    plt.show()\n",
    "    \n",
    "    sns.distplot(group_drift)\n",
    "number_drift(group_drift['RSRP'])"
   ]
  },
  {
   "cell_type": "code",
   "execution_count": 9,
   "metadata": {},
   "outputs": [
    {
     "name": "stdout",
     "output_type": "stream",
     "text": [
      "Statistics=0.852, p=0.000\n",
      "Sample does not look Gaussian (reject H0)\n"
     ]
    },
    {
     "name": "stderr",
     "output_type": "stream",
     "text": [
      "/home/reed/anaconda3/envs/reed_env/lib/python3.7/site-packages/scipy/stats/morestats.py:1309: UserWarning: p-value may not be accurate for N > 5000.\n",
      "  warnings.warn(\"p-value may not be accurate for N > 5000.\")\n"
     ]
    }
   ],
   "source": [
    "##### Shapiro-Wilk Test #####\n",
    "# normality test\n",
    "stat, p = shapiro(group_drift['RSRP'])\n",
    "print('Statistics=%.3f, p=%.3f' % (stat, p))\n",
    "# interpret\n",
    "alpha = 0.05\n",
    "if p > alpha:\n",
    "\tprint('Sample looks Gaussian (fail to reject H0)')\n",
    "else:\n",
    "\tprint('Sample does not look Gaussian (reject H0)')"
   ]
  },
  {
   "cell_type": "code",
   "execution_count": null,
   "metadata": {},
   "outputs": [],
   "source": []
  }
 ],
 "metadata": {
  "kernelspec": {
   "display_name": "Python 3",
   "language": "python",
   "name": "python3"
  },
  "language_info": {
   "codemirror_mode": {
    "name": "ipython",
    "version": 3
   },
   "file_extension": ".py",
   "mimetype": "text/x-python",
   "name": "python",
   "nbconvert_exporter": "python",
   "pygments_lexer": "ipython3",
   "version": "3.7.0"
  }
 },
 "nbformat": 4,
 "nbformat_minor": 2
}
