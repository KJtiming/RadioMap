{
 "cells": [
  {
   "cell_type": "code",
   "execution_count": 25,
   "metadata": {},
   "outputs": [],
   "source": [
    "import numpy as np\n",
    "import math"
   ]
  },
  {
   "cell_type": "code",
   "execution_count": 82,
   "metadata": {},
   "outputs": [],
   "source": [
    "set_feature = np.array([19,19,19,19,19,19], np.float)\n",
    "\n",
    "\n",
    "\n",
    "# read row data\n",
    "data = np.genfromtxt('./data/set10.csv', delimiter=',')\n"
   ]
  },
  {
   "cell_type": "code",
   "execution_count": 83,
   "metadata": {},
   "outputs": [],
   "source": [
    "def convert_location_data(x, y) :\n",
    "    '''\n",
    "    lng = a * x1 - b * y2 + c \n",
    "    lat = a * x2 + b * y1 + d\n",
    "\n",
    "    NEMO -> indoor position value\n",
    "    (840, -351) -> (96.824, 0)\n",
    "    (923, -179) -> (107.068, 15.874)\n",
    "    '''\n",
    "    a = 0.1185\n",
    "    b = -0.003\n",
    "    c = -1.81\n",
    "    d = 39.842\n",
    " \n",
    "    lng = a * x - b * y * (-1) + c - 4\n",
    "    lat = a * y * (-1) + b * x + d - 0.5\n",
    "\n",
    "    return lng, lat"
   ]
  },
  {
   "cell_type": "code",
   "execution_count": 84,
   "metadata": {},
   "outputs": [
    {
     "name": "stdout",
     "output_type": "stream",
     "text": [
      "data== [[ 46.7605  12.373   37.     -81.7   ]\n",
      " [ 46.7605  12.373   37.     -81.8   ]\n",
      " [ 46.7605  12.373   37.     -81.8   ]\n",
      " ...\n",
      " [ 89.68     7.492   40.     -87.6   ]\n",
      " [ 89.68     7.492   40.     -88.4   ]\n",
      " [ 89.68     7.492   40.     -88.7   ]]\n"
     ]
    }
   ],
   "source": [
    "# coordinate transform\n",
    "a = 0.1185\n",
    "b = -0.003\n",
    "c = -1.81\n",
    "d = 39.842\n",
    "\n",
    "lng = a * data[:,0] - b * data[:,1] * (-1) + c - 4\n",
    "lat = a * data[:,1] * (-1) + b * data[:,0] + d - 1\n",
    "data[:,0] = lng\n",
    "data[:,1] = lat\n",
    "\n",
    "x1, y1 = convert_location_data (868, 199)\n",
    "x2, y2 = convert_location_data (735, 206)\n",
    "dis1_new = np.sqrt(np.power(lng-x1, 2)+np.power(lat-y1, 2))\n",
    "dis2_new = np.sqrt(np.power(lng-x2, 2)+np.power(lat-y2, 2))\n",
    "print(\"data==\",data)"
   ]
  },
  {
   "cell_type": "code",
   "execution_count": 85,
   "metadata": {},
   "outputs": [
    {
     "name": "stdout",
     "output_type": "stream",
     "text": [
      "218\n",
      "idx_set== [    0     1     2 ... 28266 28267 28268]\n",
      "set_data [[ 46.7605  12.373   37.     -81.7   ]\n",
      " [ 46.7605  12.373   37.     -81.8   ]\n",
      " [ 46.7605  12.373   37.     -81.8   ]\n",
      " ...\n",
      " [ 89.68     7.492   40.     -87.6   ]\n",
      " [ 89.68     7.492   40.     -88.4   ]\n",
      " [ 89.68     7.492   40.     -88.7   ]]\n"
     ]
    }
   ],
   "source": [
    "n_rem = np.zeros([106, 26])\n",
    "for i in range(len(data)): \n",
    "    this_x = np.floor(data[i,0])\n",
    "    this_y = np.floor(data[i,1])\n",
    "    n_rem[int(this_x),int(this_y)] = 1\n",
    "print (len(np.where(n_rem==1)[0]))\n",
    "\n",
    "\n",
    "# extract set data\n",
    "#idx_set = np.where((data[:,2:8] == set_feature).all(axis=1))[0]\n",
    "idx_set = np.where(data.all(axis=1))[0]\n",
    "#idx_set = np.where((data[:,2:-6] == set_feature).all(axis=1))[0]\n",
    "#print \"data[:,2:-2] ==\",data[:,2:-6] \n",
    "#print \"idx_set==\",idx_set\n",
    "set_data = data[idx_set,:]\n",
    "print (\"idx_set==\",idx_set)\n",
    "print (\"set_data\",set_data)\n",
    "\n",
    "\n",
    "\n",
    "# shuffle data\n",
    "num_setdata = len(set_data)\n",
    "idx_rnd = np.random.permutation(num_setdata)\n",
    "shuf_data = set_data[idx_rnd, :]\n"
   ]
  },
  {
   "cell_type": "code",
   "execution_count": 86,
   "metadata": {},
   "outputs": [],
   "source": [
    "# get the testing data\n",
    "p_test = 0.1\n",
    "n_test = round(num_setdata*p_test, 0)\n",
    "d_test = shuf_data[0:int(n_test),:]\n",
    "np.savetxt('rem_test.csv', d_test, delimiter=',', fmt='%f')\n"
   ]
  },
  {
   "cell_type": "code",
   "execution_count": 87,
   "metadata": {},
   "outputs": [],
   "source": [
    "# get the pci training data\n",
    "pci_feature = np.unique(data[:,0:-2], axis=0)\n",
    "#pci_feature = data[:,0:-2]\n",
    "get_pci = np.zeros([len(pci_feature), 1])\n",
    "for i in range(len(pci_feature)): \n",
    "    idx_data = np.where((data[:,0:-2] == pci_feature[i,:]).all(axis=1))[0] \n",
    "    counts = np.bincount(data[idx_data,-2].astype(int))\n",
    "    #counts = data[idx_data,-2]\n",
    "    get_pci[i] = np.argmax(counts)\n",
    "\n",
    "pci_training = np.hstack((pci_feature, get_pci))\n",
    "np.savetxt('rem_pci_train.csv', pci_training, delimiter=',', fmt='%f')\n"
   ]
  },
  {
   "cell_type": "code",
   "execution_count": 88,
   "metadata": {},
   "outputs": [],
   "source": [
    "# get the rsrp training data\n",
    "rsrp_feature = np.unique(data[:,0:-1], axis=0)\n",
    "#rsrp_feature = data[:,0:-1]\n",
    "get_rsrp = np.zeros([len(rsrp_feature), 3])\n",
    "for i in range(len(rsrp_feature)): \n",
    "    idx_data = np.where((data[:,0:-1] == rsrp_feature[i,:]).all(axis=1))[0] \n",
    "    get_rsrp[i,0] = np.min(data[idx_data,-1])\n",
    "    get_rsrp[i,1] = np.max(data[idx_data,-1])\n",
    "    get_rsrp[i,2] = np.mean(data[idx_data,-1])\n",
    "\n",
    "rsrp_training = np.hstack((rsrp_feature, get_rsrp))\n",
    "np.savetxt('rem_rsrp_train.csv', rsrp_training, delimiter=',', fmt='%f')"
   ]
  },
  {
   "cell_type": "code",
   "execution_count": 89,
   "metadata": {},
   "outputs": [
    {
     "name": "stdout",
     "output_type": "stream",
     "text": [
      "num of testing data: 2827\n",
      "num of training data for pci: 218\n",
      "num of training data for rsrp: 251\n"
     ]
    }
   ],
   "source": [
    "# print msg\n",
    "print('num of testing data: '+str(len(d_test)))\n",
    "print('num of training data for pci: '+str(len(pci_training)))\n",
    "print('num of training data for rsrp: '+str(len(rsrp_training)))"
   ]
  },
  {
   "cell_type": "code",
   "execution_count": null,
   "metadata": {},
   "outputs": [],
   "source": []
  },
  {
   "cell_type": "code",
   "execution_count": null,
   "metadata": {},
   "outputs": [],
   "source": []
  }
 ],
 "metadata": {
  "kernelspec": {
   "display_name": "Python 3",
   "language": "python",
   "name": "python3"
  },
  "language_info": {
   "codemirror_mode": {
    "name": "ipython",
    "version": 3
   },
   "file_extension": ".py",
   "mimetype": "text/x-python",
   "name": "python",
   "nbconvert_exporter": "python",
   "pygments_lexer": "ipython3",
   "version": "3.5.0"
  }
 },
 "nbformat": 4,
 "nbformat_minor": 2
}
