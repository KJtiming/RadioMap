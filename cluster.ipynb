{
 "cells": [
  {
   "cell_type": "code",
   "execution_count": 2,
   "metadata": {},
   "outputs": [
    {
     "name": "stderr",
     "output_type": "stream",
     "text": [
      "Using TensorFlow backend.\n"
     ]
    }
   ],
   "source": [
    "from sklearn.cluster import KMeans\n",
    "import numpy as np\n",
    "import matplotlib.pyplot as plt\n",
    "import pandas as pd\n",
    "from sklearn import cluster, datasets, metrics\n",
    "from sklearn.datasets.samples_generator import make_blobs\n",
    "import matplotlib.pyplot as plt\n",
    "from sklearn.neighbors import KNeighborsClassifier\n",
    "from sklearn.tree import DecisionTreeClassifier\n",
    "from sklearn.neighbors import KNeighborsRegressor\n",
    "from sklearn.neighbors import RadiusNeighborsRegressor\n",
    "from sklearn.tree import DecisionTreeRegressor\n",
    "from sklearn.tree import ExtraTreeRegressor\n",
    "from sklearn.ensemble import RandomForestRegressor\n",
    "from sklearn.ensemble import GradientBoostingRegressor\n",
    "from sklearn.neural_network import MLPRegressor\n",
    "from sklearn.neural_network import MLPClassifier\n",
    "from sklearn.svm import SVR\n",
    "from sklearn.multioutput import MultiOutputRegressor\n",
    "import matplotlib.pyplot as plt\n",
    "import matplotlib.pyplot as plt2\n",
    "import matplotlib.image as mpimg\n",
    "from PIL import Image\n",
    "import numpy as np\n",
    "import math\n",
    "from keras.models import Sequential\n",
    "from keras.layers import Dense\n",
    "from sklearn.datasets.samples_generator import make_blobs\n",
    "from sklearn.preprocessing import MinMaxScaler\n",
    "from array import array\n",
    "from keras.utils import to_categorical\n",
    "from keras.utils import np_utils\n",
    "from sklearn import preprocessing\n",
    "#from sklearn.mixture import GMM\n",
    "#from learning_model import *\n",
    "#from sklearn.cross_validation import train_test_split\n",
    "#from data_handle import * "
   ]
  },
  {
   "cell_type": "code",
   "execution_count": 288,
   "metadata": {},
   "outputs": [
    {
     "name": "stdout",
     "output_type": "stream",
     "text": [
      "                x           y          pci        rsrp         dis\n",
      "count  180.000000  180.000000   180.000000  180.000000  180.000000\n",
      "mean    75.592283   13.285358  4013.888889  -84.042380    8.940804\n",
      "std     13.995406    6.207181   124.066971   10.516647    5.152265\n",
      "min     49.178500    0.935500  3800.000000 -119.400000    0.347082\n",
      "25%     64.651000    8.348500  3900.000000  -89.866879    4.988289\n",
      "50%     76.267750   13.886500  4100.000000  -83.564569    8.307024\n",
      "75%     87.012625   18.108250  4100.000000  -76.998335   12.351026\n",
      "max    102.161500   24.023500  4200.000000  -59.969203   26.288881\n"
     ]
    },
    {
     "data": {
      "image/png": "[encoded data removed]",
      "text/plain": [
       "<Figure size 432x288 with 1 Axes>"
      ]
     },
     "metadata": {},
     "output_type": "display_data"
    }
   ],
   "source": [
    "rem_pci_all = pd.read_csv(\"./interface/rsrp_set33_noleft.csv\")\n",
    "#rem_pci_all = pd.read_csv(\"rem_pci_train_pd.csv\")\n",
    "#rem_pci = pd.read_csv(\"rem_rsrp_train_pd.csv\")\n",
    "#rem_test = pd.read_csv(\"rem_test_pd.csv\")\n",
    "#rem_pci_np = np.genfromtxt('rem_pci_train.csv', delimiter=',')\n",
    "#rem_rsrp = pd.read_csv(\"rem_rsrp_train.csv\")\n",
    "#print(rem_pci_all)\n",
    "plt.scatter(rem_pci_all['x'], rem_pci_all['y'], s=50);\n",
    "#print(type(rem_pci_all))\n",
    "print(rem_pci_all.describe())\n",
    "\n"
   ]
  },
  {
   "cell_type": "code",
   "execution_count": 289,
   "metadata": {},
   "outputs": [],
   "source": [
    "#rem_pci_all = preprocessing.scale(rem_pci_all)\n",
    "#print (rem_pci_all)\n",
    "#np.savetxt('normalize.csv', rem_pci_all, delimiter=',', fmt='%f')"
   ]
  },
  {
   "cell_type": "code",
   "execution_count": 290,
   "metadata": {},
   "outputs": [
    {
     "data": {
      "image/png": "[encoded data removed]",
      "text/plain": [
       "<Figure size 432x288 with 1 Axes>"
      ]
     },
     "metadata": {},
     "output_type": "display_data"
    }
   ],
   "source": [
    "#print (rem_pci_all)\n",
    "#print (type(rem_pci_all))\n",
    "#print(rem_pci_all)\n",
    "'''\n",
    "rem_pci_all.insert(4,\"pci_37\",0)\n",
    "rem_pci_all.insert(5,\"pci_38\",0) \n",
    "rem_pci_all.insert(6,\"pci_39\",0) \n",
    "rem_pci_all.insert(7,\"pci_40\",0)\n",
    "rem_pci_all.insert(8,\"pci_41\",0) \n",
    "rem_pci_all.insert(9,\"pci_42\",0) \n",
    "'''\n",
    "rem_pci_all.insert(5,\"pci_37\",0)\n",
    "rem_pci_all.insert(6,\"pci_38\",0) \n",
    "rem_pci_all.insert(7,\"pci_39\",0) \n",
    "rem_pci_all.insert(8,\"pci_40\",0)\n",
    "rem_pci_all.insert(9,\"pci_41\",0) \n",
    "rem_pci_all.insert(10,\"pci_42\",0) \n",
    "\n",
    "'''\n",
    "for i in range(0,len(rem_pci_all)):\n",
    "    if rem_pci_all.iloc[i,2] == 3700:\n",
    "        rem_pci_all.iloc[i,4] = \"1\"\n",
    "    if rem_pci_all.iloc[i,2] == 3800:\n",
    "        rem_pci_all.iloc[i,5] = \"1\"\n",
    "    if rem_pci_all.iloc[i,2] == 3900:\n",
    "        rem_pci_all.iloc[i,6] = \"1\"\n",
    "    if rem_pci_all.iloc[i,2] == 4000:\n",
    "        rem_pci_all.iloc[i,7] = \"1\"\n",
    "    if rem_pci_all.iloc[i,2] == 4100:\n",
    "        rem_pci_all.iloc[i,8] = \"1\"\n",
    "    if rem_pci_all.iloc[i,2] == 4200:\n",
    "        rem_pci_all.iloc[i,9] = \"1\"\n",
    "'''\n",
    "for i in range(0,len(rem_pci_all)):\n",
    "    if rem_pci_all.iloc[i,2] == 3700:\n",
    "        rem_pci_all.iloc[i,5] = \"1\"\n",
    "    if rem_pci_all.iloc[i,2] == 3800:\n",
    "        rem_pci_all.iloc[i,6] = \"1\"\n",
    "    if rem_pci_all.iloc[i,2] == 3900:\n",
    "        rem_pci_all.iloc[i,7] = \"1\"\n",
    "    if rem_pci_all.iloc[i,2] == 4000:\n",
    "        rem_pci_all.iloc[i,8] = \"1\"\n",
    "    if rem_pci_all.iloc[i,2] == 4100:\n",
    "        rem_pci_all.iloc[i,9] = \"1\"\n",
    "    if rem_pci_all.iloc[i,2] == 4200:\n",
    "        rem_pci_all.iloc[i,10] = \"1\"\n",
    "\n",
    "#print(rem_pci_all)\n",
    "#print(\"==========\")\n",
    "#rem_pci_all = rem_pci_all[['x','y','rsrp','pci_37','pci_38','pci_39','pci_40','pci_41','pci_42','pci']]\n",
    "rem_pci_all = rem_pci_all[['x','y','rsrp','dis','pci_37','pci_38','pci_39','pci_40','pci_41','pci_42','pci']]\n",
    "rem_pci_all_copy = rem_pci_all\n",
    "rem_pci_all_cut = rem_pci_all.drop(['pci'], axis=1)\n",
    "#print(rem_pci_all)\n",
    "#print(rem_pci_all)\n",
    "#print(\"===\")  \n",
    "rem_pci_all=rem_pci_all_cut.values\n",
    "#print (type(rem_pci_all))\n",
    "#print (rem_pci_all)\n",
    "#:::Normalize[0,1]\n",
    "#print(rem_pci_all_cut)\n",
    "min_max_scaler = preprocessing.MinMaxScaler()\n",
    "rem_pci_all_n = min_max_scaler.fit_transform(rem_pci_all_cut)\n",
    "#:::Normalize[-1,1]\n",
    "  #max_abs_scaler = preprocessing.MaxAbsScaler()\n",
    "  #rem_pci_all_n = max_abs_scaler.fit_transform(rem_pci_all_cut)\n",
    "\n",
    "#:::Standardisation\n",
    "#print(rem_pci_all_cut)\n",
    "  #rem_pci_all_n = preprocessing.scale(rem_pci_all_cut)\n",
    "#print(rem_pci_all_n.mean(axis=0))\n",
    "#print(rem_pci_all_n.std(axis=0))\n",
    "#print(rem_pci_all_n)\n",
    "#print(\"===\")  \n",
    "rem_pci_all_n_pd = pd.DataFrame(rem_pci_all_n,columns = ['x','y','rsrp','dis','pci_37','pci_38','pci_39','pci_40','pci_41','pci_42'])\n",
    "#print(rem_pci_all_n_pd)\n",
    "rem_pci_all_n_pd.to_csv(\"./debug/rem_pci_all_n_pd.csv\")\n",
    "\n",
    "for i in range(0,len(rem_pci_all_n_pd)):\n",
    "    if rem_pci_all_n_pd.iloc[i,3] == 1:\n",
    "        rem_pci_all_n_pd.iloc[i,3] = \"0.2\"\n",
    "    if rem_pci_all_n_pd.iloc[i,4] == 1:\n",
    "        rem_pci_all_n_pd.iloc[i,4] = \"0.2\"\n",
    "    if rem_pci_all_n_pd.iloc[i,5] == 1:\n",
    "        rem_pci_all_n_pd.iloc[i,5] = \"0.2\"\n",
    "    if rem_pci_all_n_pd.iloc[i,6] == 1:\n",
    "        rem_pci_all_n_pd.iloc[i,6] = \"0.2\"\n",
    "    if rem_pci_all_n_pd.iloc[i,7] == 1:\n",
    "        rem_pci_all_n_pd.iloc[i,7] = \"0.2\"\n",
    "    if rem_pci_all_n_pd.iloc[i,8] == 1:\n",
    "        rem_pci_all_n_pd.iloc[i,8] = \"0.2\"\n",
    "\n",
    "#print (rem_pci_all_n_pd)\n",
    "\n",
    "plt.scatter(rem_pci_all_n_pd['x'], rem_pci_all_n_pd['y'], s=50);\n"
   ]
  },
  {
   "cell_type": "code",
   "execution_count": 291,
   "metadata": {},
   "outputs": [],
   "source": [
    "def group(rem_pci):\n",
    "    #df.groupby('X','Y','PCI').transform(lambda x: x - x.mean())\n",
    "    group_median = rem_pci.groupby(['x','y','pci']).apply(pd.DataFrame.mode)\n",
    "    group_drift = rem_pci.groupby(['x','y']).transform(lambda x: x - x.mean())\n",
    "    return group_median,group_drift"
   ]
  },
  {
   "cell_type": "code",
   "execution_count": 292,
   "metadata": {},
   "outputs": [],
   "source": [
    "def group_pcimap(rem_pci):\n",
    "    #df.groupby('X','Y','PCI').transform(lambda x: x - x.mean())\n",
    "    group_median = rem_pci.groupby(['x','y']).median()\n",
    "    group_drift = rem_pci.groupby(['x','y']).transform(lambda x: x - x.mean())\n",
    "    return group_median,group_drift"
   ]
  },
  {
   "cell_type": "code",
   "execution_count": 293,
   "metadata": {},
   "outputs": [
    {
     "name": "stdout",
     "output_type": "stream",
     "text": [
      "0.3718829359406054\n"
     ]
    },
    {
     "data": {
      "text/plain": [
       "<matplotlib.colorbar.Colorbar at 0x7f6668c8e630>"
      ]
     },
     "execution_count": 293,
     "metadata": {},
     "output_type": "execute_result"
    },
    {
     "data": {
      "image/png": "[encoded data removed]",
      "text/plain": [
       "<Figure size 432x288 with 2 Axes>"
      ]
     },
     "metadata": {},
     "output_type": "display_data"
    }
   ],
   "source": [
    "#print(rem_pci_all_n_pd)\n",
    "group_median,group_drift = group_pcimap(rem_pci_all_n_pd)\n",
    "#rsrp,group_drift = group(rem_rsrp)\n",
    "#print(\"rem_rsrp==\",rsrp)\n",
    "#rem_rsrp.to_csv(\"rsrp.csv\")\n",
    "#group_median,group_drift = group(rem_test)\n",
    "kmeans = KMeans(n_clusters=15)\n",
    "#np.savetxt('group_median.csv', group_median, delimiter=',', fmt='%f')\n",
    "#group_median = pd.read_csv(\"group_median.csv\")\n",
    "#print(rem_pci['pci'])\n",
    "kmeans_fit = kmeans.fit(rem_pci_all_n_pd)\n",
    "y_kmeans = kmeans.predict(rem_pci_all_n_pd)\n",
    "#kmeans_fit = kmeans.fit(group_median)\n",
    "#print(group_median)\n",
    "#y_kmeans = kmeans.predict(group_median)\n",
    "#print(y_kmeans)\n",
    "#print(y_kmeans.shape)\n",
    "\n",
    "\n",
    "#print(y_kmeans_pd)\n",
    "\n",
    "#add_kmeans = pd.merge(rem_pci,y_kmeans_pd, left_index=True, right_index=True)\n",
    "#print(add_kmeans)\n",
    "#add_kmeans.to_csv('add_kmeans.csv')\n",
    "#print(group_median)\n",
    "rem_pci_all_pd = pd.DataFrame(rem_pci_all_copy,columns=['x','y','rsrp','pci_37','pci_38','pci_39','pci_40','pci_41','pci_42','pci'])\n",
    "#print(type(rem_pci_all_pd))\n",
    "#print(type(add_kmeans))\n",
    "\n",
    "#print(rem_pci_all_pd)\n",
    "\n",
    "plt.scatter(rem_pci_all_n_pd['x'], rem_pci_all_n_pd['y'], s=50, c=y_kmeans, cmap='jet');\n",
    "y_kmeans_pd = pd.DataFrame({'zone':y_kmeans})\n",
    "add_kmeans = pd.merge(rem_pci_all_pd,y_kmeans_pd, left_index=True, right_index=True)\n",
    "#print(add_kmeans)\n",
    "#add_kmeans = pd.merge(rem_pci_all_pd['pci'],add_kmeans, left_index=True, right_index=True)\n",
    "for i in range(14,-1,-1):\n",
    "    add_kmeans['zone'].replace(i,i+1,inplace=True)\n",
    "'''\n",
    "add_kmeans['zone'].replace(5,6,inplace=True)\n",
    "add_kmeans['zone'].replace(4,5,inplace=True)\n",
    "add_kmeans['zone'].replace(3,4,inplace=True)\n",
    "add_kmeans['zone'].replace(2,3,inplace=True)\n",
    "add_kmeans['zone'].replace(1,2,inplace=True)\n",
    "add_kmeans['zone'].replace(0,1,inplace=True)\n",
    "'''\n",
    "add_kmeans['pci'] = add_kmeans['pci'].map(lambda x:int(x/100))\n",
    "\n",
    "add_kmeans.to_csv('aaa.csv')\n",
    "add_kmeans.values[:,:]\n",
    "add_kmeans = add_kmeans.drop(['pci_37','pci_38','pci_39','pci_40','pci_41','pci_42'], axis=1)\n",
    "add_kmeans = add_kmeans[['x','y','pci','rsrp','zone']]\n",
    "add_kmeans = add_kmeans.values\n",
    "#print(add_kmeans)\n",
    "np.savetxt('./zone_result/set33_part_train.csv', add_kmeans, delimiter=',', fmt='%s')\n",
    "#y_kmeans = np.reshape(y_kmeans, (27, 105))\n",
    "#np.savetxt('y_kmeans.csv', y_kmeans, delimiter=',', fmt='%f')\n",
    "cluster_labels = kmeans_fit.labels_\n",
    "silhouette_avg = metrics.silhouette_score(rem_pci_all_n_pd, cluster_labels)\n",
    "print(silhouette_avg)\n",
    "plt.colorbar(ticks=range(1,15))"
   ]
  },
  {
   "cell_type": "code",
   "execution_count": 179,
   "metadata": {},
   "outputs": [
    {
     "data": {
      "image/png": "[encoded data removed]",
      "text/plain": [
       "<Figure size 432x288 with 1 Axes>"
      ]
     },
     "metadata": {},
     "output_type": "display_data"
    },
    {
     "name": "stdout",
     "output_type": "stream",
     "text": [
      "[0.5437275497570657, 0.3091192021252931, 0.33825891093292965, 0.3473560732988025, 0.36609846808518887, 0.3762419288682098, 0.35507857643057333, 0.3600115426941478, 0.3604472656165854, 0.361303205564955, 0.3638159909905613, 0.3648312835261244, 0.38356896944898183, 0.344667506591013, 0.3582981153528866, 0.35870034526150174, 0.3618680825998811, 0.3665153429332348, 0.3812787413091639, 0.36822737950436496, 0.3875458070383233, 0.3658791823416062, 0.369829795078554, 0.3805381648601372, 0.37837385462180556, 0.3655991644352961, 0.36027150554463633, 0.37393942318040224, 0.35361159347525284, 0.3842906086734909, 0.37669144040519764, 0.3776388535223521, 0.36343774544400403, 0.3651624098874175, 0.3764262198155257, 0.375398386331629, 0.3667648303926626, 0.37135654086493636, 0.34629201349733313, 0.3744159039233681, 0.3716763580671537, 0.3629715098155272, 0.35429713824504844, 0.35019827081573995, 0.35999645304837496, 0.3465423223345979, 0.34124681407832846, 0.35529912497238825]\n"
     ]
    }
   ],
   "source": [
    "# 迴圈\n",
    "silhouette_avgs = []\n",
    "ks = range(2, 50)\n",
    "for k in ks:\n",
    "    kmeans_fit = cluster.KMeans(n_clusters = k).fit(rem_pci_all_n_pd)\n",
    "    cluster_labels = kmeans_fit.labels_\n",
    "    silhouette_avg = metrics.silhouette_score(rem_pci_all_n_pd, cluster_labels)\n",
    "    silhouette_avgs.append(silhouette_avg)\n",
    "\n",
    "# 作圖並印出 k = 2 到 10 的績效\n",
    "plt.bar(ks, silhouette_avgs)\n",
    "plt.show()\n",
    "print(silhouette_avgs)"
   ]
  },
  {
   "cell_type": "code",
   "execution_count": null,
   "metadata": {},
   "outputs": [],
   "source": []
  },
  {
   "cell_type": "code",
   "execution_count": null,
   "metadata": {},
   "outputs": [],
   "source": [
    "\n"
   ]
  },
  {
   "cell_type": "code",
   "execution_count": null,
   "metadata": {},
   "outputs": [],
   "source": []
  },
  {
   "cell_type": "code",
   "execution_count": null,
   "metadata": {},
   "outputs": [],
   "source": []
  },
  {
   "cell_type": "code",
   "execution_count": null,
   "metadata": {},
   "outputs": [],
   "source": []
  },
  {
   "cell_type": "code",
   "execution_count": null,
   "metadata": {},
   "outputs": [],
   "source": []
  },
  {
   "cell_type": "code",
   "execution_count": null,
   "metadata": {},
   "outputs": [],
   "source": []
  },
  {
   "cell_type": "code",
   "execution_count": null,
   "metadata": {},
   "outputs": [],
   "source": []
  },
  {
   "cell_type": "code",
   "execution_count": null,
   "metadata": {},
   "outputs": [],
   "source": []
  },
  {
   "cell_type": "code",
   "execution_count": null,
   "metadata": {},
   "outputs": [],
   "source": []
  },
  {
   "cell_type": "code",
   "execution_count": null,
   "metadata": {},
   "outputs": [],
   "source": []
  },
  {
   "cell_type": "code",
   "execution_count": null,
   "metadata": {},
   "outputs": [],
   "source": []
  }
 ],
 "metadata": {
  "kernelspec": {
   "display_name": "Python 3",
   "language": "python",
   "name": "python3"
  },
  "language_info": {
   "codemirror_mode": {
    "name": "ipython",
    "version": 3
   },
   "file_extension": ".py",
   "mimetype": "text/x-python",
   "name": "python",
   "nbconvert_exporter": "python",
   "pygments_lexer": "ipython3",
   "version": "3.5.0"
  }
 },
 "nbformat": 4,
 "nbformat_minor": 2
}
