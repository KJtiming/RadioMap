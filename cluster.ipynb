{
 "cells": [
  {
   "cell_type": "code",
   "execution_count": 11,
   "metadata": {},
   "outputs": [],
   "source": [
    "from sklearn.cluster import KMeans\n",
    "import numpy as np\n",
    "import matplotlib.pyplot as plt\n",
    "import pandas as pd\n",
    "from sklearn import cluster, datasets, metrics\n",
    "from sklearn.datasets.samples_generator import make_blobs\n",
    "import matplotlib.pyplot as plt\n",
    "from sklearn.neighbors import KNeighborsClassifier\n",
    "from sklearn.tree import DecisionTreeClassifier\n",
    "from sklearn.neighbors import KNeighborsRegressor\n",
    "from sklearn.neighbors import RadiusNeighborsRegressor\n",
    "from sklearn.tree import DecisionTreeRegressor\n",
    "from sklearn.tree import ExtraTreeRegressor\n",
    "from sklearn.ensemble import RandomForestRegressor\n",
    "from sklearn.ensemble import GradientBoostingRegressor\n",
    "from sklearn.neural_network import MLPRegressor\n",
    "from sklearn.neural_network import MLPClassifier\n",
    "from sklearn.svm import SVR\n",
    "from sklearn.multioutput import MultiOutputRegressor\n",
    "import matplotlib.pyplot as plt\n",
    "import matplotlib.pyplot as plt2\n",
    "import matplotlib.image as mpimg\n",
    "from PIL import Image\n",
    "import numpy as np\n",
    "import math\n",
    "from keras.models import Sequential\n",
    "from keras.layers import Dense\n",
    "from sklearn.datasets.samples_generator import make_blobs\n",
    "from sklearn.preprocessing import MinMaxScaler\n",
    "from array import array\n",
    "from keras.utils import to_categorical\n",
    "from keras.utils import np_utils\n",
    "from sklearn import preprocessing\n",
    "#from sklearn.mixture import GMM\n",
    "#from learning_model import *\n",
    "#from sklearn.cross_validation import train_test_split\n",
    "#from data_handle import * "
   ]
  },
  {
   "cell_type": "code",
   "execution_count": 12,
   "metadata": {},
   "outputs": [
    {
     "name": "stdout",
     "output_type": "stream",
     "text": [
      "                x           y          pci        rsrp\n",
      "count  220.000000  220.000000   220.000000  220.000000\n",
      "mean    67.277139   13.790152  3971.363636  -86.657066\n",
      "std     22.596434    6.035249   147.886031   12.113036\n",
      "min      6.974500    0.935500  3700.000000 -125.670370\n",
      "25%     54.137875    9.933625  3900.000000  -94.528977\n",
      "50%     71.713750   13.237000  4000.000000  -85.153745\n",
      "75%     84.394750   18.240625  4100.000000  -78.453276\n",
      "max    102.161500   24.607000  4200.000000  -59.969203\n"
     ]
    },
    {
     "data": {
      "image/png": "[encoded data removed]",
      "text/plain": [
       "<Figure size 432x288 with 1 Axes>"
      ]
     },
     "metadata": {},
     "output_type": "display_data"
    }
   ],
   "source": [
    "rem_pci_all = pd.read_csv(\"./interface/rsrp_set33_nodis.csv\")\n",
    "#rem_pci_all = pd.read_csv(\"rem_pci_train_pd.csv\")\n",
    "#rem_pci = pd.read_csv(\"rem_rsrp_train_pd.csv\")\n",
    "#rem_test = pd.read_csv(\"rem_test_pd.csv\")\n",
    "#rem_pci_np = np.genfromtxt('rem_pci_train.csv', delimiter=',')\n",
    "#rem_rsrp = pd.read_csv(\"rem_rsrp_train.csv\")\n",
    "#print(rem_pci_all)\n",
    "plt.scatter(rem_pci_all['x'], rem_pci_all['y'], s=50);\n",
    "#print(type(rem_pci_all))\n",
    "print(rem_pci_all.describe())\n",
    "\n"
   ]
  },
  {
   "cell_type": "code",
   "execution_count": 13,
   "metadata": {},
   "outputs": [],
   "source": [
    "#rem_pci_all = preprocessing.scale(rem_pci_all)\n",
    "#print (rem_pci_all)\n",
    "#np.savetxt('normalize.csv', rem_pci_all, delimiter=',', fmt='%f')"
   ]
  },
  {
   "cell_type": "code",
   "execution_count": 14,
   "metadata": {},
   "outputs": [
    {
     "data": {
      "image/png": "[encoded data removed]",
      "text/plain": [
       "<Figure size 432x288 with 1 Axes>"
      ]
     },
     "metadata": {},
     "output_type": "display_data"
    }
   ],
   "source": [
    "#print (rem_pci_all)\n",
    "#print (type(rem_pci_all))\n",
    "#print(rem_pci_all)\n",
    "rem_pci_all.insert(4,\"pci_37\",0)\n",
    "rem_pci_all.insert(5,\"pci_38\",0) \n",
    "rem_pci_all.insert(6,\"pci_39\",0) \n",
    "rem_pci_all.insert(7,\"pci_40\",0)\n",
    "rem_pci_all.insert(8,\"pci_41\",0) \n",
    "rem_pci_all.insert(9,\"pci_42\",0) \n",
    "\n",
    "\n",
    "for i in range(0,len(rem_pci_all)):\n",
    "    if rem_pci_all.iloc[i,2] == 3700:\n",
    "        rem_pci_all.iloc[i,4] = \"1\"\n",
    "    if rem_pci_all.iloc[i,2] == 3800:\n",
    "        rem_pci_all.iloc[i,5] = \"1\"\n",
    "    if rem_pci_all.iloc[i,2] == 3900:\n",
    "        rem_pci_all.iloc[i,6] = \"1\"\n",
    "    if rem_pci_all.iloc[i,2] == 4000:\n",
    "        rem_pci_all.iloc[i,7] = \"1\"\n",
    "    if rem_pci_all.iloc[i,2] == 4100:\n",
    "        rem_pci_all.iloc[i,8] = \"1\"\n",
    "    if rem_pci_all.iloc[i,2] == 4200:\n",
    "        rem_pci_all.iloc[i,9] = \"1\"\n",
    "#print(rem_pci_all)\n",
    "#print(\"==========\")\n",
    "#rem_pci_all = rem_pci_all[['x','y','rsrp','dis','pci_37','pci_38','pci_39','pci_40','pci_41','pci_42','pci']]\n",
    "rem_pci_all = rem_pci_all[['x','y','rsrp','pci_37','pci_38','pci_39','pci_40','pci_41','pci_42','pci']]\n",
    "rem_pci_all_copy = rem_pci_all\n",
    "rem_pci_all_cut = rem_pci_all.drop(['pci'], axis=1)\n",
    "#print(rem_pci_all)\n",
    "#print(rem_pci_all)\n",
    "#print(\"===\")  \n",
    "rem_pci_all=rem_pci_all_cut.values\n",
    "#print (type(rem_pci_all))\n",
    "#print (rem_pci_all)\n",
    "#:::Normalize[0,1]\n",
    "#print(rem_pci_all_cut)\n",
    "min_max_scaler = preprocessing.MinMaxScaler()\n",
    "rem_pci_all_n = min_max_scaler.fit_transform(rem_pci_all_cut)\n",
    "#:::Normalize[-1,1]\n",
    "  #max_abs_scaler = preprocessing.MaxAbsScaler()\n",
    "  #rem_pci_all_n = max_abs_scaler.fit_transform(rem_pci_all_cut)\n",
    "\n",
    "#:::Standardisation\n",
    "#print(rem_pci_all_cut)\n",
    "  #rem_pci_all_n = preprocessing.scale(rem_pci_all_cut)\n",
    "#print(rem_pci_all_n.mean(axis=0))\n",
    "#print(rem_pci_all_n.std(axis=0))\n",
    "#print(rem_pci_all_n)\n",
    "#print(\"===\")  \n",
    "rem_pci_all_n_pd = pd.DataFrame(rem_pci_all_n,columns = ['x','y','rsrp','pci_37','pci_38','pci_39','pci_40','pci_41','pci_42'])\n",
    "#print(rem_pci_all_n_pd)\n",
    "rem_pci_all_n_pd.to_csv(\"./debug/rem_pci_all_n_pd.csv\")\n",
    "'''\n",
    "for i in range(0,len(rem_pci_all_n_pd)):\n",
    "    if rem_pci_all_n_pd.iloc[i,3] == 1:\n",
    "        rem_pci_all_n_pd.iloc[i,3] = \"0.5\"\n",
    "    if rem_pci_all_n_pd.iloc[i,4] == 1:\n",
    "        rem_pci_all_n_pd.iloc[i,4] = \"0.5\"\n",
    "    if rem_pci_all_n_pd.iloc[i,5] == 1:\n",
    "        rem_pci_all_n_pd.iloc[i,5] = \"0.5\"\n",
    "    if rem_pci_all_n_pd.iloc[i,6] == 1:\n",
    "        rem_pci_all_n_pd.iloc[i,6] = \"0.5\"\n",
    "    if rem_pci_all_n_pd.iloc[i,7] == 1:\n",
    "        rem_pci_all_n_pd.iloc[i,7] = \"0.5\"\n",
    "    if rem_pci_all_n_pd.iloc[i,8] == 1:\n",
    "        rem_pci_all_n_pd.iloc[i,8] = \"0.5\"\n",
    "#print (rem_pci_all_n_pd)\n",
    "'''\n",
    "plt.scatter(rem_pci_all_n_pd['x'], rem_pci_all_n_pd['y'], s=50);\n"
   ]
  },
  {
   "cell_type": "code",
   "execution_count": 15,
   "metadata": {},
   "outputs": [],
   "source": [
    "def group(rem_pci):\n",
    "    #df.groupby('X','Y','PCI').transform(lambda x: x - x.mean())\n",
    "    group_median = rem_pci.groupby(['x','y','pci']).apply(pd.DataFrame.mode)\n",
    "    group_drift = rem_pci.groupby(['x','y']).transform(lambda x: x - x.mean())\n",
    "    return group_median,group_drift"
   ]
  },
  {
   "cell_type": "code",
   "execution_count": 16,
   "metadata": {},
   "outputs": [],
   "source": [
    "def group_pcimap(rem_pci):\n",
    "    #df.groupby('X','Y','PCI').transform(lambda x: x - x.mean())\n",
    "    group_median = rem_pci.groupby(['x','y']).median()\n",
    "    group_drift = rem_pci.groupby(['x','y']).transform(lambda x: x - x.mean())\n",
    "    return group_median,group_drift"
   ]
  },
  {
   "cell_type": "code",
   "execution_count": 17,
   "metadata": {},
   "outputs": [
    {
     "name": "stdout",
     "output_type": "stream",
     "text": [
      "0.7638670438399539\n"
     ]
    },
    {
     "data": {
      "image/png": "[encoded data removed]",
      "text/plain": [
       "<Figure size 432x288 with 1 Axes>"
      ]
     },
     "metadata": {},
     "output_type": "display_data"
    }
   ],
   "source": [
    "#print(rem_pci_all_n_pd)\n",
    "group_median,group_drift = group_pcimap(rem_pci_all_n_pd)\n",
    "#rsrp,group_drift = group(rem_rsrp)\n",
    "#print(\"rem_rsrp==\",rsrp)\n",
    "#rem_rsrp.to_csv(\"rsrp.csv\")\n",
    "#group_median,group_drift = group(rem_test)\n",
    "kmeans = KMeans(n_clusters=6)\n",
    "#np.savetxt('group_median.csv', group_median, delimiter=',', fmt='%f')\n",
    "#group_median = pd.read_csv(\"group_median.csv\")\n",
    "#print(rem_pci['pci'])\n",
    "kmeans_fit = kmeans.fit(rem_pci_all_n_pd)\n",
    "y_kmeans = kmeans.predict(rem_pci_all_n_pd)\n",
    "#kmeans_fit = kmeans.fit(group_median)\n",
    "#print(group_median)\n",
    "#y_kmeans = kmeans.predict(group_median)\n",
    "#print(y_kmeans)\n",
    "#print(y_kmeans.shape)\n",
    "\n",
    "\n",
    "#print(y_kmeans_pd)\n",
    "\n",
    "#add_kmeans = pd.merge(rem_pci,y_kmeans_pd, left_index=True, right_index=True)\n",
    "#print(add_kmeans)\n",
    "#add_kmeans.to_csv('add_kmeans.csv')\n",
    "#print(group_median)\n",
    "rem_pci_all_pd = pd.DataFrame(rem_pci_all_copy,columns=['x','y','rsrp','pci_37','pci_38','pci_39','pci_40','pci_41','pci_42','pci'])\n",
    "#print(type(rem_pci_all_pd))\n",
    "#print(type(add_kmeans))\n",
    "\n",
    "#print(rem_pci_all_pd)\n",
    "\n",
    "plt.scatter(rem_pci_all_n_pd['x'], rem_pci_all_n_pd['y'], s=50, c=y_kmeans, cmap='jet');\n",
    "y_kmeans_pd = pd.DataFrame({'zone':y_kmeans})\n",
    "add_kmeans = pd.merge(rem_pci_all_pd,y_kmeans_pd, left_index=True, right_index=True)\n",
    "#print(add_kmeans)\n",
    "#add_kmeans = pd.merge(rem_pci_all_pd['pci'],add_kmeans, left_index=True, right_index=True)\n",
    "#add_kmeans['zone'].replace(6,7,inplace=True)\n",
    "add_kmeans['zone'].replace(5,6,inplace=True)\n",
    "add_kmeans['zone'].replace(4,5,inplace=True)\n",
    "add_kmeans['zone'].replace(3,4,inplace=True)\n",
    "add_kmeans['zone'].replace(2,3,inplace=True)\n",
    "add_kmeans['zone'].replace(1,2,inplace=True)\n",
    "add_kmeans['zone'].replace(0,1,inplace=True)\n",
    "add_kmeans['pci'] = add_kmeans['pci'].map(lambda x:int(x/100))\n",
    "\n",
    "add_kmeans.to_csv('aaa.csv')\n",
    "add_kmeans.values[:,:]\n",
    "add_kmeans = add_kmeans.drop(['pci_37','pci_38','pci_39','pci_40','pci_41','pci_42'], axis=1)\n",
    "add_kmeans = add_kmeans[['x','y','pci','rsrp','zone']]\n",
    "add_kmeans = add_kmeans.values\n",
    "#print(add_kmeans)\n",
    "np.savetxt('./zone_result/set33_part_train.csv', add_kmeans, delimiter=',', fmt='%s')\n",
    "#y_kmeans = np.reshape(y_kmeans, (27, 105))\n",
    "#np.savetxt('y_kmeans.csv', y_kmeans, delimiter=',', fmt='%f')\n",
    "cluster_labels = kmeans_fit.labels_\n",
    "silhouette_avg = metrics.silhouette_score(rem_pci_all_n_pd, cluster_labels)\n",
    "print(silhouette_avg)\n"
   ]
  },
  {
   "cell_type": "code",
   "execution_count": 18,
   "metadata": {},
   "outputs": [
    {
     "data": {
      "image/png": "[encoded data removed]",
      "text/plain": [
       "<Figure size 432x288 with 1 Axes>"
      ]
     },
     "metadata": {},
     "output_type": "display_data"
    },
    {
     "name": "stdout",
     "output_type": "stream",
     "text": [
      "[0.4148935229030044, 0.5370080642049107, 0.6258616948452674, 0.6948234427128495, 0.7638670438399539, 0.6368781087910173, 0.5804842964455564, 0.5701608109393009, 0.5687602924139674, 0.5079040120994966, 0.49643635824419474, 0.4928995683860114, 0.46181723382377626, 0.46722708896619963, 0.44615969824124163, 0.4500939300110298, 0.4320250065781199, 0.4354163564058824, 0.4261438242923413, 0.45161150425044083, 0.45818733288320757, 0.4716337091281912, 0.4304618734229825, 0.4283951965979106, 0.46076904333490815, 0.4446046881902421, 0.44798430467417205, 0.4434147993132271, 0.45529863419185984, 0.4316963783588844, 0.4420471081229616, 0.40689622051995505, 0.4456356264965137, 0.44634942289001484, 0.4394071387982645, 0.4331862057696757, 0.4482928630698053, 0.404859951101001, 0.41711285322526287, 0.40534626538873614, 0.4246912744936254, 0.3999491689324561, 0.3840655388333277, 0.41628536488762924, 0.4230923154602009, 0.3998935521536185, 0.4336132889152277, 0.38771359239933256]\n"
     ]
    }
   ],
   "source": [
    "# 迴圈\n",
    "silhouette_avgs = []\n",
    "ks = range(2, 50)\n",
    "for k in ks:\n",
    "    kmeans_fit = cluster.KMeans(n_clusters = k).fit(rem_pci_all_n_pd)\n",
    "    cluster_labels = kmeans_fit.labels_\n",
    "    silhouette_avg = metrics.silhouette_score(rem_pci_all_n_pd, cluster_labels)\n",
    "    silhouette_avgs.append(silhouette_avg)\n",
    "\n",
    "# 作圖並印出 k = 2 到 10 的績效\n",
    "plt.bar(ks, silhouette_avgs)\n",
    "plt.show()\n",
    "print(silhouette_avgs)"
   ]
  },
  {
   "cell_type": "code",
   "execution_count": 9,
   "metadata": {},
   "outputs": [],
   "source": []
  },
  {
   "cell_type": "code",
   "execution_count": null,
   "metadata": {},
   "outputs": [],
   "source": [
    "\n"
   ]
  },
  {
   "cell_type": "code",
   "execution_count": null,
   "metadata": {},
   "outputs": [],
   "source": []
  },
  {
   "cell_type": "code",
   "execution_count": null,
   "metadata": {},
   "outputs": [],
   "source": []
  },
  {
   "cell_type": "code",
   "execution_count": 10,
   "metadata": {},
   "outputs": [
    {
     "ename": "NameError",
     "evalue": "name 'GMM' is not defined",
     "output_type": "error",
     "traceback": [
      "\u001b[0;31m---------------------------------------------------------------------------\u001b[0m",
      "\u001b[0;31mNameError\u001b[0m                                 Traceback (most recent call last)",
      "\u001b[0;32m<ipython-input-10-8b72c4c1b69a>\u001b[0m in \u001b[0;36m<module>\u001b[0;34m()\u001b[0m\n\u001b[0;32m----> 1\u001b[0;31m \u001b[0mgmm\u001b[0m \u001b[0;34m=\u001b[0m \u001b[0mGMM\u001b[0m\u001b[0;34m(\u001b[0m\u001b[0mn_components\u001b[0m\u001b[0;34m=\u001b[0m\u001b[0;36m6\u001b[0m\u001b[0;34m)\u001b[0m\u001b[0;34m.\u001b[0m\u001b[0mfit\u001b[0m\u001b[0;34m(\u001b[0m\u001b[0mrem_pci\u001b[0m\u001b[0;34m)\u001b[0m\u001b[0;34m\u001b[0m\u001b[0m\n\u001b[0m\u001b[1;32m      2\u001b[0m \u001b[0mlabels\u001b[0m \u001b[0;34m=\u001b[0m \u001b[0mgmm\u001b[0m\u001b[0;34m.\u001b[0m\u001b[0mpredict\u001b[0m\u001b[0;34m(\u001b[0m\u001b[0mrem_pci\u001b[0m\u001b[0;34m)\u001b[0m\u001b[0;34m\u001b[0m\u001b[0m\n\u001b[1;32m      3\u001b[0m \u001b[0mplt\u001b[0m\u001b[0;34m.\u001b[0m\u001b[0mscatter\u001b[0m\u001b[0;34m(\u001b[0m\u001b[0mrem_pci\u001b[0m\u001b[0;34m[\u001b[0m\u001b[0;34m'x'\u001b[0m\u001b[0;34m]\u001b[0m\u001b[0;34m,\u001b[0m \u001b[0mrem_pci\u001b[0m\u001b[0;34m[\u001b[0m\u001b[0;34m'y'\u001b[0m\u001b[0;34m]\u001b[0m\u001b[0;34m,\u001b[0m \u001b[0ms\u001b[0m\u001b[0;34m=\u001b[0m\u001b[0;36m50\u001b[0m\u001b[0;34m,\u001b[0m \u001b[0mc\u001b[0m\u001b[0;34m=\u001b[0m\u001b[0mlabels\u001b[0m\u001b[0;34m,\u001b[0m \u001b[0mcmap\u001b[0m\u001b[0;34m=\u001b[0m\u001b[0;34m'jet'\u001b[0m\u001b[0;34m)\u001b[0m\u001b[0;34m;\u001b[0m\u001b[0;34m\u001b[0m\u001b[0m\n\u001b[1;32m      4\u001b[0m \u001b[0mprint\u001b[0m \u001b[0;34m(\u001b[0m\u001b[0mlabels\u001b[0m\u001b[0;34m)\u001b[0m\u001b[0;34m\u001b[0m\u001b[0m\n",
      "\u001b[0;31mNameError\u001b[0m: name 'GMM' is not defined"
     ]
    }
   ],
   "source": []
  },
  {
   "cell_type": "code",
   "execution_count": null,
   "metadata": {},
   "outputs": [],
   "source": []
  },
  {
   "cell_type": "code",
   "execution_count": null,
   "metadata": {},
   "outputs": [],
   "source": []
  },
  {
   "cell_type": "code",
   "execution_count": null,
   "metadata": {},
   "outputs": [],
   "source": []
  },
  {
   "cell_type": "code",
   "execution_count": null,
   "metadata": {},
   "outputs": [],
   "source": []
  },
  {
   "cell_type": "code",
   "execution_count": null,
   "metadata": {},
   "outputs": [],
   "source": []
  },
  {
   "cell_type": "code",
   "execution_count": null,
   "metadata": {},
   "outputs": [],
   "source": []
  },
  {
   "cell_type": "code",
   "execution_count": null,
   "metadata": {},
   "outputs": [],
   "source": []
  }
 ],
 "metadata": {
  "kernelspec": {
   "display_name": "Python 3",
   "language": "python",
   "name": "python3"
  },
  "language_info": {
   "codemirror_mode": {
    "name": "ipython",
    "version": 3
   },
   "file_extension": ".py",
   "mimetype": "text/x-python",
   "name": "python",
   "nbconvert_exporter": "python",
   "pygments_lexer": "ipython3",
   "version": "3.5.0"
  }
 },
 "nbformat": 4,
 "nbformat_minor": 2
}
