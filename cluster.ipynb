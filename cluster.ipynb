{
 "cells": [
  {
   "cell_type": "code",
   "execution_count": 320,
   "metadata": {},
   "outputs": [],
   "source": [
    "from sklearn.cluster import KMeans\n",
    "import numpy as np\n",
    "import matplotlib.pyplot as plt\n",
    "import pandas as pd\n",
    "from sklearn import cluster, datasets, metrics\n",
    "from sklearn.datasets.samples_generator import make_blobs\n",
    "import matplotlib.pyplot as plt\n",
    "from sklearn.neighbors import KNeighborsClassifier\n",
    "from sklearn.tree import DecisionTreeClassifier\n",
    "from sklearn.neighbors import KNeighborsRegressor\n",
    "from sklearn.neighbors import RadiusNeighborsRegressor\n",
    "from sklearn.tree import DecisionTreeRegressor\n",
    "from sklearn.tree import ExtraTreeRegressor\n",
    "from sklearn.ensemble import RandomForestRegressor\n",
    "from sklearn.ensemble import GradientBoostingRegressor\n",
    "from sklearn.neural_network import MLPRegressor\n",
    "from sklearn.neural_network import MLPClassifier\n",
    "from sklearn.svm import SVR\n",
    "from sklearn.multioutput import MultiOutputRegressor\n",
    "import matplotlib.pyplot as plt\n",
    "import matplotlib.pyplot as plt2\n",
    "import matplotlib.image as mpimg\n",
    "from PIL import Image\n",
    "import numpy as np\n",
    "import math\n",
    "from keras.models import Sequential\n",
    "from keras.layers import Dense\n",
    "from sklearn.datasets.samples_generator import make_blobs\n",
    "from sklearn.preprocessing import MinMaxScaler\n",
    "from array import array\n",
    "from keras.utils import to_categorical\n",
    "from keras.utils import np_utils\n",
    "from sklearn import preprocessing\n",
    "#from sklearn.mixture import GMM\n",
    "#from learning_model import *\n",
    "#from sklearn.cross_validation import train_test_split\n",
    "#from data_handle import * "
   ]
  },
  {
   "cell_type": "code",
   "execution_count": 372,
   "metadata": {},
   "outputs": [
    {
     "name": "stdout",
     "output_type": "stream",
     "text": [
      "        x        y   pci        rsrp        dis\n",
      "0  6.9745  14.5660  3700 -111.464000  17.438928\n",
      "1  7.0255  16.5805  3900 -124.574074  61.320984\n",
      "2  7.0330  12.1930  3900 -118.212500  61.183143\n",
      "3  8.7550  14.6395  3900 -119.633333  59.496108\n",
      "4  8.8030  16.5355  3700 -125.670370  15.926383\n"
     ]
    },
    {
     "data": {
      "image/png": "[encoded data removed]",
      "text/plain": [
       "<Figure size 432x288 with 1 Axes>"
      ]
     },
     "metadata": {},
     "output_type": "display_data"
    }
   ],
   "source": [
    "rem_pci_all = pd.read_csv(\"rsrp_set33.csv\")\n",
    "#rem_pci_all = pd.read_csv(\"rem_pci_train_pd.csv\")\n",
    "#rem_pci = pd.read_csv(\"rem_rsrp_train_pd.csv\")\n",
    "#rem_test = pd.read_csv(\"rem_test_pd.csv\")\n",
    "#rem_pci_np = np.genfromtxt('rem_pci_train.csv', delimiter=',')\n",
    "#rem_rsrp = pd.read_csv(\"rem_rsrp_train.csv\")\n",
    "print(rem_pci_all.head())\n",
    "plt.scatter(rem_pci_all['x'], rem_pci_all['y'], s=50);"
   ]
  },
  {
   "cell_type": "code",
   "execution_count": 373,
   "metadata": {},
   "outputs": [],
   "source": [
    "#rem_pci_all = preprocessing.scale(rem_pci_all)\n",
    "#print (rem_pci_all)\n",
    "#np.savetxt('normalize.csv', rem_pci_all, delimiter=',', fmt='%f')"
   ]
  },
  {
   "cell_type": "code",
   "execution_count": 374,
   "metadata": {},
   "outputs": [
    {
     "data": {
      "image/png": "[encoded data removed]",
      "text/plain": [
       "<Figure size 432x288 with 1 Axes>"
      ]
     },
     "metadata": {},
     "output_type": "display_data"
    }
   ],
   "source": [
    "#print (rem_pci_all)\n",
    "#print (type(rem_pci_all))\n",
    "#print(rem_pci_all)\n",
    "rem_pci_all.insert(5,\"pci_37\",0)\n",
    "rem_pci_all.insert(6,\"pci_38\",0) \n",
    "rem_pci_all.insert(7,\"pci_39\",0) \n",
    "rem_pci_all.insert(8,\"pci_40\",0)\n",
    "rem_pci_all.insert(9,\"pci_41\",0) \n",
    "rem_pci_all.insert(10,\"pci_42\",0) \n",
    "\n",
    "\n",
    "for i in range(0,len(rem_pci_all)):\n",
    "    if rem_pci_all.iloc[i,2] == 3700:\n",
    "        rem_pci_all.iloc[i,5] = \"1\"\n",
    "    if rem_pci_all.iloc[i,2] == 3800:\n",
    "        rem_pci_all.iloc[i,6] = \"1\"\n",
    "    if rem_pci_all.iloc[i,2] == 3900:\n",
    "        rem_pci_all.iloc[i,7] = \"1\"\n",
    "    if rem_pci_all.iloc[i,2] == 4000:\n",
    "        rem_pci_all.iloc[i,8] = \"1\"\n",
    "    if rem_pci_all.iloc[i,2] == 4100:\n",
    "        rem_pci_all.iloc[i,9] = \"1\"\n",
    "    if rem_pci_all.iloc[i,2] == 4200:\n",
    "        rem_pci_all.iloc[i,10] = \"1\"\n",
    "#print(rem_pci_all)\n",
    "#print(\"==========\")\n",
    "rem_pci_all = rem_pci_all[['x','y','rsrp','dis','pci_37','pci_38','pci_39','pci_40','pci_41','pci_42','pci']]\n",
    "rem_pci_all_copy = rem_pci_all\n",
    "rem_pci_all_cut = rem_pci_all.drop(['pci'], axis=1)\n",
    "\n",
    "#print(rem_pci_all)\n",
    "#print(\"===\")  \n",
    "rem_pci_all=rem_pci_all_cut.values\n",
    "#print (type(rem_pci_all))\n",
    "#print (rem_pci_all)\n",
    "#:::Normalize[0,1]\n",
    "#print(rem_pci_all_cut)\n",
    "min_max_scaler = preprocessing.MinMaxScaler()\n",
    "rem_pci_all_n = min_max_scaler.fit_transform(rem_pci_all_cut)\n",
    "#:::Normalize[-1,1]\n",
    "  #max_abs_scaler = preprocessing.MaxAbsScaler()\n",
    "  #rem_pci_all_n = max_abs_scaler.fit_transform(rem_pci_all_cut)\n",
    "#:::Standardisation\n",
    "#print(rem_pci_all_cut)\n",
    "#rem_pci_all_n = preprocessing.scale(rem_pci_all_cut)\n",
    "#print(rem_pci_all_n.mean(axis=0))\n",
    "#print(rem_pci_all_n.std(axis=0))\n",
    "#print(rem_pci_all_n)\n",
    "#print(\"===\")  \n",
    "rem_pci_all_n_pd = pd.DataFrame(rem_pci_all_n,columns = ['x','y','rsrp','dis','pci_37','pci_38','pci_39','pci_40','pci_41','pci_42'])\n",
    "#print(rem_pci_all_n_pd)\n",
    "for i in range(0,len(rem_pci_all_n_pd)):\n",
    "    if rem_pci_all_n_pd.iloc[i,4] == 1:\n",
    "        rem_pci_all_n_pd.iloc[i,4] = \"1\"\n",
    "    if rem_pci_all_n_pd.iloc[i,5] == 1:\n",
    "        rem_pci_all_n_pd.iloc[i,5] = \"1\"\n",
    "    if rem_pci_all_n_pd.iloc[i,6] == 1:\n",
    "        rem_pci_all_n_pd.iloc[i,6] = \"1\"\n",
    "    if rem_pci_all_n_pd.iloc[i,7] == 1:\n",
    "        rem_pci_all_n_pd.iloc[i,7] = \"1\"\n",
    "    if rem_pci_all_n_pd.iloc[i,8] == 1:\n",
    "        rem_pci_all_n_pd.iloc[i,8] = \"1\"\n",
    "    if rem_pci_all_n_pd.iloc[i,9] == 1:\n",
    "        rem_pci_all_n_pd.iloc[i,9] = \"1\"\n",
    "#print (rem_pci_all_n_pd)\n",
    "plt.scatter(rem_pci_all_n_pd['x'], rem_pci_all_n_pd['y'], s=50);\n"
   ]
  },
  {
   "cell_type": "code",
   "execution_count": 375,
   "metadata": {},
   "outputs": [],
   "source": [
    "def group(rem_pci):\n",
    "    #df.groupby('X','Y','PCI').transform(lambda x: x - x.mean())\n",
    "    group_median = rem_pci.groupby(['x','y','pci']).apply(pd.DataFrame.mode)\n",
    "    group_drift = rem_pci.groupby(['x','y']).transform(lambda x: x - x.mean())\n",
    "    return group_median,group_drift"
   ]
  },
  {
   "cell_type": "code",
   "execution_count": 376,
   "metadata": {},
   "outputs": [],
   "source": [
    "def group_pcimap(rem_pci):\n",
    "    #df.groupby('X','Y','PCI').transform(lambda x: x - x.mean())\n",
    "    group_median = rem_pci.groupby(['x','y']).median()\n",
    "    group_drift = rem_pci.groupby(['x','y']).transform(lambda x: x - x.mean())\n",
    "    return group_median,group_drift"
   ]
  },
  {
   "cell_type": "code",
   "execution_count": 383,
   "metadata": {},
   "outputs": [
    {
     "name": "stdout",
     "output_type": "stream",
     "text": [
      "[[6 2 2 2 6 6 2 5 5 5 5 5 0 3 3 0 0 5 5 5 1 6 1 1 5 6 5 5 5 1 5 5 1 5 5 0\n",
      "  0 0 3 3 0 3 3 0 3 3 0 0 3 3 0 3 3 0 0 3 3 5 0 6 6 1 0 1 5 5 0 3 5 5 5 1\n",
      "  0 5 5 5 3 0 1 1 5 3 0 5 1 4 1 0 3 3 4 1 0 3 4 5 5 5 5 4 3 3 5 0 0 4 5 0\n",
      "  0 3]\n",
      " [0 5 0 3 3 0 3 0 0 0 0 0 0 3 3 0 3 0 3 3 0 3 3 0 0 0 3 3 3 3 3 0 0 0 3 4\n",
      "  3 3 0 5 4 3 5 0 3 0 5 4 4 4 4 3 5 5 4 0 4 4 4 1 5 4 3 3 0 4 5 1 3 3 4 3\n",
      "  3 3 3 0 0 5 5 0 3 0 0 0 3 3 5 0 0 0 0 5 1 6 5 5 5 5 5 0 3 3 3 3 1 3 3 3\n",
      "  3 4]]\n",
      "-0.09474217211666583\n"
     ]
    },
    {
     "data": {
      "image/png": "[encoded data removed]",
      "text/plain": [
       "<Figure size 432x288 with 1 Axes>"
      ]
     },
     "metadata": {},
     "output_type": "display_data"
    }
   ],
   "source": [
    "#print(rem_pci_all_n_pd)\n",
    "group_median,group_drift = group_pcimap(rem_pci_all_n_pd)\n",
    "#rsrp,group_drift = group(rem_rsrp)\n",
    "#print(\"rem_rsrp==\",rsrp)\n",
    "#rem_rsrp.to_csv(\"rsrp.csv\")\n",
    "#group_median,group_drift = group(rem_test)\n",
    "kmeans = KMeans(n_clusters=7)\n",
    "#np.savetxt('group_median.csv', group_median, delimiter=',', fmt='%f')\n",
    "#group_median = pd.read_csv(\"group_median.csv\")\n",
    "#print(rem_pci['pci'])\n",
    "\n",
    "kmeans_fit = kmeans.fit(group_median)\n",
    "y_kmeans = kmeans.predict(group_median)\n",
    "#print(y_kmeans)\n",
    "#print(y_kmeans.shape)\n",
    "\n",
    "\n",
    "#print(y_kmeans_pd)\n",
    "\n",
    "#add_kmeans = pd.merge(rem_pci,y_kmeans_pd, left_index=True, right_index=True)\n",
    "#print(add_kmeans)\n",
    "#add_kmeans.to_csv('add_kmeans.csv')\n",
    "#print(group_median)\n",
    "rem_pci_all_pd = pd.DataFrame(rem_pci_all_copy,columns=['x','y','rsrp','dis','pci_37','pci_38','pci_39','pci_40','pci_41','pci_42','pci'])\n",
    "#print(type(rem_pci_all_pd))\n",
    "#print(type(add_kmeans))\n",
    "\n",
    "#print(rem_pci_all_pd)\n",
    "\n",
    "plt.scatter(rem_pci_all_n_pd['x'], rem_pci_all_n_pd['y'], s=50, c=y_kmeans, cmap='jet');\n",
    "y_kmeans_pd = pd.DataFrame({'zone':y_kmeans})\n",
    "add_kmeans = pd.merge(rem_pci_all_pd,y_kmeans_pd, left_index=True, right_index=True)\n",
    "#print(add_kmeans)\n",
    "#add_kmeans = pd.merge(rem_pci_all_pd['pci'],add_kmeans, left_index=True, right_index=True)\n",
    "add_kmeans['zone'].replace(6,7,inplace=True)\n",
    "add_kmeans['zone'].replace(5,6,inplace=True)\n",
    "add_kmeans['zone'].replace(4,5,inplace=True)\n",
    "add_kmeans['zone'].replace(3,4,inplace=True)\n",
    "add_kmeans['zone'].replace(2,3,inplace=True)\n",
    "add_kmeans['zone'].replace(1,2,inplace=True)\n",
    "add_kmeans['zone'].replace(0,1,inplace=True)\n",
    "add_kmeans['pci'] = add_kmeans['pci'].map(lambda x:int(x/100))\n",
    "\n",
    "add_kmeans.to_csv('aaa.csv')\n",
    "add_kmeans.values[:,:]\n",
    "add_kmeans = add_kmeans.drop(['dis','pci_37','pci_38','pci_39','pci_40','pci_41','pci_42'], axis=1)\n",
    "add_kmeans = add_kmeans[['x','y','pci','rsrp','zone']]\n",
    "add_kmeans = add_kmeans.values\n",
    "#print(add_kmeans)\n",
    "np.savetxt('set33_part_train.csv', add_kmeans, delimiter=',', fmt='%s')\n",
    "#y_kmeans = np.reshape(y_kmeans, (27, 105))\n",
    "#np.savetxt('y_kmeans.csv', y_kmeans, delimiter=',', fmt='%f')\n",
    "cluster_labels = kmeans_fit.labels_\n",
    "silhouette_avg = metrics.silhouette_score(rem_pci_all_n_pd, cluster_labels)\n",
    "print(silhouette_avg)\n"
   ]
  },
  {
   "cell_type": "code",
   "execution_count": 378,
   "metadata": {},
   "outputs": [
    {
     "data": {
      "image/png": "[encoded data removed]",
      "text/plain": [
       "<Figure size 432x288 with 1 Axes>"
      ]
     },
     "metadata": {},
     "output_type": "display_data"
    },
    {
     "name": "stdout",
     "output_type": "stream",
     "text": [
      "[0.405456868720069, 0.5298373435148543, 0.6078932230237639, 0.6960099028743887, 0.7480749374065304, 0.727914236651983, 0.598246591835839, 0.5537243383951299, 0.5621213614771731, 0.5041199687757473, 0.5144082829073632, 0.4970764479119845, 0.4876180384305801, 0.4633481682539292, 0.4528534953240712, 0.4552557103855641, 0.44080231487716165, 0.45427907919569904, 0.4346964384318976, 0.42621929150146515, 0.43592955480389456, 0.4410642819592355, 0.4439737053305473, 0.4356785802358129, 0.4216287933194607, 0.43756768861346756, 0.44200615658186665, 0.46025591640768027, 0.4343332379406901, 0.4039443753721702, 0.4404355956918329, 0.4063719226523537, 0.4027429408955858, 0.43178204180522023, 0.4490279848650822, 0.41730035671862714, 0.4223418649442051, 0.41852650670621794, 0.418504601119668, 0.4186384336007412, 0.3914022516629678, 0.4022544204817809, 0.39649012502191283, 0.40609604139066374, 0.3837867741178415, 0.40725426309763463, 0.37594795060621466, 0.39640469131965805]\n"
     ]
    }
   ],
   "source": [
    "# 迴圈\n",
    "silhouette_avgs = []\n",
    "ks = range(2, 50)\n",
    "for k in ks:\n",
    "    kmeans_fit = cluster.KMeans(n_clusters = k).fit(rem_pci_all_n_pd)\n",
    "    cluster_labels = kmeans_fit.labels_\n",
    "    silhouette_avg = metrics.silhouette_score(rem_pci_all_n_pd, cluster_labels)\n",
    "    silhouette_avgs.append(silhouette_avg)\n",
    "\n",
    "# 作圖並印出 k = 2 到 10 的績效\n",
    "plt.bar(ks, silhouette_avgs)\n",
    "plt.show()\n",
    "print(silhouette_avgs)"
   ]
  },
  {
   "cell_type": "code",
   "execution_count": 328,
   "metadata": {},
   "outputs": [],
   "source": [
    "def group_twice(rem_pci):\n",
    "    #df.groupby('X','Y','PCI').transform(lambda x: x - x.mean())\n",
    "    group_mean = rem_pci.groupby(['x','y','pci','zone']).mean()\n",
    "    return group_mean"
   ]
  },
  {
   "cell_type": "code",
   "execution_count": 329,
   "metadata": {},
   "outputs": [
    {
     "ename": "OSError",
     "evalue": "./data/bbb.csv not found.",
     "output_type": "error",
     "traceback": [
      "\u001b[0;31m---------------------------------------------------------------------------\u001b[0m",
      "\u001b[0;31mOSError\u001b[0m                                   Traceback (most recent call last)",
      "\u001b[0;32m<ipython-input-329-aae79f9b4a92>\u001b[0m in \u001b[0;36m<module>\u001b[0;34m()\u001b[0m\n\u001b[1;32m      1\u001b[0m \u001b[0;31m#for twice kmeans\u001b[0m\u001b[0;34m\u001b[0m\u001b[0;34m\u001b[0m\u001b[0m\n\u001b[0;32m----> 2\u001b[0;31m \u001b[0mfirst_kmeans_result\u001b[0m \u001b[0;34m=\u001b[0m \u001b[0mnp\u001b[0m\u001b[0;34m.\u001b[0m\u001b[0mgenfromtxt\u001b[0m\u001b[0;34m(\u001b[0m\u001b[0;34m'./data/bbb.csv'\u001b[0m\u001b[0;34m,\u001b[0m \u001b[0mdelimiter\u001b[0m\u001b[0;34m=\u001b[0m\u001b[0;34m','\u001b[0m\u001b[0;34m)\u001b[0m\u001b[0;34m\u001b[0m\u001b[0m\n\u001b[0m\u001b[1;32m      3\u001b[0m \u001b[0mzone_0\u001b[0m \u001b[0;34m=\u001b[0m \u001b[0mnp\u001b[0m\u001b[0;34m.\u001b[0m\u001b[0marray\u001b[0m\u001b[0;34m(\u001b[0m\u001b[0;34m[\u001b[0m\u001b[0;34m]\u001b[0m\u001b[0;34m)\u001b[0m\u001b[0;34m\u001b[0m\u001b[0m\n\u001b[1;32m      4\u001b[0m \u001b[0mzone_1\u001b[0m \u001b[0;34m=\u001b[0m \u001b[0mnp\u001b[0m\u001b[0;34m.\u001b[0m\u001b[0marray\u001b[0m\u001b[0;34m(\u001b[0m\u001b[0;34m[\u001b[0m\u001b[0;34m]\u001b[0m\u001b[0;34m)\u001b[0m\u001b[0;34m\u001b[0m\u001b[0m\n\u001b[1;32m      5\u001b[0m \u001b[0mzone_2\u001b[0m \u001b[0;34m=\u001b[0m \u001b[0mnp\u001b[0m\u001b[0;34m.\u001b[0m\u001b[0marray\u001b[0m\u001b[0;34m(\u001b[0m\u001b[0;34m[\u001b[0m\u001b[0;34m]\u001b[0m\u001b[0;34m)\u001b[0m\u001b[0;34m\u001b[0m\u001b[0m\n",
      "\u001b[0;32m/usr/local/lib/python3.5/site-packages/numpy/lib/npyio.py\u001b[0m in \u001b[0;36mgenfromtxt\u001b[0;34m(fname, dtype, comments, delimiter, skip_header, skip_footer, converters, missing_values, filling_values, usecols, names, excludelist, deletechars, replace_space, autostrip, case_sensitive, defaultfmt, unpack, usemask, loose, invalid_raise, max_rows, encoding)\u001b[0m\n\u001b[1;32m   1687\u001b[0m             \u001b[0mfname\u001b[0m \u001b[0;34m=\u001b[0m \u001b[0mstr\u001b[0m\u001b[0;34m(\u001b[0m\u001b[0mfname\u001b[0m\u001b[0;34m)\u001b[0m\u001b[0;34m\u001b[0m\u001b[0m\n\u001b[1;32m   1688\u001b[0m         \u001b[0;32mif\u001b[0m \u001b[0misinstance\u001b[0m\u001b[0;34m(\u001b[0m\u001b[0mfname\u001b[0m\u001b[0;34m,\u001b[0m \u001b[0mbasestring\u001b[0m\u001b[0;34m)\u001b[0m\u001b[0;34m:\u001b[0m\u001b[0;34m\u001b[0m\u001b[0m\n\u001b[0;32m-> 1689\u001b[0;31m             \u001b[0mfhd\u001b[0m \u001b[0;34m=\u001b[0m \u001b[0miter\u001b[0m\u001b[0;34m(\u001b[0m\u001b[0mnp\u001b[0m\u001b[0;34m.\u001b[0m\u001b[0mlib\u001b[0m\u001b[0;34m.\u001b[0m\u001b[0m_datasource\u001b[0m\u001b[0;34m.\u001b[0m\u001b[0mopen\u001b[0m\u001b[0;34m(\u001b[0m\u001b[0mfname\u001b[0m\u001b[0;34m,\u001b[0m \u001b[0;34m'rt'\u001b[0m\u001b[0;34m,\u001b[0m \u001b[0mencoding\u001b[0m\u001b[0;34m=\u001b[0m\u001b[0mencoding\u001b[0m\u001b[0;34m)\u001b[0m\u001b[0;34m)\u001b[0m\u001b[0;34m\u001b[0m\u001b[0m\n\u001b[0m\u001b[1;32m   1690\u001b[0m             \u001b[0mown_fhd\u001b[0m \u001b[0;34m=\u001b[0m \u001b[0;32mTrue\u001b[0m\u001b[0;34m\u001b[0m\u001b[0m\n\u001b[1;32m   1691\u001b[0m         \u001b[0;32melse\u001b[0m\u001b[0;34m:\u001b[0m\u001b[0;34m\u001b[0m\u001b[0m\n",
      "\u001b[0;32m/usr/local/lib/python3.5/site-packages/numpy/lib/_datasource.py\u001b[0m in \u001b[0;36mopen\u001b[0;34m(path, mode, destpath, encoding, newline)\u001b[0m\n\u001b[1;32m    258\u001b[0m \u001b[0;34m\u001b[0m\u001b[0m\n\u001b[1;32m    259\u001b[0m     \u001b[0mds\u001b[0m \u001b[0;34m=\u001b[0m \u001b[0mDataSource\u001b[0m\u001b[0;34m(\u001b[0m\u001b[0mdestpath\u001b[0m\u001b[0;34m)\u001b[0m\u001b[0;34m\u001b[0m\u001b[0m\n\u001b[0;32m--> 260\u001b[0;31m     \u001b[0;32mreturn\u001b[0m \u001b[0mds\u001b[0m\u001b[0;34m.\u001b[0m\u001b[0mopen\u001b[0m\u001b[0;34m(\u001b[0m\u001b[0mpath\u001b[0m\u001b[0;34m,\u001b[0m \u001b[0mmode\u001b[0m\u001b[0;34m,\u001b[0m \u001b[0mencoding\u001b[0m\u001b[0;34m=\u001b[0m\u001b[0mencoding\u001b[0m\u001b[0;34m,\u001b[0m \u001b[0mnewline\u001b[0m\u001b[0;34m=\u001b[0m\u001b[0mnewline\u001b[0m\u001b[0;34m)\u001b[0m\u001b[0;34m\u001b[0m\u001b[0m\n\u001b[0m\u001b[1;32m    261\u001b[0m \u001b[0;34m\u001b[0m\u001b[0m\n\u001b[1;32m    262\u001b[0m \u001b[0;34m\u001b[0m\u001b[0m\n",
      "\u001b[0;32m/usr/local/lib/python3.5/site-packages/numpy/lib/_datasource.py\u001b[0m in \u001b[0;36mopen\u001b[0;34m(self, path, mode, encoding, newline)\u001b[0m\n\u001b[1;32m    614\u001b[0m                                       encoding=encoding, newline=newline)\n\u001b[1;32m    615\u001b[0m         \u001b[0;32melse\u001b[0m\u001b[0;34m:\u001b[0m\u001b[0;34m\u001b[0m\u001b[0m\n\u001b[0;32m--> 616\u001b[0;31m             \u001b[0;32mraise\u001b[0m \u001b[0mIOError\u001b[0m\u001b[0;34m(\u001b[0m\u001b[0;34m\"%s not found.\"\u001b[0m \u001b[0;34m%\u001b[0m \u001b[0mpath\u001b[0m\u001b[0;34m)\u001b[0m\u001b[0;34m\u001b[0m\u001b[0m\n\u001b[0m\u001b[1;32m    617\u001b[0m \u001b[0;34m\u001b[0m\u001b[0m\n\u001b[1;32m    618\u001b[0m \u001b[0;34m\u001b[0m\u001b[0m\n",
      "\u001b[0;31mOSError\u001b[0m: ./data/bbb.csv not found."
     ]
    }
   ],
   "source": [
    "#for twice kmeans\n",
    "first_kmeans_result = np.genfromtxt('./data/bbb.csv', delimiter=',')\n",
    "zone_0 = np.array([])\n",
    "zone_1 = np.array([])\n",
    "zone_2 = np.array([])\n",
    "zone_3 = np.array([])\n",
    "zone_4 = np.array([])\n",
    "zone_5 = np.array([])\n",
    "for i in range(0,len(first_kmeans_result)):\n",
    "    if first_kmeans_result[i,3] == 0:\n",
    "        zone_0 = np.append(zone_0,[first_kmeans_result[i,0],first_kmeans_result[i,1]])\n",
    "    if first_kmeans_result[i,3] == 1:\n",
    "        zone_1 = np.append(zone_1,[first_kmeans_result[i,0],first_kmeans_result[i,1]])\n",
    "    if first_kmeans_result[i,3] == 2:\n",
    "        zone_2 = np.append(zone_2,[first_kmeans_result[i,0],first_kmeans_result[i,1]])\n",
    "    if first_kmeans_result[i,3] == 3:\n",
    "        zone_3 = np.append(zone_3,[first_kmeans_result[i,0],first_kmeans_result[i,1]])\n",
    "    if first_kmeans_result[i,3] == 4:\n",
    "        zone_4 = np.append(zone_4,[first_kmeans_result[i,0],first_kmeans_result[i,1]])\n",
    "    if first_kmeans_result[i,3] == 5:\n",
    "        zone_5 = np.append(zone_5,[first_kmeans_result[i,0],first_kmeans_result[i,1]])\n",
    "print (zone_0)\n",
    "a_0 = int(len(zone_0)/2)\n",
    "a_1 = int(len(zone_1)/2)\n",
    "a_2 = int(len(zone_2)/2)\n",
    "a_3 = int(len(zone_3)/2)\n",
    "a_4 = int(len(zone_4)/2)\n",
    "a_5 = int(len(zone_5)/2)\n",
    "d_0 = zone_0.reshape((a_0,2))\n",
    "d_1 = zone_1.reshape((a_1,2))\n",
    "d_2 = zone_2.reshape((a_2,2))\n",
    "d_3 = zone_3.reshape((a_3,2))\n",
    "d_4 = zone_4.reshape((a_4,2))\n",
    "d_5 = zone_5.reshape((a_5,2))\n",
    "print (d_0)\n",
    "print (d_1)\n",
    "print (d_2)\n",
    "print (d_3)\n",
    "print (d_4)\n",
    "print (d_5)\n"
   ]
  },
  {
   "cell_type": "code",
   "execution_count": null,
   "metadata": {},
   "outputs": [],
   "source": [
    "modelRegressor = KNeighborsRegressor(n_neighbors=3)\n",
    "rsrp_pred = modelRegressor.fit(rsrp_train[:,0:-3], rsrp_train[:,-3:-1]).predict(data_test[:,0:-1])"
   ]
  },
  {
   "cell_type": "code",
   "execution_count": null,
   "metadata": {},
   "outputs": [],
   "source": [
    "# 迴圈\n",
    "silhouette_avgs = []\n",
    "ks = range(2, 11)\n",
    "for k in ks:\n",
    "    kmeans_fit = cluster.KMeans(n_clusters = k).fit(rem_rsrp)\n",
    "    cluster_labels = kmeans_fit.labels_\n",
    "    silhouette_avg = metrics.silhouette_score(rem_rsrp, cluster_labels)\n",
    "    silhouette_avgs.append(silhouette_avg)\n",
    "\n",
    "# 作圖並印出 k = 2 到 10 的績效\n",
    "plt.bar(ks, silhouette_avgs)\n",
    "plt.show()\n",
    "print(silhouette_avgs)"
   ]
  },
  {
   "cell_type": "code",
   "execution_count": null,
   "metadata": {},
   "outputs": [],
   "source": [
    "gmm = GMM(n_components=6).fit(rem_pci)\n",
    "labels = gmm.predict(rem_pci)\n",
    "plt.scatter(rem_pci['x'], rem_pci['y'], s=50, c=labels, cmap='jet');\n",
    "print (labels)"
   ]
  },
  {
   "cell_type": "code",
   "execution_count": null,
   "metadata": {},
   "outputs": [],
   "source": [
    "def group_kmeans(add_kmeans):\n",
    "    #df.groupby('X','Y','PCI').transform(lambda x: x - x.mean())\n",
    "    kmeans = add_kmeans.groupby(['x','y','kmeans']).median()\n",
    "    return kmeans"
   ]
  },
  {
   "cell_type": "code",
   "execution_count": null,
   "metadata": {},
   "outputs": [],
   "source": [
    "def convert_location_data(x, y) :\n",
    "    '''\n",
    "    lng = a * x1 - b * y2 + c \n",
    "    lat = a * x2 + b * y1 + d\n",
    "\n",
    "    NEMO -> indoor position value\n",
    "    (840, -351) -> (96.824, 0)\n",
    "    (923, -179) -> (107.068, 15.874)\n",
    "    '''\n",
    "    a = 0.1185\n",
    "    b = -0.003\n",
    "    c = -1.81\n",
    "    d = 39.842\n",
    " \n",
    "    lng = a * x - b * y * (-1) + c - 4\n",
    "    lat = a * y * (-1) + b * x + d - 0.5\n",
    "\n",
    "    return lng, lat\n",
    "'''\n",
    "kmeans = group_kmeans(add_kmeans)\n",
    "#print(kmeans)\n",
    "z = kmeans\n",
    "map_size = [105, 27]\n",
    "x_resolution = map_size[0]\n",
    "y_resolution = map_size[1]\n",
    "z = np.reshape(z, (y_resolution, x_resolution))\n",
    "'''\n",
    "\n",
    "kmeans_append = np.zeros([len(rem_pci),6])\n",
    "#print(add_kmeans.loc[range(10),'kmeans'])\n",
    "np.savetxt('kmeans_append.csv', kmeans_append, delimiter=',', fmt='%f')\n"
   ]
  },
  {
   "cell_type": "code",
   "execution_count": null,
   "metadata": {},
   "outputs": [],
   "source": [
    "#DNN model\n",
    "pci_only = True\n",
    "model = build_dNN_model(X_train, y_train, nb_feature, pci_only)\n",
    "pci_only = False\n",
    "model = build_dNN_model(X_train, y_train, nb_feature, pci_only)"
   ]
  },
  {
   "cell_type": "code",
   "execution_count": null,
   "metadata": {},
   "outputs": [],
   "source": [
    "def build_knn_model(X_train, y_train):\n",
    "    print (\"+++KNN\")\n",
    "    model =  KNeighborsClassifier(n_neighbors=3, weights='uniform', algorithm='auto')\n",
    "    #model =  KNeighborsRegressor(n_neighbors=3, weights='uniform', algorithm='auto')\n",
    "    model.fit(X_train, y_train)\n",
    "    #print \"y_train==\",y_train\n",
    "    return model"
   ]
  },
  {
   "cell_type": "code",
   "execution_count": null,
   "metadata": {},
   "outputs": [],
   "source": [
    "'''\n",
    "merge_train = pd.read_csv('aaa.csv')\n",
    "X = merge_train['x','y','pci']\n",
    "y = iris.target\n",
    "# split the data with 50% in each set\n",
    "X1, X2, y1, y2 = train_test_split(X, y, random_state=0,\n",
    "                                  train_size=0.5)\n",
    "\n",
    "# fit the model on one set of data\n",
    "model.fit(X1, y1)\n",
    "\n",
    "# evaluate the model on the second set of data\n",
    "y2_model = model.predict(X2)\n",
    "accuracy_score(y2, y2_model)\n",
    "'''"
   ]
  },
  {
   "cell_type": "code",
   "execution_count": null,
   "metadata": {},
   "outputs": [],
   "source": [
    "for j in range(y_resolution):\n",
    "        for i in range(x_resolution) : \n",
    "            pci = z[j][i]\n",
    "            if pci == 37 :#37\n",
    "                #pci_real = pci_config[0] \n",
    "                plt.plot(round(i), round(j), color='blue', marker = 's', markersize=5, alpha=.1)\n",
    "            elif pci == 38 :#38\n",
    "                #pci_real = pci_config[1]\n",
    "                plt.plot(round(i), round(j), color='green', marker = 's', markersize=5, alpha=.1 )\n",
    "            elif pci == 39 :#39\n",
    "                #pci_real = pci_config[2]\n",
    "                plt.plot(round(i), round(j), color='red', marker = 's', markersize=5, alpha=.1 )\n",
    "            elif pci == 40:#40\n",
    "                #pci_real = pci_config[3]\n",
    "                plt.plot(round(i), round(j), color='skyblue', marker = 's', markersize=5, alpha=.1)\n",
    "            elif pci == 41:#41\n",
    "                #pci_real = pci_config[4]\n",
    "                plt.plot(round(i), round(j), color='orange', marker = 's', markersize=5, alpha=.1)\n",
    "            elif pci == 42:#42\n",
    "                #pci_real = pci_config[5]\n",
    "                plt.plot(round(i), round(j), color='deeppink', marker = 's', markersize=5, alpha=.1)\n",
    "            elif pci == 120:#120\n",
    "                #pci_real = pci_config[6]\n",
    "                plt.plot(round(i), round(j), color='yellow', marker = 's', markersize=5, alpha=.1)\n",
    "            elif pci == 151:#151\n",
    "                #pci_real = pci_config[7]\n",
    "                plt.plot(round(i), round(j), color='yellow', marker = 's', markersize=5, alpha=.1)\n",
    "            elif pci == 154:#154\n",
    "                #pci_real = pci_config[8]\n",
    "                plt.plot(round(i), round(j), color='yellow', marker = 's', markersize=5, alpha=.1)\n",
    "            else :                 \n",
    "                pci_real = -1\n",
    "                plt.plot(round(i), round(j), color='white', marker = 's', markersize=5, alpha=.1 )\n",
    "            result = str(i) + ',' + str(j) + ',' + str(pci) +',' + '\\n'\n",
    "            #f.write(result)  # python will convert \\n to os.linesep\n",
    "\n",
    "#f.close()  # you can omit in most cases as the destructor will call it\n",
    "img = plt.imread(\"./pic/51_5F-3.png\")\n",
    "plt.imshow(img, zorder=0, extent=[0, map_size[0], 0, map_size[1]])\n",
    "x, y = convert_location_data (260,215) #37\n",
    "plt.plot(round(abs(x)), round(abs(y)), color='blue', marker = 'o', markersize=10, markeredgecolor = 'black', markeredgewidth = 0.8)\n",
    "\n",
    "#SC1 (199, 151)\n",
    "#x, y = convert_location_data (199, 868)\n",
    "x, y = convert_location_data (480, 158) #38\n",
    "plt.plot(round(abs(x)), round(abs(y)), color='green', marker = 'o', markersize=10, markeredgecolor = 'black', markeredgewidth = 0.8)\n",
    "    \n",
    "x, y = convert_location_data (630, 210) #39\n",
    "plt.plot(round(abs(x)), round(abs(y)), color='red', marker = 'o', markersize=10, markeredgecolor = 'black', markeredgewidth = 0.8)\n",
    "#plt.plot(round(abs(x)), round(abs(y)), color='purple', marker = 'o', markersize=10, markeredgecolor = 'black', markeredgewidth = 0.8)\n",
    "    \n",
    "x, y = convert_location_data (710, 275) #40\n",
    "plt.plot(round(abs(x)), round(abs(y)), color='skyblue', marker = 'o', markersize=10, markeredgecolor = 'black', markeredgewidth = 0.8)\n",
    "    \n",
    "x, y = convert_location_data (765, 145) #41\n",
    "plt.plot(round(abs(x)), round(abs(y)), color='orange', marker = 'o', markersize=10, markeredgecolor = 'black', markeredgewidth = 0.8)\n",
    "#plt.plot(round(abs(x)), round(abs(y)), color='red', marker = 'o', markersize=10, markeredgecolor = 'black', markeredgewidth = 0.8)\n",
    "\n",
    "x, y = convert_location_data (908, 130) #42\n",
    "plt.plot(round(abs(x)), round(abs(y)), color='deeppink', marker = 'o', markersize=10, markeredgecolor = 'black', markeredgewidth = 0.8)\n",
    "plt.savefig('test', dpi=200)\n",
    "plt.show()\n",
    "#plt.close('all')\n",
    "#fig_pci = plt.pcolor(np.zeros([26, 106]), vmin=1, vmax=100, cmap='gist_ncar')\n",
    "#plt.colorbar(heatmap_pci)\n",
    "#plt.axis([0, 35, 0, 25])\n",
    "'''\n",
    "plt.axis('equal')\n",
    "plt.axis('off')\n",
    "plt.savefig('pci_map.png')\n",
    "#plt.show()\n",
    "'''"
   ]
  },
  {
   "cell_type": "code",
   "execution_count": null,
   "metadata": {},
   "outputs": [],
   "source": [
    "'''\n",
    "for i in range(len(add_kmeans)):\n",
    "    if add_kmeans.loc[i,'kmeans'] == 0:\n",
    "        kmeans_x = add_kmeans.loc[i,'x']\n",
    "        kmeans_y = add_kmeans.loc[i,'y']\n",
    "        kmeans_x = pd.DataFrame([kmeans_x],columns=['x'])\n",
    "        kmeans_y = pd.DataFrame([kmeans_y],columns=['y'])\n",
    "        kmeans_merge = pd.merge(kmeans_x,kmeans_y, left_index=True, right_index=True)\n",
    "        kmeans_0_append = kmeans_0_append.append(kmeans_merge)\n",
    "    if add_kmeans.loc[i,'kmeans'] == 1:\n",
    "        kmeans_x = add_kmeans.loc[i,'x']\n",
    "        kmeans_y = add_kmeans.loc[i,'y']\n",
    "        kmeans_x = pd.DataFrame([kmeans_x],columns=['x'])\n",
    "        kmeans_y = pd.DataFrame([kmeans_y],columns=['y'])\n",
    "        kmeans_merge = pd.merge(kmeans_x,kmeans_y, left_index=True, right_index=True)\n",
    "        kmeans_1_append = kmeans_1_append.append(kmeans_merge)\n",
    "    if add_kmeans.loc[i,'kmeans'] == 2:\n",
    "        kmeans_x = add_kmeans.loc[i,'x']\n",
    "        kmeans_y = add_kmeans.loc[i,'y']\n",
    "        kmeans_x = pd.DataFrame([kmeans_x],columns=['x'])\n",
    "        kmeans_y = pd.DataFrame([kmeans_y],columns=['y'])\n",
    "        kmeans_merge = pd.merge(kmeans_x,kmeans_y, left_index=True, right_index=True)\n",
    "        kmeans_2_append = kmeans_2_append.append(kmeans_merge)\n",
    "    if add_kmeans.loc[i,'kmeans'] == 3:\n",
    "        kmeans_x = add_kmeans.loc[i,'x']\n",
    "        kmeans_y = add_kmeans.loc[i,'y']\n",
    "        kmeans_x = pd.DataFrame([kmeans_x],columns=['x'])\n",
    "        kmeans_y = pd.DataFrame([kmeans_y],columns=['y'])\n",
    "        kmeans_merge = pd.merge(kmeans_x,kmeans_y, left_index=True, right_index=True)\n",
    "        kmeans_3_append = kmeans_3_append.append(kmeans_merge)\n",
    "    if add_kmeans.loc[i,'kmeans'] == 4:\n",
    "        kmeans_x = add_kmeans.loc[i,'x']\n",
    "        kmeans_y = add_kmeans.loc[i,'y']\n",
    "        kmeans_x = pd.DataFrame([kmeans_x],columns=['x'])\n",
    "        kmeans_y = pd.DataFrame([kmeans_y],columns=['y'])\n",
    "        kmeans_merge = pd.merge(kmeans_x,kmeans_y, left_index=True, right_index=True)\n",
    "        kmeans_4_append = kmeans_4_append.append(kmeans_merge)\n",
    "print (\"kmeans_0_append==\",kmeans_0_append)\n",
    "print (\"kmeans_1_append==\",kmeans_1_append)\n",
    "print (\"kmeans_2_append==\",kmeans_2_append)\n",
    "print (\"kmeans_3_append==\",kmeans_3_append)\n",
    "print (\"kmeans_4_append==\",kmeans_4_append)\n",
    "'''\n"
   ]
  }
 ],
 "metadata": {
  "kernelspec": {
   "display_name": "Python 3",
   "language": "python",
   "name": "python3"
  },
  "language_info": {
   "codemirror_mode": {
    "name": "ipython",
    "version": 3
   },
   "file_extension": ".py",
   "mimetype": "text/x-python",
   "name": "python",
   "nbconvert_exporter": "python",
   "pygments_lexer": "ipython3",
   "version": "3.5.0"
  }
 },
 "nbformat": 4,
 "nbformat_minor": 2
}
