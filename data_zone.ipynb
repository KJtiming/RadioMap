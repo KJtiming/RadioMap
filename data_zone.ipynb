{
 "cells": [
  {
   "cell_type": "markdown",
   "metadata": {},
   "source": [
    "split data for every zone\n",
    "===\n"
   ]
  },
  {
   "cell_type": "code",
   "execution_count": 35,
   "metadata": {},
   "outputs": [],
   "source": [
    "import numpy as np\n",
    "from numpy import genfromtxt"
   ]
  },
  {
   "cell_type": "code",
   "execution_count": 52,
   "metadata": {},
   "outputs": [
    {
     "name": "stdout",
     "output_type": "stream",
     "text": [
      "[[  6.7405  14.6905  37.       1.    ]\n",
      " [  7.0285  16.699   37.       1.    ]\n",
      " [  7.036   12.3115  37.       1.    ]\n",
      " ...\n",
      " [101.974   15.3625  42.       5.    ]\n",
      " [102.046   18.2065  42.       5.    ]\n",
      " [102.1315  16.9     42.       5.    ]]\n",
      "[[ 0.  0.]\n",
      " [ 0.  1.]\n",
      " [ 1.  0.]\n",
      " [ 1.  1.]\n",
      " [ 2.  0.]\n",
      " [22.  0.]\n",
      " [22.  1.]]\n"
     ]
    },
    {
     "data": {
      "text/plain": [
       "numpy.ndarray"
      ]
     },
     "execution_count": 52,
     "metadata": {},
     "output_type": "execute_result"
    }
   ],
   "source": [
    "pci_train_data = genfromtxt('rem_pci_train.csv', delimiter=',')\n",
    "print (pci_train_data)\n",
    "train_part_test = genfromtxt('train_part_test.csv', delimiter=',')\n",
    "print (train_part_test)\n",
    "type(train_part_test)"
   ]
  },
  {
   "cell_type": "code",
   "execution_count": 93,
   "metadata": {
    "scrolled": true
   },
   "outputs": [
    {
     "name": "stdout",
     "output_type": "stream",
     "text": [
      "<class 'numpy.ndarray'>\n",
      "<class 'tuple'>\n",
      "<class 'numpy.ndarray'>\n",
      "zone_1== [[ 0  0  1  1  2  2  3  3  4  4  5  5  6  6  7  7  8  8  9  9 10 10 11 11\n",
      "  12 12 13 13 14 14 15 15 16 16 17 17 18 18 19 19 20 20 21 21 22 22]\n",
      " [ 0  1  0  1  0  1  0  1  0  1  0  1  0  1  0  1  0  1  0  1  0  1  0  1\n",
      "   0  1  0  1  0  1  0  1  0  1  0  1  0  1  0  1  0  1  0  1  0  1]]\n",
      "zone_1== 92\n",
      "[[2.0, 1.0], [3.0, 0.0], [3.0, 1.0], [4.0, 0.0], [4.0, 1.0], [5.0, 0.0], [5.0, 1.0], [6.0, 0.0], [6.0, 1.0], [7.0, 0.0], [7.0, 1.0], [8.0, 0.0], [8.0, 1.0], [9.0, 0.0], [9.0, 1.0], [10.0, 0.0], [10.0, 1.0], [11.0, 0.0], [11.0, 1.0], [12.0, 0.0], [12.0, 1.0], [13.0, 0.0], [13.0, 1.0], [14.0, 0.0], [14.0, 1.0], [15.0, 0.0], [15.0, 1.0], [16.0, 0.0], [16.0, 1.0], [17.0, 0.0], [17.0, 1.0], [18.0, 0.0], [18.0, 1.0], [19.0, 0.0], [19.0, 1.0], [20.0, 0.0], [20.0, 1.0], [21.0, 0.0], [21.0, 1.0]]\n",
      "item== [0.0, 0.0]\n",
      "item== [0.0, 1.0]\n",
      "item== [1.0, 0.0]\n",
      "item== [1.0, 1.0]\n",
      "item== [2.0, 0.0]\n",
      "item== [22.0, 0.0]\n",
      "item== [22.0, 1.0]\n",
      "item_1 ==  [[0.0, 0.0], [0.0, 1.0], [1.0, 0.0], [1.0, 1.0], [2.0, 0.0], [22.0, 0.0], [22.0, 1.0]]\n"
     ]
    }
   ],
   "source": [
    "zone_1 = np.zeros((len(pci_train_data),2))\n",
    "for i in range(0,len(pci_train_data)):\n",
    "    if pci_train_data[i,3] == 1:\n",
    "        zone_1[i,0] = pci_train_data[i,0]\n",
    "        zone_1[i,1] = pci_train_data[i,1]\n",
    "#print(\"zone_1==\",zone_1)\n",
    "print(type(zone_1))\n",
    "zone_1 = np.where((zone_1[:] != 0))\n",
    "print(type(zone_1))\n",
    "zone_1 = np.asarray(zone_1)\n",
    "print(type(zone_1))\n",
    "print(\"zone_1==\",zone_1)\n",
    "print(\"zone_1==\",zone_1.size)\n",
    "\n",
    "#np.savetxt('zone_1.csv', zone_1.T, delimiter=',', fmt='%f')\n",
    "zone_1 = genfromtxt('zone_1.csv', delimiter=',')\n",
    "#print (zone_1)\n",
    "zone_1_lsit = zone_1.tolist()\n",
    "#print(zone_1_lsit)\n",
    "train_part_test_list = train_part_test.tolist()\n",
    "#print(train_part_test_list)\n",
    "def Diff(li1, li2): \n",
    "    li_dif = [i for i in li1 + li2 if i not in li1 or i not in li2] \n",
    "    return li_dif \n",
    "if (Diff(zone_1_lsit, train_part_test_list)) :\n",
    "    print(Diff(zone_1_lsit, train_part_test_list))\n",
    "else:\n",
    "    print('222')\n",
    "item_1=list()\n",
    "for item in zone_1_lsit:\n",
    "\tfor item1 in train_part_test_list:\n",
    "\t\tif item == item1:\n",
    "\t\t\titem_1.append(item)\n",
    "\t\t\tprint (\"item==\",item)\n",
    "\n",
    "print (\"item_1 == \",item_1)\n",
    "train_data_part = np.asarray(item_1)\n",
    "np.savetxt('train_data_part.csv', train_data_part, delimiter=',', fmt='%f')"
   ]
  },
  {
   "cell_type": "code",
   "execution_count": null,
   "metadata": {},
   "outputs": [],
   "source": []
  }
 ],
 "metadata": {
  "kernelspec": {
   "display_name": "Python 3",
   "language": "python",
   "name": "python3"
  },
  "language_info": {
   "codemirror_mode": {
    "name": "ipython",
    "version": 3
   },
   "file_extension": ".py",
   "mimetype": "text/x-python",
   "name": "python",
   "nbconvert_exporter": "python",
   "pygments_lexer": "ipython3",
   "version": "3.6.5"
  }
 },
 "nbformat": 4,
 "nbformat_minor": 2
}
