{
 "cells": [
  {
   "cell_type": "code",
   "execution_count": 1,
   "metadata": {},
   "outputs": [
    {
     "name": "stderr",
     "output_type": "stream",
     "text": [
      "Using TensorFlow backend.\n",
      "/usr/local/lib/python3.5/site-packages/sklearn/cross_validation.py:41: DeprecationWarning: This module was deprecated in version 0.18 in favor of the model_selection module into which all the refactored classes and functions are moved. Also note that the interface of the new CV iterators are different from that of this module. This module will be removed in 0.20.\n",
      "  \"This module will be removed in 0.20.\", DeprecationWarning)\n"
     ]
    }
   ],
   "source": [
    "from sklearn.neighbors import KNeighborsClassifier\n",
    "from sklearn.tree import DecisionTreeClassifier\n",
    "from sklearn.neighbors import KNeighborsRegressor\n",
    "from sklearn.neighbors import RadiusNeighborsRegressor\n",
    "from sklearn.tree import DecisionTreeRegressor\n",
    "from sklearn.tree import ExtraTreeRegressor\n",
    "from sklearn.ensemble import RandomForestRegressor\n",
    "from sklearn.ensemble import GradientBoostingRegressor\n",
    "from sklearn.neural_network import MLPRegressor\n",
    "from sklearn.neural_network import MLPClassifier\n",
    "from sklearn.svm import SVR\n",
    "from sklearn.multioutput import MultiOutputRegressor\n",
    "import matplotlib.pyplot as plt\n",
    "import matplotlib.pyplot as plt2\n",
    "import matplotlib.image as mpimg\n",
    "from PIL import Image\n",
    "import numpy as np\n",
    "import math\n",
    "from keras.models import Sequential\n",
    "from keras.layers import Dense\n",
    "from sklearn.datasets.samples_generator import make_blobs\n",
    "from sklearn.preprocessing import MinMaxScaler\n",
    "from array import array\n",
    "from keras.utils import to_categorical\n",
    "from keras.utils import np_utils\n",
    "#from ann_visualizer.visualize import ann_viz\n",
    "import config\n",
    "import pandas as pd\n",
    "from sklearn.cross_validation import train_test_split\n",
    "from sklearn.metrics import accuracy_score\n",
    "from sklearn.metrics import mean_squared_error"
   ]
  },
  {
   "cell_type": "code",
   "execution_count": 2,
   "metadata": {},
   "outputs": [],
   "source": [
    "# read row data\n",
    "part_rsrp_train = np.genfromtxt('bbb.csv', delimiter=',')\n",
    "part_rsrp_train[:,0] = np.round(part_rsrp_train[:,0])\n",
    "part_rsrp_train[:,1] = np.round(part_rsrp_train[:,1])\n",
    "np.savetxt('part_rsrp_train.csv', part_rsrp_train, delimiter=',', fmt='%f')"
   ]
  },
  {
   "cell_type": "code",
   "execution_count": 35,
   "metadata": {},
   "outputs": [
    {
     "ename": "AxisError",
     "evalue": "axis 1 is out of bounds for array of dimension 1",
     "output_type": "error",
     "traceback": [
      "\u001b[0;31m---------------------------------------------------------------------------\u001b[0m",
      "\u001b[0;31mAxisError\u001b[0m                                 Traceback (most recent call last)",
      "\u001b[0;32m<ipython-input-35-e2adda446bf5>\u001b[0m in \u001b[0;36m<module>\u001b[0;34m()\u001b[0m\n\u001b[1;32m     11\u001b[0m         \u001b[0mnp\u001b[0m\u001b[0;34m.\u001b[0m\u001b[0msavetxt\u001b[0m\u001b[0;34m(\u001b[0m\u001b[0;34m'cluster_x.csv'\u001b[0m\u001b[0;34m,\u001b[0m \u001b[0mcluster_x\u001b[0m\u001b[0;34m,\u001b[0m \u001b[0mdelimiter\u001b[0m\u001b[0;34m=\u001b[0m\u001b[0;34m','\u001b[0m\u001b[0;34m,\u001b[0m \u001b[0mfmt\u001b[0m\u001b[0;34m=\u001b[0m\u001b[0;34m'%f'\u001b[0m\u001b[0;34m)\u001b[0m\u001b[0;34m\u001b[0m\u001b[0m\n\u001b[1;32m     12\u001b[0m         \u001b[0mnp\u001b[0m\u001b[0;34m.\u001b[0m\u001b[0msavetxt\u001b[0m\u001b[0;34m(\u001b[0m\u001b[0;34m'cluster_y.csv'\u001b[0m\u001b[0;34m,\u001b[0m \u001b[0mcluster_y\u001b[0m\u001b[0;34m,\u001b[0m \u001b[0mdelimiter\u001b[0m\u001b[0;34m=\u001b[0m\u001b[0;34m','\u001b[0m\u001b[0;34m,\u001b[0m \u001b[0mfmt\u001b[0m\u001b[0;34m=\u001b[0m\u001b[0;34m'%f'\u001b[0m\u001b[0;34m)\u001b[0m\u001b[0;34m\u001b[0m\u001b[0m\n\u001b[0;32m---> 13\u001b[0;31m         \u001b[0mcluster\u001b[0m \u001b[0;34m=\u001b[0m \u001b[0mnp\u001b[0m\u001b[0;34m.\u001b[0m\u001b[0mconcatenate\u001b[0m\u001b[0;34m(\u001b[0m\u001b[0;34m(\u001b[0m\u001b[0mcluster_x\u001b[0m\u001b[0;34m,\u001b[0m\u001b[0mcluster_y\u001b[0m\u001b[0;34m)\u001b[0m\u001b[0;34m,\u001b[0m\u001b[0maxis\u001b[0m\u001b[0;34m=\u001b[0m\u001b[0;36m1\u001b[0m\u001b[0;34m)\u001b[0m\u001b[0;34m\u001b[0m\u001b[0m\n\u001b[0m\u001b[1;32m     14\u001b[0m         \u001b[0mnp\u001b[0m\u001b[0;34m.\u001b[0m\u001b[0msavetxt\u001b[0m\u001b[0;34m(\u001b[0m\u001b[0;34m'cluster.csv'\u001b[0m\u001b[0;34m,\u001b[0m \u001b[0mcluster\u001b[0m\u001b[0;34m,\u001b[0m \u001b[0mdelimiter\u001b[0m\u001b[0;34m=\u001b[0m\u001b[0;34m','\u001b[0m\u001b[0;34m,\u001b[0m \u001b[0mfmt\u001b[0m\u001b[0;34m=\u001b[0m\u001b[0;34m'%f'\u001b[0m\u001b[0;34m)\u001b[0m\u001b[0;34m\u001b[0m\u001b[0m\n\u001b[1;32m     15\u001b[0m '''\n",
      "\u001b[0;31mAxisError\u001b[0m: axis 1 is out of bounds for array of dimension 1"
     ]
    }
   ],
   "source": [
    "d = {'x':part_rsrp_train[:,0],'y':part_rsrp_train[:,1],'pci':part_rsrp_train[:,2],'rsrp':part_rsrp_train[:,3],'zone':part_rsrp_train[:,4]}\n",
    "#print (d['x'])\n",
    "\n",
    "#cluster_x = np.array([])\n",
    "#cluster_y = np.array([])\n",
    "\n",
    "for value in d['zone']:\n",
    "    if value == 0 :\n",
    "        cluster_x = np.array(d['x'])\n",
    "        cluster_y = np.array(d['y'])\n",
    "        np.savetxt('cluster_x.csv', cluster_x, delimiter=',', fmt='%f')\n",
    "        np.savetxt('cluster_y.csv', cluster_y, delimiter=',', fmt='%f')\n",
    "        #cluster = np.concatenate((cluster_x,cluster_y),axis=1)\n",
    "        np.savetxt('cluster.csv', cluster, delimiter=',', fmt='%f')\n",
    "'''\n",
    "class_number = np.array([range(0,6)])\n",
    "total_number = a*b\n",
    "for a in range(0, 106):\n",
    "    for b in range(0, 26):\n",
    "        xy = np.array([a, b], np.float)\n",
    "        for c in range(0,6):\n",
    "            if a == part_rsrp_train[range(291),0] :\n",
    "                if b == part_rsrp_train[total_number,0] :\n",
    "                    if a == class_number[c]:\n",
    "                        cluster[c] = np.append(part_rsrp_train[:,3]) \n",
    "np.savetxt('cluster.csv', cluster, delimiter=',', fmt='%f')\n",
    "'''"
   ]
  },
  {
   "cell_type": "code",
   "execution_count": 53,
   "metadata": {},
   "outputs": [],
   "source": [
    "part_rsrp_train_0 = np.genfromtxt('./data/bbb_0.csv', delimiter=',')\n",
    "part_rsrp_train_2 = np.genfromtxt('./data/bbb_2.csv', delimiter=',')\n",
    "part_rsrp_train_3 = np.genfromtxt('./data/bbb_3.csv', delimiter=',')\n",
    "part_rsrp_train_4 = np.genfromtxt('./data/bbb_4.csv', delimiter=',')\n",
    "part_rsrp_train_5 = np.genfromtxt('./data/bbb_5.csv', delimiter=',')\n",
    "xy = np.genfromtxt('xy.csv', delimiter=',')"
   ]
  },
  {
   "cell_type": "code",
   "execution_count": 54,
   "metadata": {},
   "outputs": [],
   "source": [
    "# select classifier and regressor\n",
    "modelClassifier = KNeighborsClassifier(n_neighbors=3)\n",
    "#modelClassifier = DecisionTreeClassifier()\n",
    "#modelClassifier = MLPClassifier(hidden_layer_sizes=(300,), random_state=1, max_iter=1, warm_start=True)\n",
    "#modelClassifier = MLPClassifier()\n",
    "\n",
    "modelRegressor = KNeighborsRegressor(n_neighbors=3)\n",
    "#modelRegressor = DecisionTreeRegressor()\n",
    "# modelRegressor = RandomForestRegressor()\n",
    "# modelRegressor = GradientBoostingRegressor()\n",
    "#modelRegressor = MLPRegressor()\n",
    "# modelRegressor = SVR()"
   ]
  },
  {
   "cell_type": "code",
   "execution_count": 57,
   "metadata": {},
   "outputs": [
    {
     "name": "stdout",
     "output_type": "stream",
     "text": [
      "X= [[56.878   4.528 ]\n",
      " [57.022   0.8485]\n",
      " [57.067   2.626 ]\n",
      " [59.6605  6.7105]\n",
      " [60.2275  1.0045]\n",
      " [60.394  12.265 ]\n",
      " [61.6975 12.232 ]\n",
      " [63.0715  0.9325]\n",
      " [63.235  12.0745]\n",
      " [64.7755 12.0355]\n",
      " [66.1075  8.4445]\n",
      " [66.181   6.664 ]\n",
      " [66.6715 11.9875]\n",
      " [68.5705 12.058 ]\n",
      " [69.4255  8.3605]\n",
      " [69.4795 10.4935]\n",
      " [69.499   6.58  ]\n",
      " [70.399  14.0275]\n",
      " [70.585  12.007 ]\n",
      " [71.3185  8.194 ]\n",
      " [72.157  17.896 ]\n",
      " [72.535  14.092 ]\n",
      " [72.715  11.8345]\n",
      " [74.0815 14.29  ]\n",
      " [74.1175 15.712 ]\n",
      " [74.377  11.911 ]\n",
      " [90.3715 11.3875]]\n",
      "y= [39. 39. 39. 39. 39. 39. 39. 39. 39. 39. 39. 39. 39. 39. 39. 39. 39. 39.\n",
      " 39. 39. 39. 39. 39. 39. 39. 39. 39.]\n",
      "X1= [[57.022   0.8485]\n",
      " [66.1075  8.4445]\n",
      " [90.3715 11.3875]\n",
      " [74.377  11.911 ]\n",
      " [63.235  12.0745]\n",
      " [61.6975 12.232 ]\n",
      " [60.2275  1.0045]\n",
      " [70.585  12.007 ]\n",
      " [64.7755 12.0355]\n",
      " [63.0715  0.9325]\n",
      " [72.715  11.8345]\n",
      " [59.6605  6.7105]\n",
      " [56.878   4.528 ]\n",
      " [72.535  14.092 ]\n",
      " [69.4795 10.4935]\n",
      " [66.6715 11.9875]]\n",
      "y1= [39. 39. 39. 39. 39. 39. 39. 39. 39. 39. 39. 39. 39. 39. 39. 39.]\n",
      "X2= [[57.067   2.626 ]\n",
      " [74.1175 15.712 ]\n",
      " [69.4255  8.3605]\n",
      " [70.399  14.0275]\n",
      " [60.394  12.265 ]\n",
      " [66.181   6.664 ]\n",
      " [74.0815 14.29  ]\n",
      " [68.5705 12.058 ]\n",
      " [71.3185  8.194 ]\n",
      " [72.157  17.896 ]\n",
      " [69.499   6.58  ]]\n",
      "y2= [39. 39. 39. 39. 39. 39. 39. 39. 39. 39. 39.]\n"
     ]
    }
   ],
   "source": [
    "X = part_rsrp_train_0[:,0:2]\n",
    "y = part_rsrp_train_0[:,-1]\n",
    "print(\"X=\",X)\n",
    "print(\"y=\",y)\n",
    "# split the data with 50% in each set\n",
    "X1, X2, y1, y2 = train_test_split(X, y, random_state=0,train_size=0.6)\n",
    "print(\"X1=\",X1)\n",
    "print(\"y1=\",y1)\n",
    "print(\"X2=\",X2)\n",
    "print(\"y2=\",y2)\n",
    "# fit the model on one set of data\n",
    "modelRegressor.fit(X1, y1)\n",
    "\n",
    "# evaluate the model on the second set of data\n",
    "rsrp_pred = modelRegressor.predict(xy)\n",
    "np.savetxt('rsrp_pred.csv', rsrp_pred, delimiter=',', fmt='%f')\n",
    "#n_accuracy = 0\n",
    "#print (\"[RMSE]: %.3f\" % mean_squared_error(y2, rsrp_pred)**(0.5))\n"
   ]
  },
  {
   "cell_type": "code",
   "execution_count": 25,
   "metadata": {},
   "outputs": [
    {
     "ename": "IndexError",
     "evalue": "tuple index out of range",
     "output_type": "error",
     "traceback": [
      "\u001b[0;31m---------------------------------------------------------------------------\u001b[0m",
      "\u001b[0;31mIndexError\u001b[0m                                Traceback (most recent call last)",
      "\u001b[0;32m<ipython-input-25-ea1bbe0d75f6>\u001b[0m in \u001b[0;36m<module>\u001b[0;34m()\u001b[0m\n\u001b[1;32m      1\u001b[0m \u001b[0;31m# radio map prediction\u001b[0m\u001b[0;34m\u001b[0m\u001b[0;34m\u001b[0m\u001b[0m\n\u001b[1;32m      2\u001b[0m \u001b[0midx\u001b[0m \u001b[0;34m=\u001b[0m \u001b[0;36m0\u001b[0m\u001b[0;34m\u001b[0m\u001b[0m\n\u001b[0;32m----> 3\u001b[0;31m \u001b[0mpci_map_test\u001b[0m \u001b[0;34m=\u001b[0m \u001b[0mnp\u001b[0m\u001b[0;34m.\u001b[0m\u001b[0mzeros\u001b[0m\u001b[0;34m(\u001b[0m\u001b[0;34m[\u001b[0m\u001b[0;36m26\u001b[0m\u001b[0;34m*\u001b[0m\u001b[0;36m106\u001b[0m\u001b[0;34m,\u001b[0m \u001b[0my2\u001b[0m\u001b[0;34m.\u001b[0m\u001b[0mshape\u001b[0m\u001b[0;34m[\u001b[0m\u001b[0;36m1\u001b[0m\u001b[0;34m]\u001b[0m\u001b[0;34m-\u001b[0m\u001b[0;36m2\u001b[0m\u001b[0;34m]\u001b[0m\u001b[0;34m)\u001b[0m\u001b[0;34m\u001b[0m\u001b[0m\n\u001b[0m\u001b[1;32m      4\u001b[0m \u001b[0;32mfor\u001b[0m \u001b[0ma\u001b[0m \u001b[0;32min\u001b[0m \u001b[0mrange\u001b[0m\u001b[0;34m(\u001b[0m\u001b[0;36m0\u001b[0m\u001b[0;34m,\u001b[0m \u001b[0;36m106\u001b[0m\u001b[0;34m)\u001b[0m\u001b[0;34m:\u001b[0m\u001b[0;34m\u001b[0m\u001b[0m\n\u001b[1;32m      5\u001b[0m     \u001b[0;32mfor\u001b[0m \u001b[0mb\u001b[0m \u001b[0;32min\u001b[0m \u001b[0mrange\u001b[0m\u001b[0;34m(\u001b[0m\u001b[0;36m0\u001b[0m\u001b[0;34m,\u001b[0m \u001b[0;36m26\u001b[0m\u001b[0;34m)\u001b[0m\u001b[0;34m:\u001b[0m\u001b[0;34m\u001b[0m\u001b[0m\n",
      "\u001b[0;31mIndexError\u001b[0m: tuple index out of range"
     ]
    }
   ],
   "source": [
    "# radio map prediction\n",
    "idx = 0\n",
    "pci_map_test = np.zeros([26*106, y2.shape[1]-2])\n",
    "for a in range(0, 106):\n",
    "    for b in range(0, 26):\n",
    "        xy = np.array([a, b], np.float)\n",
    "        #print \"data_test.shape[1]==\",data_test.shape[1]\n",
    "        if data_test.shape[1] == 4:\n",
    "            pci_map_test[idx,:] = xy\n",
    "        else: \n",
    "            #xy_dim = np.ndim(xy)\n",
    "            #merge_dim = np.ndim(merge)\n",
    "            pci_map_test[idx,:] = np.hstack((pci_result))\n",
    "\n",
    "        idx = idx+1\n",
    "'''\n",
    "pci_map_pred_np = np.array([pci_map_pred])\n",
    "a_np = np.array([a])\n",
    "\n",
    "#print \"pci_map_pred_np[:2]==\",pci_map_pred_np[:2]\n",
    "np.savetxt('qq.csv', pci_map_pred_np, delimiter=',', fmt='%f')\n",
    "\n",
    "rsrp_map_test = np.hstack((pci_map_test, pci_map_pred_np.T))\n",
    "#print \"323rsrp_map_test==\",rsrp_map_test\n",
    "#rsrp_map_test = np.hstack((pci_map_test, a_np.T))\n",
    "\n",
    "rsrp_map_pred = model_rsrp.predict(rsrp_map_test) \n",
    "rsrp_map_pred_np = np.array([rsrp_map_pred])\n",
    "rsrp_map = np.hstack((pci_map_test, rsrp_map_pred_np.T))\n",
    "rsrp_plot = np.zeros([26, 106])\n",
    "'''"
   ]
  },
  {
   "cell_type": "code",
   "execution_count": 5,
   "metadata": {},
   "outputs": [
    {
     "ename": "NameError",
     "evalue": "name 'rsrp_train' is not defined",
     "output_type": "error",
     "traceback": [
      "\u001b[0;31m---------------------------------------------------------------------------\u001b[0m",
      "\u001b[0;31mNameError\u001b[0m                                 Traceback (most recent call last)",
      "\u001b[0;32m<ipython-input-5-1d28ba641b1e>\u001b[0m in \u001b[0;36m<module>\u001b[0;34m()\u001b[0m\n\u001b[1;32m      1\u001b[0m \u001b[0;31m# rsrp range prediction\u001b[0m\u001b[0;34m\u001b[0m\u001b[0;34m\u001b[0m\u001b[0m\n\u001b[0;32m----> 2\u001b[0;31m \u001b[0mrsrp_pred\u001b[0m \u001b[0;34m=\u001b[0m \u001b[0mMultiOutputRegressor\u001b[0m\u001b[0;34m(\u001b[0m\u001b[0mmodelRegressor\u001b[0m\u001b[0;34m)\u001b[0m\u001b[0;34m.\u001b[0m\u001b[0mfit\u001b[0m\u001b[0;34m(\u001b[0m\u001b[0mrsrp_train\u001b[0m\u001b[0;34m[\u001b[0m\u001b[0;34m:\u001b[0m\u001b[0;34m,\u001b[0m\u001b[0;36m0\u001b[0m\u001b[0;34m:\u001b[0m\u001b[0;34m-\u001b[0m\u001b[0;36m3\u001b[0m\u001b[0;34m]\u001b[0m\u001b[0;34m,\u001b[0m \u001b[0mrsrp_train\u001b[0m\u001b[0;34m[\u001b[0m\u001b[0;34m:\u001b[0m\u001b[0;34m,\u001b[0m\u001b[0;34m-\u001b[0m\u001b[0;36m3\u001b[0m\u001b[0;34m:\u001b[0m\u001b[0;34m-\u001b[0m\u001b[0;36m1\u001b[0m\u001b[0;34m]\u001b[0m\u001b[0;34m)\u001b[0m\u001b[0;34m.\u001b[0m\u001b[0mpredict\u001b[0m\u001b[0;34m(\u001b[0m\u001b[0mdata_test\u001b[0m\u001b[0;34m[\u001b[0m\u001b[0;34m:\u001b[0m\u001b[0;34m,\u001b[0m\u001b[0;36m0\u001b[0m\u001b[0;34m:\u001b[0m\u001b[0;34m-\u001b[0m\u001b[0;36m1\u001b[0m\u001b[0;34m]\u001b[0m\u001b[0;34m)\u001b[0m\u001b[0;34m\u001b[0m\u001b[0m\n\u001b[0m\u001b[1;32m      3\u001b[0m \u001b[0mnp\u001b[0m\u001b[0;34m.\u001b[0m\u001b[0msavetxt\u001b[0m\u001b[0;34m(\u001b[0m\u001b[0;34m'rsrp_pred.csv'\u001b[0m\u001b[0;34m,\u001b[0m \u001b[0mrsrp_pred\u001b[0m\u001b[0;34m,\u001b[0m \u001b[0mdelimiter\u001b[0m\u001b[0;34m=\u001b[0m\u001b[0;34m','\u001b[0m\u001b[0;34m,\u001b[0m \u001b[0mfmt\u001b[0m\u001b[0;34m=\u001b[0m\u001b[0;34m'%f'\u001b[0m\u001b[0;34m)\u001b[0m\u001b[0;34m\u001b[0m\u001b[0m\n",
      "\u001b[0;31mNameError\u001b[0m: name 'rsrp_train' is not defined"
     ]
    }
   ],
   "source": [
    "# rsrp range prediction\n",
    "rsrp_pred = MultiOutputRegressor(modelRegressor).fit(part_rsrp_train[:,0:-3], part_rsrp_train[:,-3:-1]).predict(data_test[:,0:-1])\n",
    "np.savetxt('rsrp_pred.csv', rsrp_pred, delimiter=',', fmt='%f')"
   ]
  },
  {
   "cell_type": "code",
   "execution_count": null,
   "metadata": {},
   "outputs": [],
   "source": []
  }
 ],
 "metadata": {
  "kernelspec": {
   "display_name": "Python 3",
   "language": "python",
   "name": "python3"
  },
  "language_info": {
   "codemirror_mode": {
    "name": "ipython",
    "version": 3
   },
   "file_extension": ".py",
   "mimetype": "text/x-python",
   "name": "python",
   "nbconvert_exporter": "python",
   "pygments_lexer": "ipython3",
   "version": "3.5.0"
  }
 },
 "nbformat": 4,
 "nbformat_minor": 2
}
